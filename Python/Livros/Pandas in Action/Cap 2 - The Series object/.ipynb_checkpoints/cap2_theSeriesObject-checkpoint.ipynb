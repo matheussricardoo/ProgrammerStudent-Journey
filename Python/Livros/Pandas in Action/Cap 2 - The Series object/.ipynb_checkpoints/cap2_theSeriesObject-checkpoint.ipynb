{
 "cells": [
  {
   "cell_type": "markdown",
   "id": "948ac3f0-b19f-4475-b750-d2f837f33225",
   "metadata": {},
   "source": [
    "# Trabalhando com `pd.Series` no Pandas\n",
    "\n",
    "Este documento explica como criar e manipular **Series** no Pandas, que são estruturas de dados unidimensionais semelhantes a listas e dicionários.\n",
    "\n",
    "---\n",
    "\n",
    "## Importando as bibliotecas necessárias\n",
    "### pandas: Biblioteca principal para análise de dados em Python.\n",
    "### numpy: Biblioteca para operações numéricas avançadas.\n"
   ]
  },
  {
   "cell_type": "code",
   "execution_count": null,
   "id": "820e7fc9-2faf-481c-a5b5-1be3042e073a",
   "metadata": {},
   "outputs": [],
   "source": [
    "import pandas as pd\n",
    "import numpy as np"
   ]
  },
  {
   "cell_type": "markdown",
   "id": "59a3a575-7ccc-4c7f-b576-617e58b5fc96",
   "metadata": {},
   "source": [
    "### Cria uma Série vazia.\n",
    "### Normalmente, é necessário passar dados para evitar um aviso de depreciação."
   ]
  },
  {
   "cell_type": "code",
   "execution_count": null,
   "id": "ac3f1b01-c2ab-490c-95a4-3296325e8e19",
   "metadata": {},
   "outputs": [],
   "source": [
    "pd.Series()"
   ]
  },
  {
   "cell_type": "markdown",
   "id": "6f412ad2-83cd-4da1-ab5e-41b99d53ed29",
   "metadata": {},
   "source": [
    "### Cria uma Série de strings, representando sabores de sorvete.\n",
    "### O Pandas atribui índices numéricos automaticamente (0, 1, 2, ...)."
   ]
  },
  {
   "cell_type": "code",
   "execution_count": null,
   "id": "87181411-46c3-4273-9a20-a8f06029a38a",
   "metadata": {},
   "outputs": [],
   "source": [
    "ice_cream_flavors = [\n",
    "    'Chocolate',\n",
    "    'Vanilla',\n",
    "    'Strawberry',\n",
    "    'Rum Raisin',\n",
    "]\n",
    "\n",
    "pd.Series(ice_cream_flavors)"
   ]
  },
  {
   "cell_type": "markdown",
   "id": "1f63cb7a-52e3-41f8-9dff-c3c01cb3d4dc",
   "metadata": {},
   "source": [
    "### Associa os sabores de sorvete aos dias da semana como índices."
   ]
  },
  {
   "cell_type": "code",
   "execution_count": null,
   "id": "9c1e0baf-74cc-43a8-a879-37c8c5fe268c",
   "metadata": {},
   "outputs": [],
   "source": [
    "days_of_week = ('Monday','Wednesday', 'Friday', 'Saturday')\n",
    "pd.Series(ice_cream_flavors, days_of_week)"
   ]
  },
  {
   "cell_type": "markdown",
   "id": "882d8160-df0f-4ffb-939d-ad8e923ee96f",
   "metadata": {},
   "source": [
    "### Cria uma Série de valores booleanos."
   ]
  },
  {
   "cell_type": "code",
   "execution_count": null,
   "id": "d356d270-a72b-438b-9dd5-5486e83a5594",
   "metadata": {},
   "outputs": [],
   "source": [
    "bunch_of_bools = [True, False, False]\n",
    "pd.Series(bunch_of_bools)"
   ]
  },
  {
   "cell_type": "markdown",
   "id": "89436336-e479-48c1-a7c9-8db84f77a2a2",
   "metadata": {},
   "source": [
    "### Cria uma Série de preços de ações, associando valores às etiquetas 'Open' e 'Close'."
   ]
  },
  {
   "cell_type": "code",
   "execution_count": null,
   "id": "bfc32701-9297-4a00-be00-ceae09d964d3",
   "metadata": {},
   "outputs": [],
   "source": [
    "stock_prices = [985.32, 950.44]\n",
    "time_of_day = ['Open', 'Close']\n",
    "\n",
    "pd.Series(stock_prices, time_of_day)"
   ]
  },
  {
   "cell_type": "markdown",
   "id": "74ba72a6-ab57-4d72-8844-8f310c12b3d5",
   "metadata": {},
   "source": [
    "### Cria uma Série de números inteiros com índices automáticos."
   ]
  },
  {
   "cell_type": "code",
   "execution_count": null,
   "id": "52743859-f6f5-4f36-b4d6-3ac1ddfb86ce",
   "metadata": {},
   "outputs": [],
   "source": [
    "lucky_numbers = [4, 8, 15, 16, 23, 42]\n",
    "pd.Series(lucky_numbers)"
   ]
  },
  {
   "cell_type": "markdown",
   "id": "351df3b9-e081-4713-a6fa-d83fc25ddefe",
   "metadata": {},
   "source": [
    "### Cria uma Série de números de ponto flutuante, convertendo automaticamente os inteiros."
   ]
  },
  {
   "cell_type": "code",
   "execution_count": null,
   "id": "5c3f73d0-386a-4d76-a252-7fd1e1d64eac",
   "metadata": {},
   "outputs": [],
   "source": [
    "lucky_numbers = [4, 8, 15, 16, 23, 42]\n",
    "pd.Series(lucky_numbers, dtype = 'float')"
   ]
  },
  {
   "cell_type": "markdown",
   "id": "dfbf0d38-346a-4c92-b81a-968249942e48",
   "metadata": {},
   "source": [
    "### Usa np.nan para representar valores desconhecidos ou ausentes."
   ]
  },
  {
   "cell_type": "code",
   "execution_count": null,
   "id": "2605cffc-9b3d-4cc0-a31e-a626ab77fe57",
   "metadata": {},
   "outputs": [],
   "source": [
    "temperatures = [94, 88, np.nan, 91]\n",
    "pd.Series(temperatures)"
   ]
  },
  {
   "cell_type": "markdown",
   "id": "87c3e050-ff14-486f-bcca-e744e39b1861",
   "metadata": {},
   "source": [
    "### Cria uma Série onde as chaves do dicionário se tornam os índices e os valores representam calorias."
   ]
  },
  {
   "cell_type": "code",
   "execution_count": null,
   "id": "eaa7f94d-b2bb-42ee-ae17-754177fbac70",
   "metadata": {},
   "outputs": [],
   "source": [
    "calorie_info = {\n",
    "    'Cereal': 125,\n",
    "    'Chocolate Bar': 406,\n",
    "    'Ice Cream Sundae': 342,\n",
    "    'Banoffe': 350,\n",
    "}\n",
    "\n",
    "diet = pd.Series(calorie_info)\n",
    "diet"
   ]
  },
  {
   "cell_type": "markdown",
   "id": "92226b1d-3888-47fc-a364-645719db966b",
   "metadata": {},
   "source": [
    "### Cria uma Série de cores, inferindo automaticamente os índices."
   ]
  },
  {
   "cell_type": "code",
   "execution_count": null,
   "id": "12594210-b01e-4478-9140-7222e2d4cb16",
   "metadata": {},
   "outputs": [],
   "source": [
    "pd.Series(data = ('Red', 'Green', 'Blue'))"
   ]
  },
  {
   "cell_type": "markdown",
   "id": "655aeae3-6560-431a-ba80-7cef0beb8782",
   "metadata": {},
   "source": [
    "### Alternativa equivalente, armazenando a tupla em uma variável antes de criar a Série."
   ]
  },
  {
   "cell_type": "code",
   "execution_count": null,
   "id": "080b7a5a-b15b-44f8-9ccb-2fd8a82f2fbc",
   "metadata": {},
   "outputs": [],
   "source": [
    "colors = ('Red', 'Green', 'Blue')\n",
    "pd.Series(colors)"
   ]
  },
  {
   "cell_type": "markdown",
   "id": "658c5a12-4bc5-4773-8416-1603ecd82fc4",
   "metadata": {},
   "source": [
    "### Cria uma Série onde cada elemento é uma tupla, representando valores RGB de cores."
   ]
  },
  {
   "cell_type": "code",
   "execution_count": null,
   "id": "134a5c60-8c6f-4ab8-a36f-56305bfee91f",
   "metadata": {},
   "outputs": [],
   "source": [
    "rgb_colors = [(120, 41, 26), (196, 165, 45)]\n",
    "pd.Series(rgb_colors)"
   ]
  },
  {
   "cell_type": "markdown",
   "id": "de6aa753-21af-47ec-8f24-cbe637716297",
   "metadata": {},
   "source": [
    "### Converte um conjunto (set) para lista antes de criar a Série, pois sets não têm ordem fixa."
   ]
  },
  {
   "cell_type": "code",
   "execution_count": null,
   "id": "b491753f-f100-4bed-9a8c-9373818769f3",
   "metadata": {},
   "outputs": [],
   "source": [
    "my_set = {'Ricky','Bobby'}\n",
    "pd.Series(list(my_set))"
   ]
  },
  {
   "cell_type": "markdown",
   "id": "53fc8371-6636-4cb3-8874-2e5a9e6bddf9",
   "metadata": {},
   "source": [
    "### Gera 10 números inteiros aleatórios entre 1 e 100 usando NumPy."
   ]
  },
  {
   "cell_type": "code",
   "execution_count": null,
   "id": "39070a3d-97f3-4946-bd60-272f137040cc",
   "metadata": {},
   "outputs": [],
   "source": [
    "random_data = np.random.randint(1, 101, 10)\n",
    "random_data"
   ]
  },
  {
   "cell_type": "markdown",
   "id": "7ef95e97-b1ec-4a3c-ab2b-719d5af9da56",
   "metadata": {},
   "source": [
    "### Converte os números aleatórios em uma Série do Pandas."
   ]
  },
  {
   "cell_type": "code",
   "execution_count": null,
   "id": "6a0fc786-0681-4d1f-be7b-cf916bb4ba7a",
   "metadata": {},
   "outputs": [],
   "source": [
    "pd.Series(random_data)"
   ]
  },
  {
   "cell_type": "markdown",
   "id": "7ad0c550-bc5d-4892-8e1e-77441954e632",
   "metadata": {},
   "source": [
    "### Retorna os valores da Series como um array NumPy.\n"
   ]
  },
  {
   "cell_type": "code",
   "execution_count": null,
   "id": "72900fc3-7e46-43a8-a1c3-54d4ccf7ebd6",
   "metadata": {},
   "outputs": [],
   "source": [
    "diet.values"
   ]
  },
  {
   "cell_type": "markdown",
   "id": "37d382eb-d13d-4572-af75-4f7d5faa0348",
   "metadata": {},
   "source": [
    "### Retorna o tipo dos valores armazenados na Series."
   ]
  },
  {
   "cell_type": "code",
   "execution_count": null,
   "id": "734d8f47-5b90-48b7-a798-ce12185a32c7",
   "metadata": {},
   "outputs": [],
   "source": [
    "type(diet.values)"
   ]
  },
  {
   "cell_type": "markdown",
   "id": "9d2be3be-3fb6-4b41-93e2-1563a8023481",
   "metadata": {},
   "source": [
    "### Retorna o índice da Series."
   ]
  },
  {
   "cell_type": "code",
   "execution_count": null,
   "id": "038a7abb-e0c1-4f6d-88c0-65a6d7dbae27",
   "metadata": {},
   "outputs": [],
   "source": [
    "diet.index"
   ]
  },
  {
   "cell_type": "markdown",
   "id": "15392688-c163-4b36-b566-f9b9c4370730",
   "metadata": {},
   "source": [
    "### Retorna o tipo do índice da Series."
   ]
  },
  {
   "cell_type": "code",
   "execution_count": null,
   "id": "7675683f-1d54-4836-b6d0-e0fd26eb9db9",
   "metadata": {},
   "outputs": [],
   "source": [
    "type(diet.index)"
   ]
  },
  {
   "cell_type": "markdown",
   "id": "931a6342-9a24-481e-a3a1-2f20502a4275",
   "metadata": {},
   "source": [
    "### Retorna o número total de elementos na Series."
   ]
  },
  {
   "cell_type": "code",
   "execution_count": null,
   "id": "b02935c9-56a4-46e9-8f7d-27173e403a6a",
   "metadata": {},
   "outputs": [],
   "source": [
    "diet.size"
   ]
  },
  {
   "cell_type": "markdown",
   "id": "416d020a-7f77-4c32-bd2c-46cb298231d6",
   "metadata": {},
   "source": [
    "### Retorna a forma da Series como uma tupla."
   ]
  },
  {
   "cell_type": "code",
   "execution_count": null,
   "id": "ebeabf7e-c942-4c9e-8266-89528dc4dea9",
   "metadata": {},
   "outputs": [],
   "source": [
    "diet.shape"
   ]
  },
  {
   "cell_type": "markdown",
   "id": "ff32ef6f-f722-4af0-b762-a94c886daaf1",
   "metadata": {},
   "source": [
    "### Verifica se todos os valores da Series são únicos."
   ]
  },
  {
   "cell_type": "code",
   "execution_count": null,
   "id": "7dda002d-9cea-4b85-b9b0-130e4c793c02",
   "metadata": {},
   "outputs": [],
   "source": [
    "diet.is_unique"
   ]
  },
  {
   "cell_type": "markdown",
   "id": "ef00798e-deb4-45b4-961a-096cd89dc24a",
   "metadata": {},
   "source": [
    "### Cria uma Series com os valores fornecidos."
   ]
  },
  {
   "cell_type": "code",
   "execution_count": null,
   "id": "089c3cff-427a-4108-9fa1-2ea3874dcfe3",
   "metadata": {},
   "outputs": [],
   "source": [
    "s = pd.Series(data=[1, 2, 3])"
   ]
  },
  {
   "cell_type": "markdown",
   "id": "30da8c4f-aa3f-41a2-9084-6b6df4e56023",
   "metadata": {},
   "source": [
    "### Verifica se os valores da Series estão em ordem crescente."
   ]
  },
  {
   "cell_type": "code",
   "execution_count": null,
   "id": "23e89c0f-e6cc-4931-bf44-73d295707e99",
   "metadata": {},
   "outputs": [],
   "source": [
    "s.is_monotonic_increasing"
   ]
  },
  {
   "cell_type": "markdown",
   "id": "b8126f5c-fd74-4ea6-b385-de7531560327",
   "metadata": {},
   "source": [
    "### Cria uma Series com valores de 0 a 500, com incrementos de 5."
   ]
  },
  {
   "cell_type": "code",
   "execution_count": null,
   "id": "515f6533-558c-47e9-bcf7-08cf6cf40679",
   "metadata": {},
   "outputs": [],
   "source": [
    "values = range(0, 500, 5)\n",
    "nums = pd.Series(data = values)\n",
    "nums"
   ]
  },
  {
   "cell_type": "markdown",
   "id": "e34532ec-5c1f-4644-bbc1-c74542c3c5f3",
   "metadata": {},
   "source": [
    "### Retorna os primeiros 5 elementos da Series."
   ]
  },
  {
   "cell_type": "code",
   "execution_count": null,
   "id": "8441081a-5f7f-4fa9-bb21-5544eff031c9",
   "metadata": {},
   "outputs": [],
   "source": [
    "nums.head()"
   ]
  },
  {
   "cell_type": "markdown",
   "id": "2895ea8e-d363-49e8-8ce8-d2b5999501d1",
   "metadata": {},
   "source": [
    "### Retorna os últimos 5 elementos da Series."
   ]
  },
  {
   "cell_type": "code",
   "execution_count": null,
   "id": "d213c656-15c0-43f6-9fe7-dce0cf8cc88a",
   "metadata": {},
   "outputs": [],
   "source": [
    "nums.tail()"
   ]
  },
  {
   "cell_type": "markdown",
   "id": "dea6bc12-d9d2-4aa4-8aaa-f1a942ae65a5",
   "metadata": {},
   "source": [
    "### Cria uma Series com valores, incluindo NaN."
   ]
  },
  {
   "cell_type": "code",
   "execution_count": null,
   "id": "a6d499d6-54a9-4c3f-81d5-0581a62cd7d4",
   "metadata": {},
   "outputs": [],
   "source": [
    "numbers = pd.Series([1,2,3, np.nan, np.nan, 4, 5])\n",
    "numbers"
   ]
  },
  {
   "cell_type": "markdown",
   "id": "7f331bc5-288a-483b-b8b4-954e349cdb46",
   "metadata": {},
   "source": [
    "### Conta a quantidade de valores não nulos na Series."
   ]
  },
  {
   "cell_type": "code",
   "execution_count": null,
   "id": "5ac7978c-b4c4-48ef-bf38-cab7b05a727e",
   "metadata": {},
   "outputs": [],
   "source": [
    "numbers.count()"
   ]
  },
  {
   "cell_type": "markdown",
   "id": "8500ed76-f4db-40a4-a9ec-00c158a7a8ff",
   "metadata": {},
   "source": [
    "### Conta a quantidade de valores não nulos na Series."
   ]
  },
  {
   "cell_type": "code",
   "execution_count": null,
   "id": "262b665e-437d-4fdf-ab27-6a1272d924fa",
   "metadata": {},
   "outputs": [],
   "source": [
    "numbers.sum()"
   ]
  },
  {
   "cell_type": "markdown",
   "id": "4c420698-7b45-4d44-9b98-ecbcf02a2fe3",
   "metadata": {},
   "source": [
    "### Retorna a soma dos valores da Series, ignorando NaN."
   ]
  },
  {
   "cell_type": "code",
   "execution_count": null,
   "id": "31b009ed-96ab-4670-8382-2dec0b5640e2",
   "metadata": {},
   "outputs": [],
   "source": [
    "numbers.sum(skipna = False)"
   ]
  },
  {
   "cell_type": "markdown",
   "id": "9e525b92-2152-4487-80f5-554752d98aa7",
   "metadata": {},
   "source": [
    "### Retorna a soma dos valores, sem ignorar NaN."
   ]
  },
  {
   "cell_type": "code",
   "execution_count": null,
   "id": "31dd5166-4013-4dbf-8ad5-992f3a6bf3b8",
   "metadata": {},
   "outputs": [],
   "source": [
    "numbers.sum(min_count = 3)"
   ]
  },
  {
   "cell_type": "markdown",
   "id": "da56386d-7937-4d43-b615-f8241d77168c",
   "metadata": {},
   "source": [
    "### Retorna a soma apenas se houver pelo menos 3 valores não nulos."
   ]
  },
  {
   "cell_type": "code",
   "execution_count": null,
   "id": "ec1e385d-84c7-4ca6-92a4-b00befb57852",
   "metadata": {},
   "outputs": [],
   "source": [
    "numbers.product(min_count = 3)"
   ]
  },
  {
   "cell_type": "markdown",
   "id": "fa06b53a-c063-4249-b161-495ca0c27336",
   "metadata": {},
   "source": [
    "### Retorna o produto dos valores, exigindo pelo menos 3 valores não nulos."
   ]
  },
  {
   "cell_type": "code",
   "execution_count": null,
   "id": "9f3e9527-2373-4a28-9dcb-0e50eaaa874f",
   "metadata": {},
   "outputs": [],
   "source": [
    "numbers"
   ]
  },
  {
   "cell_type": "markdown",
   "id": "b8aecd51-3de0-4d6a-8179-c8f385aafe26",
   "metadata": {},
   "source": [
    "### Exibe a Series."
   ]
  },
  {
   "cell_type": "code",
   "execution_count": null,
   "id": "12bc7d60-0f6d-4566-8040-404c52646b3f",
   "metadata": {},
   "outputs": [],
   "source": [
    "numbers.cumsum()"
   ]
  },
  {
   "cell_type": "markdown",
   "id": "81c6158b-908a-4fe7-bf02-dc1e97378bc4",
   "metadata": {},
   "source": [
    "### Retorna a soma acumulativa dos valores da Series."
   ]
  },
  {
   "cell_type": "code",
   "execution_count": null,
   "id": "c5adb901-f75b-4ab6-af49-33065b81e6aa",
   "metadata": {},
   "outputs": [],
   "source": [
    "numbers.cumsum(skipna = False)"
   ]
  },
  {
   "cell_type": "markdown",
   "id": "19c4fe90-0b34-4f3b-bc70-3de226080b34",
   "metadata": {},
   "source": [
    "### Retorna a soma acumulativa, sem ignorar NaN."
   ]
  },
  {
   "cell_type": "code",
   "execution_count": null,
   "id": "9228b324-7267-4590-a7fa-b7a6772d1892",
   "metadata": {},
   "outputs": [],
   "source": [
    "numbers"
   ]
  },
  {
   "cell_type": "markdown",
   "id": "d3b0888a-4598-4f56-a252-f0093338ade5",
   "metadata": {},
   "source": [
    "### Retorna a variação percentual entre valores consecutivos da Series."
   ]
  },
  {
   "cell_type": "code",
   "execution_count": null,
   "id": "be51d0d9-0f28-42ef-a9e9-a578ac92bff6",
   "metadata": {},
   "outputs": [],
   "source": [
    "numbers.pct_change()"
   ]
  },
  {
   "cell_type": "markdown",
   "id": "2a3806f3-ecf2-4819-951f-f47e014e832f",
   "metadata": {},
   "source": [
    "### Calcula a variação percentual entre os elementos de um Series ou DataFrame, ou seja, calcula a diferença percentual entre valores consecutivos.\n",
    "### Calcula a variação percentual, utilizando o método de preenchimento pad (propaga o último valor não nulo para os valores ausentes).\n",
    "### Calcula a variação percentual, utilizando o método de preenchimento ffill (forward fill, propaga o valor não nulo para frente)."
   ]
  },
  {
   "cell_type": "code",
   "execution_count": null,
   "id": "04746150-5265-4690-ad7c-47f1839fff5b",
   "metadata": {},
   "outputs": [],
   "source": [
    "# The three line below are equivalent\n",
    "numbers.pct_change()\n",
    "numbers.pct_change(fill_method = \"pad\")\n",
    "numbers.pct_change(fill_method = \"ffill\")"
   ]
  },
  {
   "cell_type": "markdown",
   "id": "1c936911-8b0f-4fe7-8b37-526efea5d4f2",
   "metadata": {},
   "source": [
    "### Calcula a variação percentual, utilizando o método de preenchimento bfill (backward fill, propaga o valor não nulo para trás).\n",
    "### É equivalente a bfill, propaga os valores não nulos para trás para preencher valores ausentes."
   ]
  },
  {
   "cell_type": "code",
   "execution_count": null,
   "id": "f49155ed-dde1-4dd6-a736-13413a58c30b",
   "metadata": {},
   "outputs": [],
   "source": [
    "# The two lines below are equivalent\n",
    "numbers.pct_change(fill_method = 'bfill')\n",
    "numbers.pct_change(fill_method = 'backfill')"
   ]
  },
  {
   "cell_type": "markdown",
   "id": "6a9de75b-45e2-4f83-8dc9-ba68a949fe01",
   "metadata": {},
   "source": [
    "### Calcula a média dos valores em uma Series ou DataFrame."
   ]
  },
  {
   "cell_type": "code",
   "execution_count": null,
   "id": "d25d3afe-2c53-442e-9f94-46af5427c146",
   "metadata": {},
   "outputs": [],
   "source": [
    "numbers.mean()"
   ]
  },
  {
   "cell_type": "markdown",
   "id": "05b93b48-f7fb-4de4-b214-9d9e8266c546",
   "metadata": {},
   "source": [
    "### Calcula a mediana dos valores em uma Series ou DataFrame."
   ]
  },
  {
   "cell_type": "code",
   "execution_count": null,
   "id": "4f94e983-e560-4030-81a8-68cd2a4fca29",
   "metadata": {},
   "outputs": [],
   "source": [
    "numbers.median()"
   ]
  },
  {
   "cell_type": "markdown",
   "id": "029554b0-ab0d-4cd2-bcba-64a75b624f19",
   "metadata": {},
   "source": [
    "### Calcula o desvio padrão dos valores em uma Series ou DataFrame."
   ]
  },
  {
   "cell_type": "code",
   "execution_count": null,
   "id": "89e137ff-564d-4a90-85b0-e7cd9290bd64",
   "metadata": {},
   "outputs": [],
   "source": [
    "numbers.std()"
   ]
  },
  {
   "cell_type": "markdown",
   "id": "551f6f0a-3b21-4259-8331-edb4d677a66a",
   "metadata": {},
   "source": [
    "### Retorna o valor máximo da Series ou DataFrame."
   ]
  },
  {
   "cell_type": "code",
   "execution_count": null,
   "id": "fb326eb4-df2c-46f4-a4e5-a7d62054c00e",
   "metadata": {},
   "outputs": [],
   "source": [
    "numbers.max()"
   ]
  },
  {
   "cell_type": "markdown",
   "id": "404f75cd-6355-4541-bdcf-d2d2e3873ea1",
   "metadata": {},
   "source": [
    "### Retorna o valor mínimo da Series ou DataFrame."
   ]
  },
  {
   "cell_type": "code",
   "execution_count": null,
   "id": "a9292c14-8b09-43e0-8cae-5beb2ca890e4",
   "metadata": {},
   "outputs": [],
   "source": [
    "numbers.min()"
   ]
  },
  {
   "cell_type": "markdown",
   "id": "413f86d6-d4a0-4140-909b-11d9ad37e009",
   "metadata": {},
   "source": [
    "### Cria uma Series com os nomes dos animais \"koala\", \"aardvark\" e \"zebra\".\n",
    "### Exibe a Series de animais criada."
   ]
  },
  {
   "cell_type": "code",
   "execution_count": null,
   "id": "64a0ae55-241c-4604-86dc-682b8bc85bfe",
   "metadata": {},
   "outputs": [],
   "source": [
    "animals = pd.Series(['koala', 'aardvark', 'zebra'])\n",
    "animals"
   ]
  },
  {
   "cell_type": "markdown",
   "id": "ec7f07df-b68a-4e06-92be-286955340d82",
   "metadata": {},
   "source": [
    "### Retorna o valor máximo da Series de animais, baseado na ordem lexicográfica (alfabética)."
   ]
  },
  {
   "cell_type": "code",
   "execution_count": null,
   "id": "8a9254c4-15b3-4835-b390-e6723a505ff3",
   "metadata": {},
   "outputs": [],
   "source": [
    "animals.max()"
   ]
  },
  {
   "cell_type": "markdown",
   "id": "7ce2c8e4-0da6-4189-9f3c-b48acd416ae1",
   "metadata": {},
   "source": [
    "### Retorna o valor mínimo da Series de animais, baseado na ordem lexicográfica."
   ]
  },
  {
   "cell_type": "code",
   "execution_count": null,
   "id": "03b0a91e-a12f-4287-bcf6-baefeb72eb89",
   "metadata": {},
   "outputs": [],
   "source": [
    "animals.min()"
   ]
  },
  {
   "cell_type": "markdown",
   "id": "2cfe0b04-f1bf-4b94-8457-f94cec378562",
   "metadata": {},
   "source": [
    "### Gera um resumo estatístico da Series ou DataFrame, como média, desvio padrão, mínimo, máximo e quartis."
   ]
  },
  {
   "cell_type": "code",
   "execution_count": null,
   "id": "bf647eaa-235e-48cd-b322-5e51b2706742",
   "metadata": {},
   "outputs": [],
   "source": [
    "numbers.describe()"
   ]
  },
  {
   "cell_type": "markdown",
   "id": "618501ea-4ac6-488d-90ed-d48a30d24d07",
   "metadata": {},
   "source": [
    "### Seleciona aleatoriamente 3 elementos da Series ou DataFrame."
   ]
  },
  {
   "cell_type": "code",
   "execution_count": null,
   "id": "4c53216f-7d62-46ac-ab09-89fdf16e0e1c",
   "metadata": {},
   "outputs": [],
   "source": [
    "numbers.sample(3)"
   ]
  },
  {
   "cell_type": "markdown",
   "id": "0de5face-faa4-4c5d-9481-302205d047e4",
   "metadata": {},
   "source": [
    "### Cria uma Series com os nomes de autores.\n",
    "### Retorna os valores únicos da Series de autores."
   ]
  },
  {
   "cell_type": "code",
   "execution_count": null,
   "id": "16a6d4d0-ab9f-4e9d-9908-c463cc3639f1",
   "metadata": {},
   "outputs": [],
   "source": [
    "authors = pd.Series(['Hemingway', 'Orwell', 'Dostoevsky', 'Fitzgerald', 'Orwell'])\n",
    "authors.unique()"
   ]
  },
  {
   "cell_type": "markdown",
   "id": "59fd8229-42f2-4dc7-af46-0b3a06484d2f",
   "metadata": {},
   "source": [
    "### Cria uma Series com valores [5, np.nan, 15] e índices ['A', 'B', 'C']."
   ]
  },
  {
   "cell_type": "code",
   "execution_count": null,
   "id": "6db0fe94-99d7-495b-924a-90422b430663",
   "metadata": {},
   "outputs": [],
   "source": [
    "s1 = pd.Series(data = [5, np.nan, 15], index = ['A', 'B', 'C'])\n",
    "s1"
   ]
  },
  {
   "cell_type": "markdown",
   "id": "0225992e-fc30-4264-b212-1e19bb6eca7f",
   "metadata": {},
   "source": [
    "### Soma 3 a cada valor da Series s1."
   ]
  },
  {
   "cell_type": "code",
   "execution_count": null,
   "id": "99325382-5b0d-4104-a7ce-f3712affe9c1",
   "metadata": {},
   "outputs": [],
   "source": [
    "s1 + 3"
   ]
  },
  {
   "cell_type": "markdown",
   "id": "4ba13aee-c1e5-4bc3-8c6f-c86b3b8ac4bf",
   "metadata": {},
   "source": [
    "### Soma 3 a cada valor da Series s1 de forma equivalente a s1 + 3."
   ]
  },
  {
   "cell_type": "code",
   "execution_count": null,
   "id": "3e5adc94-b13a-4f01-9a09-2dfd9f00570e",
   "metadata": {},
   "outputs": [],
   "source": [
    "s1.add(3)"
   ]
  },
  {
   "cell_type": "markdown",
   "id": "d85cab7e-9b0e-42e9-b9cf-4f8e99646e76",
   "metadata": {},
   "source": [
    "### Subtrai 5 de cada valor da Series s1.\n",
    "### Subtrai 5 de cada valor da Series s1, equivalente a s1 - 5.\n",
    "### Outra forma de subtrair 5 de cada valor da Series s1."
   ]
  },
  {
   "cell_type": "code",
   "execution_count": null,
   "id": "35146dce-7236-4c9f-8553-f77531277c13",
   "metadata": {},
   "outputs": [],
   "source": [
    "# The three lines below are equivalent.\n",
    "\n",
    "s1 - 5\n",
    "s1.sub(5)\n",
    "s1.subtract(5)"
   ]
  },
  {
   "cell_type": "markdown",
   "id": "cda94014-8e74-4873-8c27-2cffa63127e3",
   "metadata": {},
   "source": [
    "### Multiplica cada valor da Series s1 por 2.\n",
    "### Multiplica cada valor da Series s1 por 2, equivalente a s1 * 2.\n",
    "### Outra forma de multiplicar cada valor da Series s1 por 2."
   ]
  },
  {
   "cell_type": "code",
   "execution_count": null,
   "id": "9c7d7a36-d21a-4b4d-bbdf-c054565ba0ba",
   "metadata": {},
   "outputs": [],
   "source": [
    "# The three lines below are equivalent\n",
    "s1 * 2\n",
    "s1.mul(2)\n",
    "s1.multiply(2)"
   ]
  },
  {
   "cell_type": "markdown",
   "id": "cf0fed43-1e10-4d94-ae34-7c9cc1268a76",
   "metadata": {},
   "source": [
    "### Divide cada valor da Series s1 por 2.\n",
    "### Divide cada valor da Series s1 por 2, equivalente a s1 / 2.\n",
    "### Outra forma de dividir cada valor da Series s1 por 2."
   ]
  },
  {
   "cell_type": "code",
   "execution_count": null,
   "id": "d70bb276-cb1b-4a36-bc7e-8bd6b95e06c8",
   "metadata": {},
   "outputs": [],
   "source": [
    "# The threes lines belo are equivalent\n",
    "s1 / 2\n",
    "s1.div(2)\n",
    "s1.divide(2)"
   ]
  },
  {
   "cell_type": "markdown",
   "id": "73a6b236-bae0-4a6c-8fab-5ca79507fbb8",
   "metadata": {},
   "source": [
    "### Realiza a divisão inteira de cada valor da Series s1 por 4.\n",
    "### Outra forma de realizar a divisão inteira de cada valor da Series s1 por 4."
   ]
  },
  {
   "cell_type": "code",
   "execution_count": null,
   "id": "4703b423-4000-4090-99e1-af6740c06840",
   "metadata": {},
   "outputs": [],
   "source": [
    "# The two lines belo are equivalent\n",
    "s1 // 4\n",
    "s1.floordiv(4)"
   ]
  },
  {
   "cell_type": "markdown",
   "id": "99c07797-789b-4228-8e2d-871aeb26bd7d",
   "metadata": {},
   "source": [
    "### Cria uma Series com valores [1, 2, 3] e índices ['A', 'B', 'C'].\n",
    "### Cria uma Series com valores [4, 5, 6] e índices ['A', 'B', 'C']."
   ]
  },
  {
   "cell_type": "code",
   "execution_count": null,
   "id": "6a1140f9-071c-42b8-9cd7-584334afd617",
   "metadata": {},
   "outputs": [],
   "source": [
    "s1 = pd.Series([1, 2, 3], index = ['A', 'B', 'C'])\n",
    "s2 = pd.Series([4, 5, 6], index = ['A', 'B', 'C'])"
   ]
  },
  {
   "cell_type": "markdown",
   "id": "69c92657-99a1-4d0f-8068-bcb2c80ab6b6",
   "metadata": {},
   "source": [
    "### Compara se os valores das duas Series s1 e s2 são iguais.\n",
    "### Verifica se os valores da Series s1 são iguais a 2."
   ]
  },
  {
   "cell_type": "code",
   "execution_count": null,
   "id": "f306c39b-1785-4f69-8116-4944366a14b2",
   "metadata": {},
   "outputs": [],
   "source": [
    "# The two lines below are equivvalent\n",
    "s1 == s2\n",
    "s1.eq(2)"
   ]
  },
  {
   "cell_type": "markdown",
   "id": "5de6873f-0334-4c40-ba82-aef7c48ac9e1",
   "metadata": {},
   "source": [
    "### Compara se os valores das duas Series s1 e s2 são diferentes.\n",
    "### Outra forma de verificar se os valores das Series s1 e s2 são diferentes"
   ]
  },
  {
   "cell_type": "code",
   "execution_count": null,
   "id": "e9b01910-4bcd-4d32-a95f-e8ac7659724f",
   "metadata": {},
   "outputs": [],
   "source": [
    "# The two lines below are equivalent\n",
    "s1 != s2\n",
    "s1.ne(s2)"
   ]
  },
  {
   "cell_type": "markdown",
   "id": "9804ecdb-eadb-489e-99ed-08b075dcf932",
   "metadata": {},
   "source": [
    "### Cria uma Series com os nomes de cidades."
   ]
  },
  {
   "cell_type": "code",
   "execution_count": null,
   "id": "c0d8f8c3-cad9-4158-916a-0ad8bd960c7e",
   "metadata": {},
   "outputs": [],
   "source": [
    "cities = pd.Series(data = ['San Francisco', 'Los Angeles', 'Las vegas', np.nan])"
   ]
  },
  {
   "cell_type": "markdown",
   "id": "3d1e4c5b-69c2-4375-a844-ff92508782fe",
   "metadata": {},
   "source": [
    "### Retorna o número de elementos na Series cities."
   ]
  },
  {
   "cell_type": "code",
   "execution_count": null,
   "id": "350b4cdd-bb85-4fd8-b39b-8d78318e8e4d",
   "metadata": {},
   "outputs": [],
   "source": [
    "len(cities)"
   ]
  },
  {
   "cell_type": "markdown",
   "id": "1a921f06-d96f-4352-a88a-3995041ea622",
   "metadata": {},
   "source": [
    "### Retorna o tipo da variável cities."
   ]
  },
  {
   "cell_type": "code",
   "execution_count": null,
   "id": "95496a78-7619-4cb5-80d4-60723df55e46",
   "metadata": {},
   "outputs": [],
   "source": [
    "type(cities)"
   ]
  },
  {
   "cell_type": "markdown",
   "id": "daeb6649-e625-43b7-99ab-f351d0262828",
   "metadata": {},
   "source": [
    "### Retorna a lista de atributos e métodos disponíveis para a Series cities."
   ]
  },
  {
   "cell_type": "code",
   "execution_count": null,
   "id": "aa07ffdf-d3cc-4a11-b450-68b987ea3b77",
   "metadata": {},
   "outputs": [],
   "source": [
    "dir(cities)"
   ]
  },
  {
   "cell_type": "markdown",
   "id": "50d6e872-8578-4b38-9308-64be8f80c433",
   "metadata": {},
   "source": [
    "### Converte a Series cities em uma lista."
   ]
  },
  {
   "cell_type": "code",
   "execution_count": null,
   "id": "a499ef5e-ac5a-4f91-88b0-6eac5afd0fb6",
   "metadata": {},
   "outputs": [],
   "source": [
    "list(cities)"
   ]
  },
  {
   "cell_type": "markdown",
   "id": "297f03c0-3462-4a0b-9dc1-ef19d04317fe",
   "metadata": {},
   "source": [
    "### Converte a Series cities em um dicionário."
   ]
  },
  {
   "cell_type": "code",
   "execution_count": null,
   "id": "0e812ea6-11a9-475d-a778-d34d413bb272",
   "metadata": {},
   "outputs": [],
   "source": [
    "dict(cities)"
   ]
  },
  {
   "cell_type": "markdown",
   "id": "b3f961fe-18c3-4d6f-9eb3-737ea438b02f",
   "metadata": {},
   "source": [
    "### Verifica se o valor 0 não está presente na Series cities."
   ]
  },
  {
   "cell_type": "code",
   "execution_count": null,
   "id": "e8f73c2c-6327-4835-bedb-e6abfbafb664",
   "metadata": {},
   "outputs": [],
   "source": [
    "0 not in cities"
   ]
  },
  {
   "cell_type": "markdown",
   "id": "6d34c91d-6cd1-45e5-80a7-95bead27d6dc",
   "metadata": {},
   "source": [
    "### Verifica se a cidade \"Los Angeles\" não está nos valores da Series cities."
   ]
  },
  {
   "cell_type": "code",
   "execution_count": null,
   "id": "c45ad6e0-e9a6-4dc5-9f71-a5e73931c481",
   "metadata": {},
   "outputs": [],
   "source": [
    "'Los Angeles' not in cities.values"
   ]
  },
  {
   "cell_type": "markdown",
   "id": "324b8689-75f9-42b4-ad68-466a0cc2cf7f",
   "metadata": {},
   "source": [
    "### Cria uma lista de super-heróis."
   ]
  },
  {
   "cell_type": "code",
   "execution_count": null,
   "id": "a35dd536-d284-4fd6-a45f-4eeeebdc7071",
   "metadata": {},
   "outputs": [],
   "source": [
    "superheroes = [\n",
    "    'Batman',\n",
    "    'Superman',\n",
    "    'Spider-Man',\n",
    "    'Iron Man',\n",
    "    'Captain America',\n",
    "    'Wonder Woman'\n",
    "]"
   ]
  },
  {
   "cell_type": "markdown",
   "id": "fc753ed0-308e-47dc-8491-d1e609f85c46",
   "metadata": {},
   "source": [
    "### Cria uma tupla com os níveis de força dos super-heróis."
   ]
  },
  {
   "cell_type": "code",
   "execution_count": null,
   "id": "733246ee-99da-4b84-836b-36b099831f35",
   "metadata": {},
   "outputs": [],
   "source": [
    "strength_levels = (100, 120, 90, 95, 110, 120)"
   ]
  },
  {
   "cell_type": "markdown",
   "id": "9ebfc373-c41b-4d9f-8579-7fb02f9c7e58",
   "metadata": {},
   "source": [
    "### Cria uma Series com os níveis de força como valores."
   ]
  },
  {
   "cell_type": "code",
   "execution_count": null,
   "id": "4d7aecc4-f91c-48da-a329-6e636b746aa0",
   "metadata": {},
   "outputs": [],
   "source": [
    "# Ex 1 - Use the list of superheroes to populate a new Series object.\n",
    "new_obj = pd.Series(superheroes)"
   ]
  },
  {
   "cell_type": "markdown",
   "id": "6007ffe0-e8ff-4f56-9ac6-88c096d51bf9",
   "metadata": {},
   "source": [
    "### Mostra o new_obj "
   ]
  },
  {
   "cell_type": "code",
   "execution_count": null,
   "id": "a1d11317-c449-4351-9aba-e16729e0347b",
   "metadata": {},
   "outputs": [],
   "source": [
    "print(new_obj)"
   ]
  },
  {
   "cell_type": "markdown",
   "id": "20fb4e5b-a157-4a3a-9cad-fbddfbf10820",
   "metadata": {},
   "source": [
    "### Cria uma Series com os níveis de força como valores. E mostra na tela"
   ]
  },
  {
   "cell_type": "code",
   "execution_count": null,
   "id": "0d64e864-c881-4f5c-ad5c-fffe2e97dbfb",
   "metadata": {},
   "outputs": [],
   "source": [
    "# Ex 2 - Use the tuple of strengths to populate a new Series object.\n",
    "new_obj_strength = pd.Series(strength_levels)\n",
    "print(new_obj_strength)"
   ]
  },
  {
   "cell_type": "markdown",
   "id": "1ac0b3e9-1d6f-4ce3-86b6-fffbcfd1f288",
   "metadata": {},
   "source": [
    "### Cria uma Series onde os super-heróis são usados como índice e os níveis de força como valores. E mostra na tela"
   ]
  },
  {
   "cell_type": "code",
   "execution_count": null,
   "id": "ec99542e-cde6-4355-b4c2-723377edc9ac",
   "metadata": {},
   "outputs": [],
   "source": [
    "# Ex 3 - Create a Series with the superheroes as index labels and the strength levels as the values. Assign the Series to a heroes variable.\n",
    "heroes = pd.Series(superheroes, strength_levels)\n",
    "print(heroes)"
   ]
  },
  {
   "cell_type": "markdown",
   "id": "c9a400dd-22e5-43a3-9815-6a61685155ab",
   "metadata": {},
   "source": [
    "### Extrai as duas primeiras linhas da Series heroes."
   ]
  },
  {
   "cell_type": "code",
   "execution_count": null,
   "id": "15ef19e1-05d0-437d-828d-1fb35ee75d0b",
   "metadata": {},
   "outputs": [],
   "source": [
    "# Ex 4 - Extract the first two rows of the heroes Series\n",
    "heroes.head(2)"
   ]
  },
  {
   "cell_type": "markdown",
   "id": "3265862b-9378-4daa-8a04-2d126d5af113",
   "metadata": {},
   "source": [
    "### Obtém os valores únicos dos níveis de força dos heróis.\n",
    "### Imprime o número de valores únicos dos níveis de força."
   ]
  },
  {
   "cell_type": "code",
   "execution_count": null,
   "id": "efebd925-c23d-4e72-abca-592359a75561",
   "metadata": {},
   "outputs": [],
   "source": [
    "# Ex 5 - Determine the number of unique values in your heroes Series.\n",
    "cont = heroes.unique()\n",
    "print(len(cont))"
   ]
  },
  {
   "cell_type": "markdown",
   "id": "b8ec67ab-e2c9-4bff-ad49-1ea6815b1c43",
   "metadata": {},
   "source": [
    "### Calcula a quantidade de valores únicos dos níveis de força.\n",
    "### Inicializa a variável soma para calcular a soma dos níveis de força.\n",
    "### Soma os valores dos índices (níveis de força) da Series heroes.\n",
    "### Calcula a média dos níveis de força.\n",
    "### Imprime a média de força dos heróis."
   ]
  },
  {
   "cell_type": "code",
   "execution_count": null,
   "id": "6a8db159-3703-4270-9208-03a951ea800d",
   "metadata": {},
   "outputs": [],
   "source": [
    "# Ex 6 - Calculate the average strength of the superheroes in heroes.\n",
    "qtd = len(cont)\n",
    "soma = 0\n",
    "for i in heroes.keys():\n",
    "    soma += i\n",
    "avg = soma / qtd\n",
    "print(f'A média de forca dos heróis é: {avg:.2f}')"
   ]
  },
  {
   "cell_type": "markdown",
   "id": "836b1b22-27a5-4330-bfa3-5a195c3b223d",
   "metadata": {},
   "source": [
    "### Imprime o valor máximo de força dos heróis.\n",
    "### Imprime o valor mínimo de força dos heróis."
   ]
  },
  {
   "cell_type": "code",
   "execution_count": null,
   "id": "b4cbef3f-4d04-412d-8d66-0339ea74c35f",
   "metadata": {},
   "outputs": [],
   "source": [
    "# Ex 7 - Calculate the maximum and minimum strengths in heroes.\n",
    "print(f'O maior valor de forca é: {heroes.keys().max()}')\n",
    "print(f'O menor valor de forca é: {heroes.keys().min()}')"
   ]
  },
  {
   "cell_type": "markdown",
   "id": "4770d60c-4120-4deb-be98-61052ab499c9",
   "metadata": {},
   "source": [
    "### Calcula o dobro dos valores de força dos heróis.\n",
    "### Imprime os valores de força dobrados."
   ]
  },
  {
   "cell_type": "code",
   "execution_count": null,
   "id": "ee4848df-0739-4909-b394-af4819c09225",
   "metadata": {},
   "outputs": [],
   "source": [
    "# Ex 8 - Calculate what each superhero’s strength level would be if it doubled.\n",
    "forca = [i * 2 for i in heroes.keys()]\n",
    "print(f'As forcas dos heróis seria:\\n{forca}')"
   ]
  },
  {
   "cell_type": "markdown",
   "id": "d55ebe7a-7648-4ef5-92f4-9ba196e1be07",
   "metadata": {},
   "source": [
    "### Converte a Series heroes para um dicionário."
   ]
  },
  {
   "cell_type": "code",
   "execution_count": null,
   "id": "1c03f37f-1103-482a-8251-84066e4f8213",
   "metadata": {},
   "outputs": [],
   "source": [
    "# Ex 9 - Convert the heroes Series to a Python dictionary.\n",
    "dict(heroes)"
   ]
  }
 ],
 "metadata": {
  "kernelspec": {
   "display_name": "Python [conda env:base] *",
   "language": "python",
   "name": "conda-base-py"
  },
  "language_info": {
   "codemirror_mode": {
    "name": "ipython",
    "version": 3
   },
   "file_extension": ".py",
   "mimetype": "text/x-python",
   "name": "python",
   "nbconvert_exporter": "python",
   "pygments_lexer": "ipython3",
   "version": "3.12.7"
  }
 },
 "nbformat": 4,
 "nbformat_minor": 5
}
