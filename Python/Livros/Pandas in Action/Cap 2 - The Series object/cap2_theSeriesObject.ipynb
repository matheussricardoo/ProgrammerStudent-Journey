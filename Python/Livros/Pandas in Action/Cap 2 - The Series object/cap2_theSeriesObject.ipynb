{
 "cells": [
  {
   "cell_type": "markdown",
   "id": "948ac3f0-b19f-4475-b750-d2f837f33225",
   "metadata": {},
   "source": [
    "# Trabalhando com `pd.Series` no Pandas\n",
    "\n",
    "Este documento explica como criar e manipular **Series** no Pandas, que são estruturas de dados unidimensionais semelhantes a listas e dicionários.\n",
    "\n",
    "---\n",
    "\n",
    "## Importando as bibliotecas necessárias\n",
    "### pandas: Biblioteca principal para análise de dados em Python.\n",
    "### numpy: Biblioteca para operações numéricas avançadas.\n"
   ]
  },
  {
   "cell_type": "code",
   "execution_count": 91,
   "id": "820e7fc9-2faf-481c-a5b5-1be3042e073a",
   "metadata": {},
   "outputs": [],
   "source": [
    "import pandas as pd\n",
    "import numpy as np"
   ]
  },
  {
   "cell_type": "markdown",
   "id": "59a3a575-7ccc-4c7f-b576-617e58b5fc96",
   "metadata": {},
   "source": [
    "### Cria uma Série vazia.\n",
    "### Normalmente, é necessário passar dados para evitar um aviso de depreciação."
   ]
  },
  {
   "cell_type": "code",
   "execution_count": 93,
   "id": "ac3f1b01-c2ab-490c-95a4-3296325e8e19",
   "metadata": {},
   "outputs": [
    {
     "data": {
      "text/plain": [
       "Series([], dtype: object)"
      ]
     },
     "execution_count": 93,
     "metadata": {},
     "output_type": "execute_result"
    }
   ],
   "source": [
    "pd.Series()"
   ]
  },
  {
   "cell_type": "markdown",
   "id": "6f412ad2-83cd-4da1-ab5e-41b99d53ed29",
   "metadata": {},
   "source": [
    "### Cria uma Série de strings, representando sabores de sorvete.\n",
    "### O Pandas atribui índices numéricos automaticamente (0, 1, 2, ...)."
   ]
  },
  {
   "cell_type": "code",
   "execution_count": 95,
   "id": "87181411-46c3-4273-9a20-a8f06029a38a",
   "metadata": {},
   "outputs": [
    {
     "data": {
      "text/plain": [
       "0     Chocolate\n",
       "1       Vanilla\n",
       "2    Strawberry\n",
       "3    Rum Raisin\n",
       "dtype: object"
      ]
     },
     "execution_count": 95,
     "metadata": {},
     "output_type": "execute_result"
    }
   ],
   "source": [
    "ice_cream_flavors = [\n",
    "    'Chocolate',\n",
    "    'Vanilla',\n",
    "    'Strawberry',\n",
    "    'Rum Raisin',\n",
    "]\n",
    "\n",
    "pd.Series(ice_cream_flavors)"
   ]
  },
  {
   "cell_type": "markdown",
   "id": "1f63cb7a-52e3-41f8-9dff-c3c01cb3d4dc",
   "metadata": {},
   "source": [
    "### Associa os sabores de sorvete aos dias da semana como índices."
   ]
  },
  {
   "cell_type": "code",
   "execution_count": 97,
   "id": "9c1e0baf-74cc-43a8-a879-37c8c5fe268c",
   "metadata": {},
   "outputs": [
    {
     "data": {
      "text/plain": [
       "Monday        Chocolate\n",
       "Wednesday       Vanilla\n",
       "Friday       Strawberry\n",
       "Saturday     Rum Raisin\n",
       "dtype: object"
      ]
     },
     "execution_count": 97,
     "metadata": {},
     "output_type": "execute_result"
    }
   ],
   "source": [
    "days_of_week = ('Monday','Wednesday', 'Friday', 'Saturday')\n",
    "pd.Series(ice_cream_flavors, days_of_week)"
   ]
  },
  {
   "cell_type": "markdown",
   "id": "882d8160-df0f-4ffb-939d-ad8e923ee96f",
   "metadata": {},
   "source": [
    "### Cria uma Série de valores booleanos."
   ]
  },
  {
   "cell_type": "code",
   "execution_count": 99,
   "id": "d356d270-a72b-438b-9dd5-5486e83a5594",
   "metadata": {},
   "outputs": [
    {
     "data": {
      "text/plain": [
       "0     True\n",
       "1    False\n",
       "2    False\n",
       "dtype: bool"
      ]
     },
     "execution_count": 99,
     "metadata": {},
     "output_type": "execute_result"
    }
   ],
   "source": [
    "bunch_of_bools = [True, False, False]\n",
    "pd.Series(bunch_of_bools)"
   ]
  },
  {
   "cell_type": "markdown",
   "id": "89436336-e479-48c1-a7c9-8db84f77a2a2",
   "metadata": {},
   "source": [
    "### Cria uma Série de preços de ações, associando valores às etiquetas 'Open' e 'Close'."
   ]
  },
  {
   "cell_type": "code",
   "execution_count": 101,
   "id": "bfc32701-9297-4a00-be00-ceae09d964d3",
   "metadata": {},
   "outputs": [
    {
     "data": {
      "text/plain": [
       "Open     985.32\n",
       "Close    950.44\n",
       "dtype: float64"
      ]
     },
     "execution_count": 101,
     "metadata": {},
     "output_type": "execute_result"
    }
   ],
   "source": [
    "stock_prices = [985.32, 950.44]\n",
    "time_of_day = ['Open', 'Close']\n",
    "\n",
    "pd.Series(stock_prices, time_of_day)"
   ]
  },
  {
   "cell_type": "markdown",
   "id": "74ba72a6-ab57-4d72-8844-8f310c12b3d5",
   "metadata": {},
   "source": [
    "### Cria uma Série de números inteiros com índices automáticos."
   ]
  },
  {
   "cell_type": "code",
   "execution_count": 103,
   "id": "52743859-f6f5-4f36-b4d6-3ac1ddfb86ce",
   "metadata": {},
   "outputs": [
    {
     "data": {
      "text/plain": [
       "0     4\n",
       "1     8\n",
       "2    15\n",
       "3    16\n",
       "4    23\n",
       "5    42\n",
       "dtype: int64"
      ]
     },
     "execution_count": 103,
     "metadata": {},
     "output_type": "execute_result"
    }
   ],
   "source": [
    "lucky_numbers = [4, 8, 15, 16, 23, 42]\n",
    "pd.Series(lucky_numbers)"
   ]
  },
  {
   "cell_type": "markdown",
   "id": "351df3b9-e081-4713-a6fa-d83fc25ddefe",
   "metadata": {},
   "source": [
    "### Cria uma Série de números de ponto flutuante, convertendo automaticamente os inteiros."
   ]
  },
  {
   "cell_type": "code",
   "execution_count": 105,
   "id": "5c3f73d0-386a-4d76-a252-7fd1e1d64eac",
   "metadata": {},
   "outputs": [
    {
     "data": {
      "text/plain": [
       "0     4.0\n",
       "1     8.0\n",
       "2    15.0\n",
       "3    16.0\n",
       "4    23.0\n",
       "5    42.0\n",
       "dtype: float64"
      ]
     },
     "execution_count": 105,
     "metadata": {},
     "output_type": "execute_result"
    }
   ],
   "source": [
    "lucky_numbers = [4, 8, 15, 16, 23, 42]\n",
    "pd.Series(lucky_numbers, dtype = 'float')"
   ]
  },
  {
   "cell_type": "markdown",
   "id": "dfbf0d38-346a-4c92-b81a-968249942e48",
   "metadata": {},
   "source": [
    "### Usa np.nan para representar valores desconhecidos ou ausentes."
   ]
  },
  {
   "cell_type": "code",
   "execution_count": 107,
   "id": "2605cffc-9b3d-4cc0-a31e-a626ab77fe57",
   "metadata": {},
   "outputs": [
    {
     "data": {
      "text/plain": [
       "0    94.0\n",
       "1    88.0\n",
       "2     NaN\n",
       "3    91.0\n",
       "dtype: float64"
      ]
     },
     "execution_count": 107,
     "metadata": {},
     "output_type": "execute_result"
    }
   ],
   "source": [
    "temperatures = [94, 88, np.nan, 91]\n",
    "pd.Series(temperatures)"
   ]
  },
  {
   "cell_type": "markdown",
   "id": "87c3e050-ff14-486f-bcca-e744e39b1861",
   "metadata": {},
   "source": [
    "### Cria uma Série onde as chaves do dicionário se tornam os índices e os valores representam calorias."
   ]
  },
  {
   "cell_type": "code",
   "execution_count": 109,
   "id": "eaa7f94d-b2bb-42ee-ae17-754177fbac70",
   "metadata": {},
   "outputs": [
    {
     "data": {
      "text/plain": [
       "Cereal              125\n",
       "Chocolate Bar       406\n",
       "Ice Cream Sundae    342\n",
       "Banoffe             350\n",
       "dtype: int64"
      ]
     },
     "execution_count": 109,
     "metadata": {},
     "output_type": "execute_result"
    }
   ],
   "source": [
    "calorie_info = {\n",
    "    'Cereal': 125,\n",
    "    'Chocolate Bar': 406,\n",
    "    'Ice Cream Sundae': 342,\n",
    "    'Banoffe': 350,\n",
    "}\n",
    "\n",
    "diet = pd.Series(calorie_info)\n",
    "diet"
   ]
  },
  {
   "cell_type": "markdown",
   "id": "92226b1d-3888-47fc-a364-645719db966b",
   "metadata": {},
   "source": [
    "### Cria uma Série de cores, inferindo automaticamente os índices."
   ]
  },
  {
   "cell_type": "code",
   "execution_count": 111,
   "id": "12594210-b01e-4478-9140-7222e2d4cb16",
   "metadata": {},
   "outputs": [
    {
     "data": {
      "text/plain": [
       "0      Red\n",
       "1    Green\n",
       "2     Blue\n",
       "dtype: object"
      ]
     },
     "execution_count": 111,
     "metadata": {},
     "output_type": "execute_result"
    }
   ],
   "source": [
    "pd.Series(data = ('Red', 'Green', 'Blue'))"
   ]
  },
  {
   "cell_type": "markdown",
   "id": "655aeae3-6560-431a-ba80-7cef0beb8782",
   "metadata": {},
   "source": [
    "### Alternativa equivalente, armazenando a tupla em uma variável antes de criar a Série."
   ]
  },
  {
   "cell_type": "code",
   "execution_count": 113,
   "id": "080b7a5a-b15b-44f8-9ccb-2fd8a82f2fbc",
   "metadata": {},
   "outputs": [
    {
     "data": {
      "text/plain": [
       "0      Red\n",
       "1    Green\n",
       "2     Blue\n",
       "dtype: object"
      ]
     },
     "execution_count": 113,
     "metadata": {},
     "output_type": "execute_result"
    }
   ],
   "source": [
    "colors = ('Red', 'Green', 'Blue')\n",
    "pd.Series(colors)"
   ]
  },
  {
   "cell_type": "markdown",
   "id": "658c5a12-4bc5-4773-8416-1603ecd82fc4",
   "metadata": {},
   "source": [
    "### Cria uma Série onde cada elemento é uma tupla, representando valores RGB de cores."
   ]
  },
  {
   "cell_type": "code",
   "execution_count": 115,
   "id": "134a5c60-8c6f-4ab8-a36f-56305bfee91f",
   "metadata": {},
   "outputs": [
    {
     "data": {
      "text/plain": [
       "0     (120, 41, 26)\n",
       "1    (196, 165, 45)\n",
       "dtype: object"
      ]
     },
     "execution_count": 115,
     "metadata": {},
     "output_type": "execute_result"
    }
   ],
   "source": [
    "rgb_colors = [(120, 41, 26), (196, 165, 45)]\n",
    "pd.Series(rgb_colors)"
   ]
  },
  {
   "cell_type": "markdown",
   "id": "de6aa753-21af-47ec-8f24-cbe637716297",
   "metadata": {},
   "source": [
    "### Converte um conjunto (set) para lista antes de criar a Série, pois sets não têm ordem fixa."
   ]
  },
  {
   "cell_type": "code",
   "execution_count": 117,
   "id": "b491753f-f100-4bed-9a8c-9373818769f3",
   "metadata": {},
   "outputs": [
    {
     "data": {
      "text/plain": [
       "0    Bobby\n",
       "1    Ricky\n",
       "dtype: object"
      ]
     },
     "execution_count": 117,
     "metadata": {},
     "output_type": "execute_result"
    }
   ],
   "source": [
    "my_set = {'Ricky','Bobby'}\n",
    "pd.Series(list(my_set))"
   ]
  },
  {
   "cell_type": "markdown",
   "id": "53fc8371-6636-4cb3-8874-2e5a9e6bddf9",
   "metadata": {},
   "source": [
    "### Gera 10 números inteiros aleatórios entre 1 e 100 usando NumPy."
   ]
  },
  {
   "cell_type": "code",
   "execution_count": 119,
   "id": "39070a3d-97f3-4946-bd60-272f137040cc",
   "metadata": {},
   "outputs": [
    {
     "data": {
      "text/plain": [
       "array([ 81,   6,   6,  58,  88,  88,  72,  96, 100,  96])"
      ]
     },
     "execution_count": 119,
     "metadata": {},
     "output_type": "execute_result"
    }
   ],
   "source": [
    "random_data = np.random.randint(1, 101, 10)\n",
    "random_data"
   ]
  },
  {
   "cell_type": "markdown",
   "id": "7ef95e97-b1ec-4a3c-ab2b-719d5af9da56",
   "metadata": {},
   "source": [
    "### Converte os números aleatórios em uma Série do Pandas."
   ]
  },
  {
   "cell_type": "code",
   "execution_count": 121,
   "id": "6a0fc786-0681-4d1f-be7b-cf916bb4ba7a",
   "metadata": {},
   "outputs": [
    {
     "data": {
      "text/plain": [
       "0     81\n",
       "1      6\n",
       "2      6\n",
       "3     58\n",
       "4     88\n",
       "5     88\n",
       "6     72\n",
       "7     96\n",
       "8    100\n",
       "9     96\n",
       "dtype: int32"
      ]
     },
     "execution_count": 121,
     "metadata": {},
     "output_type": "execute_result"
    }
   ],
   "source": [
    "pd.Series(random_data)"
   ]
  },
  {
   "cell_type": "markdown",
   "id": "7ad0c550-bc5d-4892-8e1e-77441954e632",
   "metadata": {},
   "source": [
    "### Retorna os valores da Series como um array NumPy.\n"
   ]
  },
  {
   "cell_type": "code",
   "execution_count": 123,
   "id": "72900fc3-7e46-43a8-a1c3-54d4ccf7ebd6",
   "metadata": {},
   "outputs": [
    {
     "data": {
      "text/plain": [
       "array([125, 406, 342, 350], dtype=int64)"
      ]
     },
     "execution_count": 123,
     "metadata": {},
     "output_type": "execute_result"
    }
   ],
   "source": [
    "diet.values"
   ]
  },
  {
   "cell_type": "markdown",
   "id": "37d382eb-d13d-4572-af75-4f7d5faa0348",
   "metadata": {},
   "source": [
    "### Retorna o tipo dos valores armazenados na Series."
   ]
  },
  {
   "cell_type": "code",
   "execution_count": 125,
   "id": "734d8f47-5b90-48b7-a798-ce12185a32c7",
   "metadata": {},
   "outputs": [
    {
     "data": {
      "text/plain": [
       "numpy.ndarray"
      ]
     },
     "execution_count": 125,
     "metadata": {},
     "output_type": "execute_result"
    }
   ],
   "source": [
    "type(diet.values)"
   ]
  },
  {
   "cell_type": "markdown",
   "id": "9d2be3be-3fb6-4b41-93e2-1563a8023481",
   "metadata": {},
   "source": [
    "### Retorna o índice da Series."
   ]
  },
  {
   "cell_type": "code",
   "execution_count": 127,
   "id": "038a7abb-e0c1-4f6d-88c0-65a6d7dbae27",
   "metadata": {},
   "outputs": [
    {
     "data": {
      "text/plain": [
       "Index(['Cereal', 'Chocolate Bar', 'Ice Cream Sundae', 'Banoffe'], dtype='object')"
      ]
     },
     "execution_count": 127,
     "metadata": {},
     "output_type": "execute_result"
    }
   ],
   "source": [
    "diet.index"
   ]
  },
  {
   "cell_type": "markdown",
   "id": "15392688-c163-4b36-b566-f9b9c4370730",
   "metadata": {},
   "source": [
    "### Retorna o tipo do índice da Series."
   ]
  },
  {
   "cell_type": "code",
   "execution_count": 129,
   "id": "7675683f-1d54-4836-b6d0-e0fd26eb9db9",
   "metadata": {},
   "outputs": [
    {
     "data": {
      "text/plain": [
       "pandas.core.indexes.base.Index"
      ]
     },
     "execution_count": 129,
     "metadata": {},
     "output_type": "execute_result"
    }
   ],
   "source": [
    "type(diet.index)"
   ]
  },
  {
   "cell_type": "markdown",
   "id": "931a6342-9a24-481e-a3a1-2f20502a4275",
   "metadata": {},
   "source": [
    "### Retorna o número total de elementos na Series."
   ]
  },
  {
   "cell_type": "code",
   "execution_count": 131,
   "id": "b02935c9-56a4-46e9-8f7d-27173e403a6a",
   "metadata": {},
   "outputs": [
    {
     "data": {
      "text/plain": [
       "4"
      ]
     },
     "execution_count": 131,
     "metadata": {},
     "output_type": "execute_result"
    }
   ],
   "source": [
    "diet.size"
   ]
  },
  {
   "cell_type": "markdown",
   "id": "416d020a-7f77-4c32-bd2c-46cb298231d6",
   "metadata": {},
   "source": [
    "### Retorna a forma da Series como uma tupla."
   ]
  },
  {
   "cell_type": "code",
   "execution_count": 133,
   "id": "ebeabf7e-c942-4c9e-8266-89528dc4dea9",
   "metadata": {},
   "outputs": [
    {
     "data": {
      "text/plain": [
       "(4,)"
      ]
     },
     "execution_count": 133,
     "metadata": {},
     "output_type": "execute_result"
    }
   ],
   "source": [
    "diet.shape"
   ]
  },
  {
   "cell_type": "markdown",
   "id": "ff32ef6f-f722-4af0-b762-a94c886daaf1",
   "metadata": {},
   "source": [
    "### Verifica se todos os valores da Series são únicos."
   ]
  },
  {
   "cell_type": "code",
   "execution_count": 135,
   "id": "7dda002d-9cea-4b85-b9b0-130e4c793c02",
   "metadata": {},
   "outputs": [
    {
     "data": {
      "text/plain": [
       "True"
      ]
     },
     "execution_count": 135,
     "metadata": {},
     "output_type": "execute_result"
    }
   ],
   "source": [
    "diet.is_unique"
   ]
  },
  {
   "cell_type": "markdown",
   "id": "ef00798e-deb4-45b4-961a-096cd89dc24a",
   "metadata": {},
   "source": [
    "### Cria uma Series com os valores fornecidos."
   ]
  },
  {
   "cell_type": "code",
   "execution_count": 137,
   "id": "089c3cff-427a-4108-9fa1-2ea3874dcfe3",
   "metadata": {},
   "outputs": [],
   "source": [
    "s = pd.Series(data=[1, 2, 3])"
   ]
  },
  {
   "cell_type": "markdown",
   "id": "30da8c4f-aa3f-41a2-9084-6b6df4e56023",
   "metadata": {},
   "source": [
    "### Verifica se os valores da Series estão em ordem crescente."
   ]
  },
  {
   "cell_type": "code",
   "execution_count": 139,
   "id": "23e89c0f-e6cc-4931-bf44-73d295707e99",
   "metadata": {},
   "outputs": [
    {
     "data": {
      "text/plain": [
       "True"
      ]
     },
     "execution_count": 139,
     "metadata": {},
     "output_type": "execute_result"
    }
   ],
   "source": [
    "s.is_monotonic_increasing"
   ]
  },
  {
   "cell_type": "markdown",
   "id": "b8126f5c-fd74-4ea6-b385-de7531560327",
   "metadata": {},
   "source": [
    "### Cria uma Series com valores de 0 a 500, com incrementos de 5."
   ]
  },
  {
   "cell_type": "code",
   "execution_count": 141,
   "id": "515f6533-558c-47e9-bcf7-08cf6cf40679",
   "metadata": {},
   "outputs": [
    {
     "data": {
      "text/plain": [
       "0       0\n",
       "1       5\n",
       "2      10\n",
       "3      15\n",
       "4      20\n",
       "     ... \n",
       "95    475\n",
       "96    480\n",
       "97    485\n",
       "98    490\n",
       "99    495\n",
       "Length: 100, dtype: int64"
      ]
     },
     "execution_count": 141,
     "metadata": {},
     "output_type": "execute_result"
    }
   ],
   "source": [
    "values = range(0, 500, 5)\n",
    "nums = pd.Series(data = values)\n",
    "nums"
   ]
  },
  {
   "cell_type": "markdown",
   "id": "e34532ec-5c1f-4644-bbc1-c74542c3c5f3",
   "metadata": {},
   "source": [
    "### Retorna os primeiros 5 elementos da Series."
   ]
  },
  {
   "cell_type": "code",
   "execution_count": 143,
   "id": "8441081a-5f7f-4fa9-bb21-5544eff031c9",
   "metadata": {},
   "outputs": [
    {
     "data": {
      "text/plain": [
       "0     0\n",
       "1     5\n",
       "2    10\n",
       "3    15\n",
       "4    20\n",
       "dtype: int64"
      ]
     },
     "execution_count": 143,
     "metadata": {},
     "output_type": "execute_result"
    }
   ],
   "source": [
    "nums.head()"
   ]
  },
  {
   "cell_type": "markdown",
   "id": "2895ea8e-d363-49e8-8ce8-d2b5999501d1",
   "metadata": {},
   "source": [
    "### Retorna os últimos 5 elementos da Series."
   ]
  },
  {
   "cell_type": "code",
   "execution_count": 145,
   "id": "d213c656-15c0-43f6-9fe7-dce0cf8cc88a",
   "metadata": {},
   "outputs": [
    {
     "data": {
      "text/plain": [
       "95    475\n",
       "96    480\n",
       "97    485\n",
       "98    490\n",
       "99    495\n",
       "dtype: int64"
      ]
     },
     "execution_count": 145,
     "metadata": {},
     "output_type": "execute_result"
    }
   ],
   "source": [
    "nums.tail()"
   ]
  },
  {
   "cell_type": "markdown",
   "id": "dea6bc12-d9d2-4aa4-8aaa-f1a942ae65a5",
   "metadata": {},
   "source": [
    "### Cria uma Series com valores, incluindo NaN."
   ]
  },
  {
   "cell_type": "code",
   "execution_count": 147,
   "id": "a6d499d6-54a9-4c3f-81d5-0581a62cd7d4",
   "metadata": {},
   "outputs": [
    {
     "data": {
      "text/plain": [
       "0    1.0\n",
       "1    2.0\n",
       "2    3.0\n",
       "3    NaN\n",
       "4    NaN\n",
       "5    4.0\n",
       "6    5.0\n",
       "dtype: float64"
      ]
     },
     "execution_count": 147,
     "metadata": {},
     "output_type": "execute_result"
    }
   ],
   "source": [
    "numbers = pd.Series([1,2,3, np.nan, np.nan, 4, 5])\n",
    "numbers"
   ]
  },
  {
   "cell_type": "markdown",
   "id": "7f331bc5-288a-483b-b8b4-954e349cdb46",
   "metadata": {},
   "source": [
    "### Conta a quantidade de valores não nulos na Series."
   ]
  },
  {
   "cell_type": "code",
   "execution_count": 168,
   "id": "5ac7978c-b4c4-48ef-bf38-cab7b05a727e",
   "metadata": {},
   "outputs": [
    {
     "data": {
      "text/plain": [
       "5"
      ]
     },
     "execution_count": 168,
     "metadata": {},
     "output_type": "execute_result"
    }
   ],
   "source": [
    "numbers.count()"
   ]
  },
  {
   "cell_type": "markdown",
   "id": "8500ed76-f4db-40a4-a9ec-00c158a7a8ff",
   "metadata": {},
   "source": [
    "### Conta a quantidade de valores não nulos na Series."
   ]
  },
  {
   "cell_type": "code",
   "execution_count": 175,
   "id": "262b665e-437d-4fdf-ab27-6a1272d924fa",
   "metadata": {},
   "outputs": [
    {
     "data": {
      "text/plain": [
       "15.0"
      ]
     },
     "execution_count": 175,
     "metadata": {},
     "output_type": "execute_result"
    }
   ],
   "source": [
    "numbers.sum()"
   ]
  },
  {
   "cell_type": "markdown",
   "id": "4c420698-7b45-4d44-9b98-ecbcf02a2fe3",
   "metadata": {},
   "source": [
    "### Retorna a soma dos valores da Series, ignorando NaN."
   ]
  },
  {
   "cell_type": "code",
   "execution_count": 179,
   "id": "31b009ed-96ab-4670-8382-2dec0b5640e2",
   "metadata": {},
   "outputs": [
    {
     "data": {
      "text/plain": [
       "nan"
      ]
     },
     "execution_count": 179,
     "metadata": {},
     "output_type": "execute_result"
    }
   ],
   "source": [
    "numbers.sum(skipna = False)"
   ]
  },
  {
   "cell_type": "markdown",
   "id": "9e525b92-2152-4487-80f5-554752d98aa7",
   "metadata": {},
   "source": [
    "### Retorna a soma dos valores, sem ignorar NaN."
   ]
  },
  {
   "cell_type": "code",
   "execution_count": 182,
   "id": "31dd5166-4013-4dbf-8ad5-992f3a6bf3b8",
   "metadata": {},
   "outputs": [
    {
     "data": {
      "text/plain": [
       "15.0"
      ]
     },
     "execution_count": 182,
     "metadata": {},
     "output_type": "execute_result"
    }
   ],
   "source": [
    "numbers.sum(min_count = 3)"
   ]
  },
  {
   "cell_type": "markdown",
   "id": "da56386d-7937-4d43-b615-f8241d77168c",
   "metadata": {},
   "source": [
    "### Retorna a soma apenas se houver pelo menos 3 valores não nulos."
   ]
  },
  {
   "cell_type": "code",
   "execution_count": 185,
   "id": "ec1e385d-84c7-4ca6-92a4-b00befb57852",
   "metadata": {},
   "outputs": [
    {
     "data": {
      "text/plain": [
       "120.0"
      ]
     },
     "execution_count": 185,
     "metadata": {},
     "output_type": "execute_result"
    }
   ],
   "source": [
    "numbers.product(min_count = 3)"
   ]
  },
  {
   "cell_type": "markdown",
   "id": "fa06b53a-c063-4249-b161-495ca0c27336",
   "metadata": {},
   "source": [
    "### Retorna o produto dos valores, exigindo pelo menos 3 valores não nulos."
   ]
  },
  {
   "cell_type": "code",
   "execution_count": 188,
   "id": "9f3e9527-2373-4a28-9dcb-0e50eaaa874f",
   "metadata": {},
   "outputs": [
    {
     "data": {
      "text/plain": [
       "0    1.0\n",
       "1    2.0\n",
       "2    3.0\n",
       "3    NaN\n",
       "4    NaN\n",
       "5    4.0\n",
       "6    5.0\n",
       "dtype: float64"
      ]
     },
     "execution_count": 188,
     "metadata": {},
     "output_type": "execute_result"
    }
   ],
   "source": [
    "numbers"
   ]
  },
  {
   "cell_type": "markdown",
   "id": "b8aecd51-3de0-4d6a-8179-c8f385aafe26",
   "metadata": {},
   "source": [
    "### Exibe a Series."
   ]
  },
  {
   "cell_type": "code",
   "execution_count": 190,
   "id": "12bc7d60-0f6d-4566-8040-404c52646b3f",
   "metadata": {},
   "outputs": [
    {
     "data": {
      "text/plain": [
       "0     1.0\n",
       "1     3.0\n",
       "2     6.0\n",
       "3     NaN\n",
       "4     NaN\n",
       "5    10.0\n",
       "6    15.0\n",
       "dtype: float64"
      ]
     },
     "execution_count": 190,
     "metadata": {},
     "output_type": "execute_result"
    }
   ],
   "source": [
    "numbers.cumsum()"
   ]
  },
  {
   "cell_type": "markdown",
   "id": "81c6158b-908a-4fe7-bf02-dc1e97378bc4",
   "metadata": {},
   "source": [
    "### Retorna a soma acumulativa dos valores da Series."
   ]
  },
  {
   "cell_type": "code",
   "execution_count": 192,
   "id": "c5adb901-f75b-4ab6-af49-33065b81e6aa",
   "metadata": {},
   "outputs": [
    {
     "data": {
      "text/plain": [
       "0    1.0\n",
       "1    3.0\n",
       "2    6.0\n",
       "3    NaN\n",
       "4    NaN\n",
       "5    NaN\n",
       "6    NaN\n",
       "dtype: float64"
      ]
     },
     "execution_count": 192,
     "metadata": {},
     "output_type": "execute_result"
    }
   ],
   "source": [
    "numbers.cumsum(skipna = False)"
   ]
  },
  {
   "cell_type": "markdown",
   "id": "19c4fe90-0b34-4f3b-bc70-3de226080b34",
   "metadata": {},
   "source": [
    "### Retorna a soma acumulativa, sem ignorar NaN."
   ]
  },
  {
   "cell_type": "code",
   "execution_count": 194,
   "id": "9228b324-7267-4590-a7fa-b7a6772d1892",
   "metadata": {},
   "outputs": [
    {
     "data": {
      "text/plain": [
       "0    1.0\n",
       "1    2.0\n",
       "2    3.0\n",
       "3    NaN\n",
       "4    NaN\n",
       "5    4.0\n",
       "6    5.0\n",
       "dtype: float64"
      ]
     },
     "execution_count": 194,
     "metadata": {},
     "output_type": "execute_result"
    }
   ],
   "source": [
    "numbers"
   ]
  },
  {
   "cell_type": "markdown",
   "id": "d3b0888a-4598-4f56-a252-f0093338ade5",
   "metadata": {},
   "source": [
    "### Retorna a variação percentual entre valores consecutivos da Series."
   ]
  },
  {
   "cell_type": "code",
   "execution_count": 196,
   "id": "be51d0d9-0f28-42ef-a9e9-a578ac92bff6",
   "metadata": {},
   "outputs": [
    {
     "name": "stderr",
     "output_type": "stream",
     "text": [
      "C:\\Users\\RCP\\AppData\\Local\\Temp\\ipykernel_9048\\527026991.py:1: FutureWarning: The default fill_method='pad' in Series.pct_change is deprecated and will be removed in a future version. Either fill in any non-leading NA values prior to calling pct_change or specify 'fill_method=None' to not fill NA values.\n",
      "  numbers.pct_change()\n"
     ]
    },
    {
     "data": {
      "text/plain": [
       "0         NaN\n",
       "1    1.000000\n",
       "2    0.500000\n",
       "3    0.000000\n",
       "4    0.000000\n",
       "5    0.333333\n",
       "6    0.250000\n",
       "dtype: float64"
      ]
     },
     "execution_count": 196,
     "metadata": {},
     "output_type": "execute_result"
    }
   ],
   "source": [
    "numbers.pct_change()"
   ]
  },
  {
   "cell_type": "code",
   "execution_count": 216,
   "id": "04746150-5265-4690-ad7c-47f1839fff5b",
   "metadata": {},
   "outputs": [
    {
     "name": "stderr",
     "output_type": "stream",
     "text": [
      "C:\\Users\\RCP\\AppData\\Local\\Temp\\ipykernel_9048\\3288858377.py:2: FutureWarning: The default fill_method='pad' in Series.pct_change is deprecated and will be removed in a future version. Either fill in any non-leading NA values prior to calling pct_change or specify 'fill_method=None' to not fill NA values.\n",
      "  numbers.pct_change()\n",
      "C:\\Users\\RCP\\AppData\\Local\\Temp\\ipykernel_9048\\3288858377.py:3: FutureWarning: The 'fill_method' keyword being not None and the 'limit' keyword in Series.pct_change are deprecated and will be removed in a future version. Either fill in any non-leading NA values prior to calling pct_change or specify 'fill_method=None' to not fill NA values.\n",
      "  numbers.pct_change(fill_method = \"pad\")\n",
      "C:\\Users\\RCP\\AppData\\Local\\Temp\\ipykernel_9048\\3288858377.py:4: FutureWarning: The 'fill_method' keyword being not None and the 'limit' keyword in Series.pct_change are deprecated and will be removed in a future version. Either fill in any non-leading NA values prior to calling pct_change or specify 'fill_method=None' to not fill NA values.\n",
      "  numbers.pct_change(fill_method = \"ffill\")\n"
     ]
    },
    {
     "data": {
      "text/plain": [
       "0         NaN\n",
       "1    1.000000\n",
       "2    0.500000\n",
       "3    0.000000\n",
       "4    0.000000\n",
       "5    0.333333\n",
       "6    0.250000\n",
       "dtype: float64"
      ]
     },
     "execution_count": 216,
     "metadata": {},
     "output_type": "execute_result"
    }
   ],
   "source": [
    "# The three line below are equivalent\n",
    "numbers.pct_change()\n",
    "numbers.pct_change(fill_method = \"pad\")\n",
    "numbers.pct_change(fill_method = \"ffill\")"
   ]
  },
  {
   "cell_type": "code",
   "execution_count": 222,
   "id": "f49155ed-dde1-4dd6-a736-13413a58c30b",
   "metadata": {},
   "outputs": [
    {
     "name": "stderr",
     "output_type": "stream",
     "text": [
      "C:\\Users\\RCP\\AppData\\Local\\Temp\\ipykernel_9048\\4286098431.py:2: FutureWarning: The 'fill_method' keyword being not None and the 'limit' keyword in Series.pct_change are deprecated and will be removed in a future version. Either fill in any non-leading NA values prior to calling pct_change or specify 'fill_method=None' to not fill NA values.\n",
      "  numbers.pct_change(fill_method = 'bfill')\n",
      "C:\\Users\\RCP\\AppData\\Local\\Temp\\ipykernel_9048\\4286098431.py:3: FutureWarning: The 'fill_method' keyword being not None and the 'limit' keyword in Series.pct_change are deprecated and will be removed in a future version. Either fill in any non-leading NA values prior to calling pct_change or specify 'fill_method=None' to not fill NA values.\n",
      "  numbers.pct_change(fill_method = 'backfill')\n"
     ]
    },
    {
     "data": {
      "text/plain": [
       "0         NaN\n",
       "1    1.000000\n",
       "2    0.500000\n",
       "3    0.333333\n",
       "4    0.000000\n",
       "5    0.000000\n",
       "6    0.250000\n",
       "dtype: float64"
      ]
     },
     "execution_count": 222,
     "metadata": {},
     "output_type": "execute_result"
    }
   ],
   "source": [
    "# The two lines below are equivalent\n",
    "numbers.pct_change(fill_method = 'bfill')\n",
    "numbers.pct_change(fill_method = 'backfill')"
   ]
  },
  {
   "cell_type": "code",
   "execution_count": 224,
   "id": "d25d3afe-2c53-442e-9f94-46af5427c146",
   "metadata": {},
   "outputs": [
    {
     "data": {
      "text/plain": [
       "3.0"
      ]
     },
     "execution_count": 224,
     "metadata": {},
     "output_type": "execute_result"
    }
   ],
   "source": [
    "numbers.mean()"
   ]
  },
  {
   "cell_type": "code",
   "execution_count": 228,
   "id": "4f94e983-e560-4030-81a8-68cd2a4fca29",
   "metadata": {},
   "outputs": [
    {
     "data": {
      "text/plain": [
       "3.0"
      ]
     },
     "execution_count": 228,
     "metadata": {},
     "output_type": "execute_result"
    }
   ],
   "source": [
    "numbers.median()"
   ]
  },
  {
   "cell_type": "code",
   "execution_count": 230,
   "id": "89e137ff-564d-4a90-85b0-e7cd9290bd64",
   "metadata": {},
   "outputs": [
    {
     "data": {
      "text/plain": [
       "1.5811388300841898"
      ]
     },
     "execution_count": 230,
     "metadata": {},
     "output_type": "execute_result"
    }
   ],
   "source": [
    "numbers.std()"
   ]
  },
  {
   "cell_type": "code",
   "execution_count": 232,
   "id": "fb326eb4-df2c-46f4-a4e5-a7d62054c00e",
   "metadata": {},
   "outputs": [
    {
     "data": {
      "text/plain": [
       "5.0"
      ]
     },
     "execution_count": 232,
     "metadata": {},
     "output_type": "execute_result"
    }
   ],
   "source": [
    "numbers.max()"
   ]
  },
  {
   "cell_type": "code",
   "execution_count": 234,
   "id": "a9292c14-8b09-43e0-8cae-5beb2ca890e4",
   "metadata": {},
   "outputs": [
    {
     "data": {
      "text/plain": [
       "1.0"
      ]
     },
     "execution_count": 234,
     "metadata": {},
     "output_type": "execute_result"
    }
   ],
   "source": [
    "numbers.min()"
   ]
  },
  {
   "cell_type": "code",
   "execution_count": 236,
   "id": "64a0ae55-241c-4604-86dc-682b8bc85bfe",
   "metadata": {},
   "outputs": [
    {
     "data": {
      "text/plain": [
       "0       koala\n",
       "1    aardvark\n",
       "2       zebra\n",
       "dtype: object"
      ]
     },
     "execution_count": 236,
     "metadata": {},
     "output_type": "execute_result"
    }
   ],
   "source": [
    "animals = pd.Series(['koala', 'aardvark', 'zebra'])\n",
    "animals"
   ]
  },
  {
   "cell_type": "code",
   "execution_count": 238,
   "id": "8a9254c4-15b3-4835-b390-e6723a505ff3",
   "metadata": {},
   "outputs": [
    {
     "data": {
      "text/plain": [
       "'zebra'"
      ]
     },
     "execution_count": 238,
     "metadata": {},
     "output_type": "execute_result"
    }
   ],
   "source": [
    "animals.max()"
   ]
  },
  {
   "cell_type": "code",
   "execution_count": 240,
   "id": "03b0a91e-a12f-4287-bcf6-baefeb72eb89",
   "metadata": {},
   "outputs": [
    {
     "data": {
      "text/plain": [
       "'aardvark'"
      ]
     },
     "execution_count": 240,
     "metadata": {},
     "output_type": "execute_result"
    }
   ],
   "source": [
    "animals.min()"
   ]
  },
  {
   "cell_type": "code",
   "execution_count": 242,
   "id": "bf647eaa-235e-48cd-b322-5e51b2706742",
   "metadata": {},
   "outputs": [
    {
     "data": {
      "text/plain": [
       "count    5.000000\n",
       "mean     3.000000\n",
       "std      1.581139\n",
       "min      1.000000\n",
       "25%      2.000000\n",
       "50%      3.000000\n",
       "75%      4.000000\n",
       "max      5.000000\n",
       "dtype: float64"
      ]
     },
     "execution_count": 242,
     "metadata": {},
     "output_type": "execute_result"
    }
   ],
   "source": [
    "numbers.describe()"
   ]
  },
  {
   "cell_type": "code",
   "execution_count": 248,
   "id": "4c53216f-7d62-46ac-ab09-89fdf16e0e1c",
   "metadata": {},
   "outputs": [
    {
     "data": {
      "text/plain": [
       "1    2.0\n",
       "2    3.0\n",
       "6    5.0\n",
       "dtype: float64"
      ]
     },
     "execution_count": 248,
     "metadata": {},
     "output_type": "execute_result"
    }
   ],
   "source": [
    "numbers.sample(3)"
   ]
  },
  {
   "cell_type": "code",
   "execution_count": 252,
   "id": "16a6d4d0-ab9f-4e9d-9908-c463cc3639f1",
   "metadata": {},
   "outputs": [
    {
     "data": {
      "text/plain": [
       "array(['Hemingway', 'Orwell', 'Dostoevsky', 'Fitzgerald'], dtype=object)"
      ]
     },
     "execution_count": 252,
     "metadata": {},
     "output_type": "execute_result"
    }
   ],
   "source": [
    "authors = pd.Series(['Hemingway', 'Orwell', 'Dostoevsky', 'Fitzgerald', 'Orwell'])\n",
    "authors.unique()"
   ]
  },
  {
   "cell_type": "code",
   "execution_count": 254,
   "id": "6db0fe94-99d7-495b-924a-90422b430663",
   "metadata": {},
   "outputs": [
    {
     "data": {
      "text/plain": [
       "A     5.0\n",
       "B     NaN\n",
       "C    15.0\n",
       "dtype: float64"
      ]
     },
     "execution_count": 254,
     "metadata": {},
     "output_type": "execute_result"
    }
   ],
   "source": [
    "s1 = pd.Series(data = [5, np.nan, 15], index = ['A', 'B', 'C'])\n",
    "s1"
   ]
  },
  {
   "cell_type": "code",
   "execution_count": 256,
   "id": "99325382-5b0d-4104-a7ce-f3712affe9c1",
   "metadata": {},
   "outputs": [
    {
     "data": {
      "text/plain": [
       "A     8.0\n",
       "B     NaN\n",
       "C    18.0\n",
       "dtype: float64"
      ]
     },
     "execution_count": 256,
     "metadata": {},
     "output_type": "execute_result"
    }
   ],
   "source": [
    "s1 + 3"
   ]
  },
  {
   "cell_type": "code",
   "execution_count": 258,
   "id": "3e5adc94-b13a-4f01-9a09-2dfd9f00570e",
   "metadata": {},
   "outputs": [
    {
     "data": {
      "text/plain": [
       "A     8.0\n",
       "B     NaN\n",
       "C    18.0\n",
       "dtype: float64"
      ]
     },
     "execution_count": 258,
     "metadata": {},
     "output_type": "execute_result"
    }
   ],
   "source": [
    "s1.add(3)"
   ]
  },
  {
   "cell_type": "code",
   "execution_count": 260,
   "id": "35146dce-7236-4c9f-8553-f77531277c13",
   "metadata": {},
   "outputs": [
    {
     "data": {
      "text/plain": [
       "A     0.0\n",
       "B     NaN\n",
       "C    10.0\n",
       "dtype: float64"
      ]
     },
     "execution_count": 260,
     "metadata": {},
     "output_type": "execute_result"
    }
   ],
   "source": [
    "# The three lines below are equivalent.\n",
    "\n",
    "s1 - 5\n",
    "s1.sub(5)\n",
    "s1.subtract(5)"
   ]
  },
  {
   "cell_type": "code",
   "execution_count": 262,
   "id": "9c7d7a36-d21a-4b4d-bbdf-c054565ba0ba",
   "metadata": {},
   "outputs": [
    {
     "data": {
      "text/plain": [
       "A    10.0\n",
       "B     NaN\n",
       "C    30.0\n",
       "dtype: float64"
      ]
     },
     "execution_count": 262,
     "metadata": {},
     "output_type": "execute_result"
    }
   ],
   "source": [
    "# The three lines below are equivalent\n",
    "s1 * 2\n",
    "s1.mul(2)\n",
    "s1.multiply(2)"
   ]
  },
  {
   "cell_type": "code",
   "execution_count": 266,
   "id": "d70bb276-cb1b-4a36-bc7e-8bd6b95e06c8",
   "metadata": {},
   "outputs": [
    {
     "data": {
      "text/plain": [
       "A    2.5\n",
       "B    NaN\n",
       "C    7.5\n",
       "dtype: float64"
      ]
     },
     "execution_count": 266,
     "metadata": {},
     "output_type": "execute_result"
    }
   ],
   "source": [
    "# The threes lines belo are equivalent\n",
    "s1 / 2\n",
    "s1.div(2)\n",
    "s1.divide(2)"
   ]
  },
  {
   "cell_type": "code",
   "execution_count": 268,
   "id": "4703b423-4000-4090-99e1-af6740c06840",
   "metadata": {},
   "outputs": [
    {
     "data": {
      "text/plain": [
       "A    1.0\n",
       "B    NaN\n",
       "C    3.0\n",
       "dtype: float64"
      ]
     },
     "execution_count": 268,
     "metadata": {},
     "output_type": "execute_result"
    }
   ],
   "source": [
    "# The two lines belo are equivalent\n",
    "s1 // 4\n",
    "s1.floordiv(4)"
   ]
  },
  {
   "cell_type": "code",
   "execution_count": 271,
   "id": "6a1140f9-071c-42b8-9cd7-584334afd617",
   "metadata": {},
   "outputs": [],
   "source": [
    "s1 = pd.Series([1, 2, 3], index = ['A', 'B', 'C'])\n",
    "s2 = pd.Series([4, 5, 6], index = ['A', 'B', 'C'])"
   ]
  },
  {
   "cell_type": "code",
   "execution_count": 277,
   "id": "f306c39b-1785-4f69-8116-4944366a14b2",
   "metadata": {},
   "outputs": [
    {
     "data": {
      "text/plain": [
       "A    False\n",
       "B    False\n",
       "C    False\n",
       "dtype: bool"
      ]
     },
     "execution_count": 277,
     "metadata": {},
     "output_type": "execute_result"
    }
   ],
   "source": [
    "# The two lines below are equivvalent\n",
    "s1 == s2\n",
    "s1.eq(2)"
   ]
  },
  {
   "cell_type": "code",
   "execution_count": 279,
   "id": "e9b01910-4bcd-4d32-a95f-e8ac7659724f",
   "metadata": {},
   "outputs": [
    {
     "data": {
      "text/plain": [
       "A    False\n",
       "B    False\n",
       "C    False\n",
       "dtype: bool"
      ]
     },
     "execution_count": 279,
     "metadata": {},
     "output_type": "execute_result"
    }
   ],
   "source": [
    "# The two lines below are equivalent\n",
    "s1 != s2\n",
    "s1.ne(s2)"
   ]
  },
  {
   "cell_type": "code",
   "execution_count": 289,
   "id": "c0d8f8c3-cad9-4158-916a-0ad8bd960c7e",
   "metadata": {},
   "outputs": [],
   "source": [
    "cities = pd.Series(data = ['San Francisco', 'Los Angeles', 'Las vegas', np.nan])"
   ]
  },
  {
   "cell_type": "code",
   "execution_count": 291,
   "id": "350b4cdd-bb85-4fd8-b39b-8d78318e8e4d",
   "metadata": {},
   "outputs": [
    {
     "data": {
      "text/plain": [
       "4"
      ]
     },
     "execution_count": 291,
     "metadata": {},
     "output_type": "execute_result"
    }
   ],
   "source": [
    "len(cities)"
   ]
  },
  {
   "cell_type": "code",
   "execution_count": 293,
   "id": "95496a78-7619-4cb5-80d4-60723df55e46",
   "metadata": {},
   "outputs": [
    {
     "data": {
      "text/plain": [
       "pandas.core.series.Series"
      ]
     },
     "execution_count": 293,
     "metadata": {},
     "output_type": "execute_result"
    }
   ],
   "source": [
    "type(cities)"
   ]
  },
  {
   "cell_type": "code",
   "execution_count": 295,
   "id": "aa07ffdf-d3cc-4a11-b450-68b987ea3b77",
   "metadata": {},
   "outputs": [
    {
     "data": {
      "text/plain": [
       "['T',\n",
       " '_AXIS_LEN',\n",
       " '_AXIS_ORDERS',\n",
       " '_AXIS_TO_AXIS_NUMBER',\n",
       " '_HANDLED_TYPES',\n",
       " '__abs__',\n",
       " '__add__',\n",
       " '__and__',\n",
       " '__annotations__',\n",
       " '__array__',\n",
       " '__array_priority__',\n",
       " '__array_ufunc__',\n",
       " '__bool__',\n",
       " '__class__',\n",
       " '__column_consortium_standard__',\n",
       " '__contains__',\n",
       " '__copy__',\n",
       " '__deepcopy__',\n",
       " '__delattr__',\n",
       " '__delitem__',\n",
       " '__dict__',\n",
       " '__dir__',\n",
       " '__divmod__',\n",
       " '__doc__',\n",
       " '__eq__',\n",
       " '__finalize__',\n",
       " '__float__',\n",
       " '__floordiv__',\n",
       " '__format__',\n",
       " '__ge__',\n",
       " '__getattr__',\n",
       " '__getattribute__',\n",
       " '__getitem__',\n",
       " '__getstate__',\n",
       " '__gt__',\n",
       " '__hash__',\n",
       " '__iadd__',\n",
       " '__iand__',\n",
       " '__ifloordiv__',\n",
       " '__imod__',\n",
       " '__imul__',\n",
       " '__init__',\n",
       " '__init_subclass__',\n",
       " '__int__',\n",
       " '__invert__',\n",
       " '__ior__',\n",
       " '__ipow__',\n",
       " '__isub__',\n",
       " '__iter__',\n",
       " '__itruediv__',\n",
       " '__ixor__',\n",
       " '__le__',\n",
       " '__len__',\n",
       " '__lt__',\n",
       " '__matmul__',\n",
       " '__mod__',\n",
       " '__module__',\n",
       " '__mul__',\n",
       " '__ne__',\n",
       " '__neg__',\n",
       " '__new__',\n",
       " '__nonzero__',\n",
       " '__or__',\n",
       " '__pandas_priority__',\n",
       " '__pos__',\n",
       " '__pow__',\n",
       " '__radd__',\n",
       " '__rand__',\n",
       " '__rdivmod__',\n",
       " '__reduce__',\n",
       " '__reduce_ex__',\n",
       " '__repr__',\n",
       " '__rfloordiv__',\n",
       " '__rmatmul__',\n",
       " '__rmod__',\n",
       " '__rmul__',\n",
       " '__ror__',\n",
       " '__round__',\n",
       " '__rpow__',\n",
       " '__rsub__',\n",
       " '__rtruediv__',\n",
       " '__rxor__',\n",
       " '__setattr__',\n",
       " '__setitem__',\n",
       " '__setstate__',\n",
       " '__sizeof__',\n",
       " '__str__',\n",
       " '__sub__',\n",
       " '__subclasshook__',\n",
       " '__truediv__',\n",
       " '__weakref__',\n",
       " '__xor__',\n",
       " '_accessors',\n",
       " '_accum_func',\n",
       " '_agg_examples_doc',\n",
       " '_agg_see_also_doc',\n",
       " '_align_for_op',\n",
       " '_align_frame',\n",
       " '_align_series',\n",
       " '_append',\n",
       " '_arith_method',\n",
       " '_as_manager',\n",
       " '_attrs',\n",
       " '_binop',\n",
       " '_can_hold_na',\n",
       " '_check_inplace_and_allows_duplicate_labels',\n",
       " '_check_is_chained_assignment_possible',\n",
       " '_check_label_or_level_ambiguity',\n",
       " '_check_setitem_copy',\n",
       " '_clear_item_cache',\n",
       " '_clip_with_one_bound',\n",
       " '_clip_with_scalar',\n",
       " '_cmp_method',\n",
       " '_consolidate',\n",
       " '_consolidate_inplace',\n",
       " '_construct_axes_dict',\n",
       " '_construct_result',\n",
       " '_constructor',\n",
       " '_constructor_expanddim',\n",
       " '_constructor_expanddim_from_mgr',\n",
       " '_constructor_from_mgr',\n",
       " '_data',\n",
       " '_deprecate_downcast',\n",
       " '_dir_additions',\n",
       " '_dir_deletions',\n",
       " '_drop_axis',\n",
       " '_drop_labels_or_levels',\n",
       " '_duplicated',\n",
       " '_find_valid_index',\n",
       " '_flags',\n",
       " '_flex_method',\n",
       " '_from_mgr',\n",
       " '_get_axis',\n",
       " '_get_axis_name',\n",
       " '_get_axis_number',\n",
       " '_get_axis_resolvers',\n",
       " '_get_block_manager_axis',\n",
       " '_get_bool_data',\n",
       " '_get_cacher',\n",
       " '_get_cleaned_column_resolvers',\n",
       " '_get_index_resolvers',\n",
       " '_get_label_or_level_values',\n",
       " '_get_numeric_data',\n",
       " '_get_rows_with_mask',\n",
       " '_get_value',\n",
       " '_get_values_tuple',\n",
       " '_get_with',\n",
       " '_getitem_slice',\n",
       " '_gotitem',\n",
       " '_hidden_attrs',\n",
       " '_indexed_same',\n",
       " '_info_axis',\n",
       " '_info_axis_name',\n",
       " '_info_axis_number',\n",
       " '_init_dict',\n",
       " '_init_mgr',\n",
       " '_inplace_method',\n",
       " '_internal_names',\n",
       " '_internal_names_set',\n",
       " '_is_cached',\n",
       " '_is_copy',\n",
       " '_is_label_or_level_reference',\n",
       " '_is_label_reference',\n",
       " '_is_level_reference',\n",
       " '_is_mixed_type',\n",
       " '_is_view',\n",
       " '_is_view_after_cow_rules',\n",
       " '_item_cache',\n",
       " '_ixs',\n",
       " '_logical_func',\n",
       " '_logical_method',\n",
       " '_map_values',\n",
       " '_maybe_update_cacher',\n",
       " '_memory_usage',\n",
       " '_metadata',\n",
       " '_mgr',\n",
       " '_min_count_stat_function',\n",
       " '_name',\n",
       " '_needs_reindex_multi',\n",
       " '_pad_or_backfill',\n",
       " '_protect_consolidate',\n",
       " '_reduce',\n",
       " '_references',\n",
       " '_reindex_axes',\n",
       " '_reindex_indexer',\n",
       " '_reindex_multi',\n",
       " '_reindex_with_indexers',\n",
       " '_rename',\n",
       " '_replace_single',\n",
       " '_repr_data_resource_',\n",
       " '_repr_latex_',\n",
       " '_reset_cache',\n",
       " '_reset_cacher',\n",
       " '_set_as_cached',\n",
       " '_set_axis',\n",
       " '_set_axis_name',\n",
       " '_set_axis_nocheck',\n",
       " '_set_is_copy',\n",
       " '_set_labels',\n",
       " '_set_name',\n",
       " '_set_value',\n",
       " '_set_values',\n",
       " '_set_with',\n",
       " '_set_with_engine',\n",
       " '_shift_with_freq',\n",
       " '_slice',\n",
       " '_stat_function',\n",
       " '_stat_function_ddof',\n",
       " '_take_with_is_copy',\n",
       " '_to_latex_via_styler',\n",
       " '_typ',\n",
       " '_update_inplace',\n",
       " '_validate_dtype',\n",
       " '_values',\n",
       " '_where',\n",
       " 'abs',\n",
       " 'add',\n",
       " 'add_prefix',\n",
       " 'add_suffix',\n",
       " 'agg',\n",
       " 'aggregate',\n",
       " 'align',\n",
       " 'all',\n",
       " 'any',\n",
       " 'apply',\n",
       " 'argmax',\n",
       " 'argmin',\n",
       " 'argsort',\n",
       " 'array',\n",
       " 'asfreq',\n",
       " 'asof',\n",
       " 'astype',\n",
       " 'at',\n",
       " 'at_time',\n",
       " 'attrs',\n",
       " 'autocorr',\n",
       " 'axes',\n",
       " 'backfill',\n",
       " 'between',\n",
       " 'between_time',\n",
       " 'bfill',\n",
       " 'bool',\n",
       " 'case_when',\n",
       " 'clip',\n",
       " 'combine',\n",
       " 'combine_first',\n",
       " 'compare',\n",
       " 'convert_dtypes',\n",
       " 'copy',\n",
       " 'corr',\n",
       " 'count',\n",
       " 'cov',\n",
       " 'cummax',\n",
       " 'cummin',\n",
       " 'cumprod',\n",
       " 'cumsum',\n",
       " 'describe',\n",
       " 'diff',\n",
       " 'div',\n",
       " 'divide',\n",
       " 'divmod',\n",
       " 'dot',\n",
       " 'drop',\n",
       " 'drop_duplicates',\n",
       " 'droplevel',\n",
       " 'dropna',\n",
       " 'dtype',\n",
       " 'dtypes',\n",
       " 'duplicated',\n",
       " 'empty',\n",
       " 'eq',\n",
       " 'equals',\n",
       " 'ewm',\n",
       " 'expanding',\n",
       " 'explode',\n",
       " 'factorize',\n",
       " 'ffill',\n",
       " 'fillna',\n",
       " 'filter',\n",
       " 'first',\n",
       " 'first_valid_index',\n",
       " 'flags',\n",
       " 'floordiv',\n",
       " 'ge',\n",
       " 'get',\n",
       " 'groupby',\n",
       " 'gt',\n",
       " 'hasnans',\n",
       " 'head',\n",
       " 'hist',\n",
       " 'iat',\n",
       " 'idxmax',\n",
       " 'idxmin',\n",
       " 'iloc',\n",
       " 'index',\n",
       " 'infer_objects',\n",
       " 'info',\n",
       " 'interpolate',\n",
       " 'is_monotonic_decreasing',\n",
       " 'is_monotonic_increasing',\n",
       " 'is_unique',\n",
       " 'isin',\n",
       " 'isna',\n",
       " 'isnull',\n",
       " 'item',\n",
       " 'items',\n",
       " 'keys',\n",
       " 'kurt',\n",
       " 'kurtosis',\n",
       " 'last',\n",
       " 'last_valid_index',\n",
       " 'le',\n",
       " 'list',\n",
       " 'loc',\n",
       " 'lt',\n",
       " 'map',\n",
       " 'mask',\n",
       " 'max',\n",
       " 'mean',\n",
       " 'median',\n",
       " 'memory_usage',\n",
       " 'min',\n",
       " 'mod',\n",
       " 'mode',\n",
       " 'mul',\n",
       " 'multiply',\n",
       " 'name',\n",
       " 'nbytes',\n",
       " 'ndim',\n",
       " 'ne',\n",
       " 'nlargest',\n",
       " 'notna',\n",
       " 'notnull',\n",
       " 'nsmallest',\n",
       " 'nunique',\n",
       " 'pad',\n",
       " 'pct_change',\n",
       " 'pipe',\n",
       " 'plot',\n",
       " 'pop',\n",
       " 'pow',\n",
       " 'prod',\n",
       " 'product',\n",
       " 'quantile',\n",
       " 'radd',\n",
       " 'rank',\n",
       " 'ravel',\n",
       " 'rdiv',\n",
       " 'rdivmod',\n",
       " 'reindex',\n",
       " 'reindex_like',\n",
       " 'rename',\n",
       " 'rename_axis',\n",
       " 'reorder_levels',\n",
       " 'repeat',\n",
       " 'replace',\n",
       " 'resample',\n",
       " 'reset_index',\n",
       " 'rfloordiv',\n",
       " 'rmod',\n",
       " 'rmul',\n",
       " 'rolling',\n",
       " 'round',\n",
       " 'rpow',\n",
       " 'rsub',\n",
       " 'rtruediv',\n",
       " 'sample',\n",
       " 'searchsorted',\n",
       " 'sem',\n",
       " 'set_axis',\n",
       " 'set_flags',\n",
       " 'shape',\n",
       " 'shift',\n",
       " 'size',\n",
       " 'skew',\n",
       " 'sort_index',\n",
       " 'sort_values',\n",
       " 'squeeze',\n",
       " 'std',\n",
       " 'str',\n",
       " 'struct',\n",
       " 'sub',\n",
       " 'subtract',\n",
       " 'sum',\n",
       " 'swapaxes',\n",
       " 'swaplevel',\n",
       " 'tail',\n",
       " 'take',\n",
       " 'to_clipboard',\n",
       " 'to_csv',\n",
       " 'to_dict',\n",
       " 'to_excel',\n",
       " 'to_frame',\n",
       " 'to_hdf',\n",
       " 'to_json',\n",
       " 'to_latex',\n",
       " 'to_list',\n",
       " 'to_markdown',\n",
       " 'to_numpy',\n",
       " 'to_period',\n",
       " 'to_pickle',\n",
       " 'to_sql',\n",
       " 'to_string',\n",
       " 'to_timestamp',\n",
       " 'to_xarray',\n",
       " 'transform',\n",
       " 'transpose',\n",
       " 'truediv',\n",
       " 'truncate',\n",
       " 'tz_convert',\n",
       " 'tz_localize',\n",
       " 'unique',\n",
       " 'unstack',\n",
       " 'update',\n",
       " 'value_counts',\n",
       " 'values',\n",
       " 'var',\n",
       " 'view',\n",
       " 'where',\n",
       " 'xs']"
      ]
     },
     "execution_count": 295,
     "metadata": {},
     "output_type": "execute_result"
    }
   ],
   "source": [
    "dir(cities)\n"
   ]
  },
  {
   "cell_type": "code",
   "execution_count": 297,
   "id": "a499ef5e-ac5a-4f91-88b0-6eac5afd0fb6",
   "metadata": {},
   "outputs": [
    {
     "data": {
      "text/plain": [
       "['San Francisco', 'Los Angeles', 'Las vegas', nan]"
      ]
     },
     "execution_count": 297,
     "metadata": {},
     "output_type": "execute_result"
    }
   ],
   "source": [
    "list(cities)"
   ]
  },
  {
   "cell_type": "code",
   "execution_count": null,
   "id": "0e812ea6-11a9-475d-a778-d34d413bb272",
   "metadata": {},
   "outputs": [],
   "source": []
  }
 ],
 "metadata": {
  "kernelspec": {
   "display_name": "Python [conda env:base] *",
   "language": "python",
   "name": "conda-base-py"
  },
  "language_info": {
   "codemirror_mode": {
    "name": "ipython",
    "version": 3
   },
   "file_extension": ".py",
   "mimetype": "text/x-python",
   "name": "python",
   "nbconvert_exporter": "python",
   "pygments_lexer": "ipython3",
   "version": "3.12.7"
  }
 },
 "nbformat": 4,
 "nbformat_minor": 5
}
