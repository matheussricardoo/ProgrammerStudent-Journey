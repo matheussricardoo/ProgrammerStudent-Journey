{
 "cells": [
  {
   "cell_type": "markdown",
   "id": "948ac3f0-b19f-4475-b750-d2f837f33225",
   "metadata": {},
   "source": [
    "# Trabalhando com `pd.Series` no Pandas\n",
    "\n",
    "Este documento explica como criar e manipular **Series** no Pandas, que são estruturas de dados unidimensionais semelhantes a listas e dicionários.\n",
    "\n",
    "---\n",
    "\n",
    "## Importando as bibliotecas necessárias\n",
    "### pandas: Biblioteca principal para análise de dados em Python.\n",
    "### numpy: Biblioteca para operações numéricas avançadas.\n"
   ]
  },
  {
   "cell_type": "code",
   "execution_count": null,
   "id": "820e7fc9-2faf-481c-a5b5-1be3042e073a",
   "metadata": {},
   "outputs": [],
   "source": [
    "import pandas as pd\n",
    "import numpy as np"
   ]
  },
  {
   "cell_type": "markdown",
   "id": "59a3a575-7ccc-4c7f-b576-617e58b5fc96",
   "metadata": {},
   "source": [
    "### Cria uma Série vazia.\n",
    "### Normalmente, é necessário passar dados para evitar um aviso de depreciação."
   ]
  },
  {
   "cell_type": "code",
   "execution_count": null,
   "id": "ac3f1b01-c2ab-490c-95a4-3296325e8e19",
   "metadata": {},
   "outputs": [],
   "source": [
    "pd.Series()"
   ]
  },
  {
   "cell_type": "markdown",
   "id": "6f412ad2-83cd-4da1-ab5e-41b99d53ed29",
   "metadata": {},
   "source": [
    "### Cria uma Série de strings, representando sabores de sorvete.\n",
    "### O Pandas atribui índices numéricos automaticamente (0, 1, 2, ...)."
   ]
  },
  {
   "cell_type": "code",
   "execution_count": null,
   "id": "87181411-46c3-4273-9a20-a8f06029a38a",
   "metadata": {},
   "outputs": [],
   "source": [
    "ice_cream_flavors = [\n",
    "    'Chocolate',\n",
    "    'Vanilla',\n",
    "    'Strawberry',\n",
    "    'Rum Raisin',\n",
    "]\n",
    "\n",
    "pd.Series(ice_cream_flavors)"
   ]
  },
  {
   "cell_type": "markdown",
   "id": "1f63cb7a-52e3-41f8-9dff-c3c01cb3d4dc",
   "metadata": {},
   "source": [
    "### Associa os sabores de sorvete aos dias da semana como índices."
   ]
  },
  {
   "cell_type": "code",
   "execution_count": null,
   "id": "9c1e0baf-74cc-43a8-a879-37c8c5fe268c",
   "metadata": {},
   "outputs": [],
   "source": [
    "days_of_week = ('Monday','Wednesday', 'Friday', 'Saturday')\n",
    "pd.Series(ice_cream_flavors, days_of_week)"
   ]
  },
  {
   "cell_type": "markdown",
   "id": "882d8160-df0f-4ffb-939d-ad8e923ee96f",
   "metadata": {},
   "source": [
    "### Cria uma Série de valores booleanos."
   ]
  },
  {
   "cell_type": "code",
   "execution_count": null,
   "id": "d356d270-a72b-438b-9dd5-5486e83a5594",
   "metadata": {},
   "outputs": [],
   "source": [
    "bunch_of_bools = [True, False, False]\n",
    "pd.Series(bunch_of_bools)"
   ]
  },
  {
   "cell_type": "markdown",
   "id": "89436336-e479-48c1-a7c9-8db84f77a2a2",
   "metadata": {},
   "source": [
    "### Cria uma Série de preços de ações, associando valores às etiquetas 'Open' e 'Close'."
   ]
  },
  {
   "cell_type": "code",
   "execution_count": null,
   "id": "bfc32701-9297-4a00-be00-ceae09d964d3",
   "metadata": {},
   "outputs": [],
   "source": [
    "stock_prices = [985.32, 950.44]\n",
    "time_of_day = ['Open', 'Close']\n",
    "\n",
    "pd.Series(stock_prices, time_of_day)"
   ]
  },
  {
   "cell_type": "markdown",
   "id": "74ba72a6-ab57-4d72-8844-8f310c12b3d5",
   "metadata": {},
   "source": [
    "### Cria uma Série de números inteiros com índices automáticos."
   ]
  },
  {
   "cell_type": "code",
   "execution_count": null,
   "id": "52743859-f6f5-4f36-b4d6-3ac1ddfb86ce",
   "metadata": {},
   "outputs": [],
   "source": [
    "lucky_numbers = [4, 8, 15, 16, 23, 42]\n",
    "pd.Series(lucky_numbers)"
   ]
  },
  {
   "cell_type": "markdown",
   "id": "351df3b9-e081-4713-a6fa-d83fc25ddefe",
   "metadata": {},
   "source": [
    "### Cria uma Série de números de ponto flutuante, convertendo automaticamente os inteiros."
   ]
  },
  {
   "cell_type": "code",
   "execution_count": null,
   "id": "5c3f73d0-386a-4d76-a252-7fd1e1d64eac",
   "metadata": {},
   "outputs": [],
   "source": [
    "lucky_numbers = [4, 8, 15, 16, 23, 42]\n",
    "pd.Series(lucky_numbers, dtype = 'float')"
   ]
  },
  {
   "cell_type": "markdown",
   "id": "dfbf0d38-346a-4c92-b81a-968249942e48",
   "metadata": {},
   "source": [
    "### Usa np.nan para representar valores desconhecidos ou ausentes."
   ]
  },
  {
   "cell_type": "code",
   "execution_count": null,
   "id": "2605cffc-9b3d-4cc0-a31e-a626ab77fe57",
   "metadata": {},
   "outputs": [],
   "source": [
    "temperatures = [94, 88, np.nan, 91]\n",
    "pd.Series(temperatures)"
   ]
  },
  {
   "cell_type": "markdown",
   "id": "87c3e050-ff14-486f-bcca-e744e39b1861",
   "metadata": {},
   "source": [
    "### Cria uma Série onde as chaves do dicionário se tornam os índices e os valores representam calorias."
   ]
  },
  {
   "cell_type": "code",
   "execution_count": null,
   "id": "eaa7f94d-b2bb-42ee-ae17-754177fbac70",
   "metadata": {},
   "outputs": [],
   "source": [
    "calorie_info = {\n",
    "    'Cereal': 125,\n",
    "    'Chocolate Bar': 406,\n",
    "    'Ice Cream Sundae': 342,\n",
    "    'Banoffe': 350,\n",
    "}\n",
    "\n",
    "diet = pd.Series(calorie_info)\n",
    "diet"
   ]
  },
  {
   "cell_type": "markdown",
   "id": "92226b1d-3888-47fc-a364-645719db966b",
   "metadata": {},
   "source": [
    "### Cria uma Série de cores, inferindo automaticamente os índices."
   ]
  },
  {
   "cell_type": "code",
   "execution_count": null,
   "id": "12594210-b01e-4478-9140-7222e2d4cb16",
   "metadata": {},
   "outputs": [],
   "source": [
    "pd.Series(data = ('Red', 'Green', 'Blue'))"
   ]
  },
  {
   "cell_type": "markdown",
   "id": "655aeae3-6560-431a-ba80-7cef0beb8782",
   "metadata": {},
   "source": [
    "### Alternativa equivalente, armazenando a tupla em uma variável antes de criar a Série."
   ]
  },
  {
   "cell_type": "code",
   "execution_count": null,
   "id": "080b7a5a-b15b-44f8-9ccb-2fd8a82f2fbc",
   "metadata": {},
   "outputs": [],
   "source": [
    "colors = ('Red', 'Green', 'Blue')\n",
    "pd.Series(colors)"
   ]
  },
  {
   "cell_type": "markdown",
   "id": "658c5a12-4bc5-4773-8416-1603ecd82fc4",
   "metadata": {},
   "source": [
    "### Cria uma Série onde cada elemento é uma tupla, representando valores RGB de cores."
   ]
  },
  {
   "cell_type": "code",
   "execution_count": null,
   "id": "134a5c60-8c6f-4ab8-a36f-56305bfee91f",
   "metadata": {},
   "outputs": [],
   "source": [
    "rgb_colors = [(120, 41, 26), (196, 165, 45)]\n",
    "pd.Series(rgb_colors)"
   ]
  },
  {
   "cell_type": "markdown",
   "id": "de6aa753-21af-47ec-8f24-cbe637716297",
   "metadata": {},
   "source": [
    "### Converte um conjunto (set) para lista antes de criar a Série, pois sets não têm ordem fixa."
   ]
  },
  {
   "cell_type": "code",
   "execution_count": null,
   "id": "b491753f-f100-4bed-9a8c-9373818769f3",
   "metadata": {},
   "outputs": [],
   "source": [
    "my_set = {'Ricky','Bobby'}\n",
    "pd.Series(list(my_set))"
   ]
  },
  {
   "cell_type": "markdown",
   "id": "53fc8371-6636-4cb3-8874-2e5a9e6bddf9",
   "metadata": {},
   "source": [
    "### Gera 10 números inteiros aleatórios entre 1 e 100 usando NumPy."
   ]
  },
  {
   "cell_type": "code",
   "execution_count": null,
   "id": "39070a3d-97f3-4946-bd60-272f137040cc",
   "metadata": {},
   "outputs": [],
   "source": [
    "random_data = np.random.randint(1, 101, 10)\n",
    "random_data"
   ]
  },
  {
   "cell_type": "markdown",
   "id": "7ef95e97-b1ec-4a3c-ab2b-719d5af9da56",
   "metadata": {},
   "source": [
    "### Converte os números aleatórios em uma Série do Pandas."
   ]
  },
  {
   "cell_type": "code",
   "execution_count": null,
   "id": "6a0fc786-0681-4d1f-be7b-cf916bb4ba7a",
   "metadata": {},
   "outputs": [],
   "source": [
    "pd.Series(random_data)"
   ]
  },
  {
   "cell_type": "markdown",
   "id": "7ad0c550-bc5d-4892-8e1e-77441954e632",
   "metadata": {},
   "source": [
    "### Retorna os valores da Series como um array NumPy.\n"
   ]
  },
  {
   "cell_type": "code",
   "execution_count": null,
   "id": "72900fc3-7e46-43a8-a1c3-54d4ccf7ebd6",
   "metadata": {},
   "outputs": [],
   "source": [
    "diet.values"
   ]
  },
  {
   "cell_type": "markdown",
   "id": "37d382eb-d13d-4572-af75-4f7d5faa0348",
   "metadata": {},
   "source": [
    "### Retorna o tipo dos valores armazenados na Series."
   ]
  },
  {
   "cell_type": "code",
   "execution_count": null,
   "id": "734d8f47-5b90-48b7-a798-ce12185a32c7",
   "metadata": {},
   "outputs": [],
   "source": [
    "type(diet.values)"
   ]
  },
  {
   "cell_type": "markdown",
   "id": "9d2be3be-3fb6-4b41-93e2-1563a8023481",
   "metadata": {},
   "source": [
    "### Retorna o índice da Series."
   ]
  },
  {
   "cell_type": "code",
   "execution_count": null,
   "id": "038a7abb-e0c1-4f6d-88c0-65a6d7dbae27",
   "metadata": {},
   "outputs": [],
   "source": [
    "diet.index"
   ]
  },
  {
   "cell_type": "markdown",
   "id": "15392688-c163-4b36-b566-f9b9c4370730",
   "metadata": {},
   "source": [
    "### Retorna o tipo do índice da Series."
   ]
  },
  {
   "cell_type": "code",
   "execution_count": null,
   "id": "7675683f-1d54-4836-b6d0-e0fd26eb9db9",
   "metadata": {},
   "outputs": [],
   "source": [
    "type(diet.index)"
   ]
  },
  {
   "cell_type": "markdown",
   "id": "931a6342-9a24-481e-a3a1-2f20502a4275",
   "metadata": {},
   "source": [
    "### Retorna o número total de elementos na Series."
   ]
  },
  {
   "cell_type": "code",
   "execution_count": null,
   "id": "b02935c9-56a4-46e9-8f7d-27173e403a6a",
   "metadata": {},
   "outputs": [],
   "source": [
    "diet.size"
   ]
  },
  {
   "cell_type": "markdown",
   "id": "416d020a-7f77-4c32-bd2c-46cb298231d6",
   "metadata": {},
   "source": [
    "### Retorna a forma da Series como uma tupla."
   ]
  },
  {
   "cell_type": "code",
   "execution_count": null,
   "id": "ebeabf7e-c942-4c9e-8266-89528dc4dea9",
   "metadata": {},
   "outputs": [],
   "source": [
    "diet.shape"
   ]
  },
  {
   "cell_type": "markdown",
   "id": "ff32ef6f-f722-4af0-b762-a94c886daaf1",
   "metadata": {},
   "source": [
    "### Verifica se todos os valores da Series são únicos."
   ]
  },
  {
   "cell_type": "code",
   "execution_count": null,
   "id": "7dda002d-9cea-4b85-b9b0-130e4c793c02",
   "metadata": {},
   "outputs": [],
   "source": [
    "diet.is_unique"
   ]
  },
  {
   "cell_type": "markdown",
   "id": "ef00798e-deb4-45b4-961a-096cd89dc24a",
   "metadata": {},
   "source": [
    "### Cria uma Series com os valores fornecidos."
   ]
  },
  {
   "cell_type": "code",
   "execution_count": null,
   "id": "089c3cff-427a-4108-9fa1-2ea3874dcfe3",
   "metadata": {},
   "outputs": [],
   "source": [
    "s = pd.Series(data=[1, 2, 3])"
   ]
  },
  {
   "cell_type": "markdown",
   "id": "30da8c4f-aa3f-41a2-9084-6b6df4e56023",
   "metadata": {},
   "source": [
    "### Verifica se os valores da Series estão em ordem crescente."
   ]
  },
  {
   "cell_type": "code",
   "execution_count": null,
   "id": "23e89c0f-e6cc-4931-bf44-73d295707e99",
   "metadata": {},
   "outputs": [],
   "source": [
    "s.is_monotonic_increasing"
   ]
  },
  {
   "cell_type": "markdown",
   "id": "b8126f5c-fd74-4ea6-b385-de7531560327",
   "metadata": {},
   "source": [
    "### Cria uma Series com valores de 0 a 500, com incrementos de 5."
   ]
  },
  {
   "cell_type": "code",
   "execution_count": null,
   "id": "515f6533-558c-47e9-bcf7-08cf6cf40679",
   "metadata": {},
   "outputs": [],
   "source": [
    "values = range(0, 500, 5)\n",
    "nums = pd.Series(data = values)\n",
    "nums"
   ]
  },
  {
   "cell_type": "markdown",
   "id": "e34532ec-5c1f-4644-bbc1-c74542c3c5f3",
   "metadata": {},
   "source": [
    "### Retorna os primeiros 5 elementos da Series."
   ]
  },
  {
   "cell_type": "code",
   "execution_count": null,
   "id": "8441081a-5f7f-4fa9-bb21-5544eff031c9",
   "metadata": {},
   "outputs": [],
   "source": [
    "nums.head()"
   ]
  },
  {
   "cell_type": "markdown",
   "id": "2895ea8e-d363-49e8-8ce8-d2b5999501d1",
   "metadata": {},
   "source": [
    "### Retorna os últimos 5 elementos da Series."
   ]
  },
  {
   "cell_type": "code",
   "execution_count": null,
   "id": "d213c656-15c0-43f6-9fe7-dce0cf8cc88a",
   "metadata": {},
   "outputs": [],
   "source": [
    "nums.tail()"
   ]
  },
  {
   "cell_type": "markdown",
   "id": "dea6bc12-d9d2-4aa4-8aaa-f1a942ae65a5",
   "metadata": {},
   "source": [
    "### Cria uma Series com valores, incluindo NaN."
   ]
  },
  {
   "cell_type": "code",
   "execution_count": null,
   "id": "a6d499d6-54a9-4c3f-81d5-0581a62cd7d4",
   "metadata": {},
   "outputs": [],
   "source": [
    "numbers = pd.Series([1,2,3, np.nan, np.nan, 4, 5])\n",
    "numbers"
   ]
  },
  {
   "cell_type": "markdown",
   "id": "7f331bc5-288a-483b-b8b4-954e349cdb46",
   "metadata": {},
   "source": [
    "### Conta a quantidade de valores não nulos na Series."
   ]
  },
  {
   "cell_type": "code",
   "execution_count": null,
   "id": "5ac7978c-b4c4-48ef-bf38-cab7b05a727e",
   "metadata": {},
   "outputs": [],
   "source": [
    "numbers.count()"
   ]
  },
  {
   "cell_type": "markdown",
   "id": "8500ed76-f4db-40a4-a9ec-00c158a7a8ff",
   "metadata": {},
   "source": [
    "### Conta a quantidade de valores não nulos na Series."
   ]
  },
  {
   "cell_type": "code",
   "execution_count": null,
   "id": "262b665e-437d-4fdf-ab27-6a1272d924fa",
   "metadata": {},
   "outputs": [],
   "source": [
    "numbers.sum()"
   ]
  },
  {
   "cell_type": "markdown",
   "id": "4c420698-7b45-4d44-9b98-ecbcf02a2fe3",
   "metadata": {},
   "source": [
    "### Retorna a soma dos valores da Series, ignorando NaN."
   ]
  },
  {
   "cell_type": "code",
   "execution_count": null,
   "id": "31b009ed-96ab-4670-8382-2dec0b5640e2",
   "metadata": {},
   "outputs": [],
   "source": [
    "numbers.sum(skipna = False)"
   ]
  },
  {
   "cell_type": "markdown",
   "id": "9e525b92-2152-4487-80f5-554752d98aa7",
   "metadata": {},
   "source": [
    "### Retorna a soma dos valores, sem ignorar NaN."
   ]
  },
  {
   "cell_type": "code",
   "execution_count": null,
   "id": "31dd5166-4013-4dbf-8ad5-992f3a6bf3b8",
   "metadata": {},
   "outputs": [],
   "source": [
    "numbers.sum(min_count = 3)"
   ]
  },
  {
   "cell_type": "markdown",
   "id": "da56386d-7937-4d43-b615-f8241d77168c",
   "metadata": {},
   "source": [
    "### Retorna a soma apenas se houver pelo menos 3 valores não nulos."
   ]
  },
  {
   "cell_type": "code",
   "execution_count": null,
   "id": "ec1e385d-84c7-4ca6-92a4-b00befb57852",
   "metadata": {},
   "outputs": [],
   "source": [
    "numbers.product(min_count = 3)"
   ]
  },
  {
   "cell_type": "markdown",
   "id": "fa06b53a-c063-4249-b161-495ca0c27336",
   "metadata": {},
   "source": [
    "### Retorna o produto dos valores, exigindo pelo menos 3 valores não nulos."
   ]
  },
  {
   "cell_type": "code",
   "execution_count": null,
   "id": "9f3e9527-2373-4a28-9dcb-0e50eaaa874f",
   "metadata": {},
   "outputs": [],
   "source": [
    "numbers"
   ]
  },
  {
   "cell_type": "markdown",
   "id": "b8aecd51-3de0-4d6a-8179-c8f385aafe26",
   "metadata": {},
   "source": [
    "### Exibe a Series."
   ]
  },
  {
   "cell_type": "code",
   "execution_count": null,
   "id": "12bc7d60-0f6d-4566-8040-404c52646b3f",
   "metadata": {},
   "outputs": [],
   "source": [
    "numbers.cumsum()"
   ]
  },
  {
   "cell_type": "markdown",
   "id": "81c6158b-908a-4fe7-bf02-dc1e97378bc4",
   "metadata": {},
   "source": [
    "### Retorna a soma acumulativa dos valores da Series."
   ]
  },
  {
   "cell_type": "code",
   "execution_count": null,
   "id": "c5adb901-f75b-4ab6-af49-33065b81e6aa",
   "metadata": {},
   "outputs": [],
   "source": [
    "numbers.cumsum(skipna = False)"
   ]
  },
  {
   "cell_type": "markdown",
   "id": "19c4fe90-0b34-4f3b-bc70-3de226080b34",
   "metadata": {},
   "source": [
    "### Retorna a soma acumulativa, sem ignorar NaN."
   ]
  },
  {
   "cell_type": "code",
   "execution_count": null,
   "id": "9228b324-7267-4590-a7fa-b7a6772d1892",
   "metadata": {},
   "outputs": [],
   "source": [
    "numbers"
   ]
  },
  {
   "cell_type": "markdown",
   "id": "d3b0888a-4598-4f56-a252-f0093338ade5",
   "metadata": {},
   "source": [
    "### Retorna a variação percentual entre valores consecutivos da Series."
   ]
  },
  {
   "cell_type": "code",
   "execution_count": null,
   "id": "be51d0d9-0f28-42ef-a9e9-a578ac92bff6",
   "metadata": {},
   "outputs": [],
   "source": [
    "numbers.pct_change()"
   ]
  }
 ],
 "metadata": {
  "kernelspec": {
   "display_name": "Python [conda env:base] *",
   "language": "python",
   "name": "conda-base-py"
  },
  "language_info": {
   "codemirror_mode": {
    "name": "ipython",
    "version": 3
   },
   "file_extension": ".py",
   "mimetype": "text/x-python",
   "name": "python",
   "nbconvert_exporter": "python",
   "pygments_lexer": "ipython3",
   "version": "3.12.7"
  }
 },
 "nbformat": 4,
 "nbformat_minor": 5
}
