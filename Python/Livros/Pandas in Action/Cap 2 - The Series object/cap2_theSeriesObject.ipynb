{
 "cells": [
  {
   "cell_type": "markdown",
   "id": "948ac3f0-b19f-4475-b750-d2f837f33225",
   "metadata": {},
   "source": [
    "# Trabalhando com `pd.Series` no Pandas\n",
    "\n",
    "Este documento explica como criar e manipular **Series** no Pandas, que são estruturas de dados unidimensionais semelhantes a listas e dicionários.\n",
    "\n",
    "---\n",
    "\n",
    "## Importando as bibliotecas necessárias\n",
    "### pandas: Biblioteca principal para análise de dados em Python.\n",
    "### numpy: Biblioteca para operações numéricas avançadas.\n"
   ]
  },
  {
   "cell_type": "code",
   "execution_count": null,
   "id": "820e7fc9-2faf-481c-a5b5-1be3042e073a",
   "metadata": {},
   "outputs": [],
   "source": [
    "import pandas as pd\n",
    "import numpy as np"
   ]
  },
  {
   "cell_type": "markdown",
   "id": "59a3a575-7ccc-4c7f-b576-617e58b5fc96",
   "metadata": {},
   "source": [
    "### Cria uma Série vazia.\n",
    "### Normalmente, é necessário passar dados para evitar um aviso de depreciação."
   ]
  },
  {
   "cell_type": "code",
   "execution_count": null,
   "id": "ac3f1b01-c2ab-490c-95a4-3296325e8e19",
   "metadata": {},
   "outputs": [],
   "source": [
    "pd.Series()"
   ]
  },
  {
   "cell_type": "markdown",
   "id": "6f412ad2-83cd-4da1-ab5e-41b99d53ed29",
   "metadata": {},
   "source": [
    "### Cria uma Série de strings, representando sabores de sorvete.\n",
    "### O Pandas atribui índices numéricos automaticamente (0, 1, 2, ...)."
   ]
  },
  {
   "cell_type": "code",
   "execution_count": null,
   "id": "87181411-46c3-4273-9a20-a8f06029a38a",
   "metadata": {},
   "outputs": [],
   "source": [
    "ice_cream_flavors = [\n",
    "    'Chocolate',\n",
    "    'Vanilla',\n",
    "    'Strawberry',\n",
    "    'Rum Raisin',\n",
    "]\n",
    "\n",
    "pd.Series(ice_cream_flavors)"
   ]
  },
  {
   "cell_type": "markdown",
   "id": "1f63cb7a-52e3-41f8-9dff-c3c01cb3d4dc",
   "metadata": {},
   "source": [
    "### Associa os sabores de sorvete aos dias da semana como índices."
   ]
  },
  {
   "cell_type": "code",
   "execution_count": null,
   "id": "9c1e0baf-74cc-43a8-a879-37c8c5fe268c",
   "metadata": {},
   "outputs": [],
   "source": [
    "days_of_week = ('Monday','Wednesday', 'Friday', 'Saturday')\n",
    "pd.Series(ice_cream_flavors, days_of_week)"
   ]
  },
  {
   "cell_type": "markdown",
   "id": "882d8160-df0f-4ffb-939d-ad8e923ee96f",
   "metadata": {},
   "source": [
    "### Cria uma Série de valores booleanos."
   ]
  },
  {
   "cell_type": "code",
   "execution_count": null,
   "id": "d356d270-a72b-438b-9dd5-5486e83a5594",
   "metadata": {},
   "outputs": [],
   "source": [
    "bunch_of_bools = [True, False, False]\n",
    "pd.Series(bunch_of_bools)"
   ]
  },
  {
   "cell_type": "markdown",
   "id": "89436336-e479-48c1-a7c9-8db84f77a2a2",
   "metadata": {},
   "source": [
    "### Cria uma Série de preços de ações, associando valores às etiquetas 'Open' e 'Close'."
   ]
  },
  {
   "cell_type": "code",
   "execution_count": null,
   "id": "bfc32701-9297-4a00-be00-ceae09d964d3",
   "metadata": {},
   "outputs": [],
   "source": [
    "stock_prices = [985.32, 950.44]\n",
    "time_of_day = ['Open', 'Close']\n",
    "\n",
    "pd.Series(stock_prices, time_of_day)"
   ]
  },
  {
   "cell_type": "markdown",
   "id": "74ba72a6-ab57-4d72-8844-8f310c12b3d5",
   "metadata": {},
   "source": [
    "### Cria uma Série de números inteiros com índices automáticos."
   ]
  },
  {
   "cell_type": "code",
   "execution_count": null,
   "id": "52743859-f6f5-4f36-b4d6-3ac1ddfb86ce",
   "metadata": {},
   "outputs": [],
   "source": [
    "lucky_numbers = [4, 8, 15, 16, 23, 42]\n",
    "pd.Series(lucky_numbers)"
   ]
  },
  {
   "cell_type": "markdown",
   "id": "351df3b9-e081-4713-a6fa-d83fc25ddefe",
   "metadata": {},
   "source": [
    "### Cria uma Série de números de ponto flutuante, convertendo automaticamente os inteiros."
   ]
  },
  {
   "cell_type": "code",
   "execution_count": null,
   "id": "5c3f73d0-386a-4d76-a252-7fd1e1d64eac",
   "metadata": {},
   "outputs": [],
   "source": [
    "lucky_numbers = [4, 8, 15, 16, 23, 42]\n",
    "pd.Series(lucky_numbers, dtype = 'float')"
   ]
  },
  {
   "cell_type": "markdown",
   "id": "dfbf0d38-346a-4c92-b81a-968249942e48",
   "metadata": {},
   "source": [
    "### Usa np.nan para representar valores desconhecidos ou ausentes."
   ]
  },
  {
   "cell_type": "code",
   "execution_count": null,
   "id": "2605cffc-9b3d-4cc0-a31e-a626ab77fe57",
   "metadata": {},
   "outputs": [],
   "source": [
    "temperatures = [94, 88, np.nan, 91]\n",
    "pd.Series(temperatures)"
   ]
  },
  {
   "cell_type": "markdown",
   "id": "87c3e050-ff14-486f-bcca-e744e39b1861",
   "metadata": {},
   "source": [
    "### Cria uma Série onde as chaves do dicionário se tornam os índices e os valores representam calorias."
   ]
  },
  {
   "cell_type": "code",
   "execution_count": null,
   "id": "eaa7f94d-b2bb-42ee-ae17-754177fbac70",
   "metadata": {},
   "outputs": [],
   "source": [
    "calorie_info = {\n",
    "    'Cereal': 125,\n",
    "    'Chocolate Bar': 406,\n",
    "    'Ice Cream Sundae': 342,\n",
    "}\n",
    "\n",
    "diet = pd.Series(calorie_info)\n",
    "diet"
   ]
  },
  {
   "cell_type": "markdown",
   "id": "92226b1d-3888-47fc-a364-645719db966b",
   "metadata": {},
   "source": [
    "### Cria uma Série de cores, inferindo automaticamente os índices."
   ]
  },
  {
   "cell_type": "code",
   "execution_count": null,
   "id": "12594210-b01e-4478-9140-7222e2d4cb16",
   "metadata": {},
   "outputs": [],
   "source": [
    "pd.Series(data = ('Red', 'Green', 'Blue'))"
   ]
  },
  {
   "cell_type": "markdown",
   "id": "655aeae3-6560-431a-ba80-7cef0beb8782",
   "metadata": {},
   "source": [
    "### Alternativa equivalente, armazenando a tupla em uma variável antes de criar a Série."
   ]
  },
  {
   "cell_type": "code",
   "execution_count": null,
   "id": "080b7a5a-b15b-44f8-9ccb-2fd8a82f2fbc",
   "metadata": {},
   "outputs": [],
   "source": [
    "colors = ('Red', 'Green', 'Blue')\n",
    "pd.Series(colors)"
   ]
  },
  {
   "cell_type": "markdown",
   "id": "658c5a12-4bc5-4773-8416-1603ecd82fc4",
   "metadata": {},
   "source": [
    "### Cria uma Série onde cada elemento é uma tupla, representando valores RGB de cores."
   ]
  },
  {
   "cell_type": "code",
   "execution_count": null,
   "id": "134a5c60-8c6f-4ab8-a36f-56305bfee91f",
   "metadata": {},
   "outputs": [],
   "source": [
    "rgb_colors = [(120, 41, 26), (196, 165, 45)]\n",
    "pd.Series(rgb_colors)"
   ]
  },
  {
   "cell_type": "markdown",
   "id": "de6aa753-21af-47ec-8f24-cbe637716297",
   "metadata": {},
   "source": [
    "### Converte um conjunto (set) para lista antes de criar a Série, pois sets não têm ordem fixa."
   ]
  },
  {
   "cell_type": "code",
   "execution_count": null,
   "id": "b491753f-f100-4bed-9a8c-9373818769f3",
   "metadata": {},
   "outputs": [],
   "source": [
    "my_set = {'Ricky','Bobby'}\n",
    "pd.Series(list(my_set))"
   ]
  },
  {
   "cell_type": "markdown",
   "id": "53fc8371-6636-4cb3-8874-2e5a9e6bddf9",
   "metadata": {},
   "source": [
    "### Gera 10 números inteiros aleatórios entre 1 e 100 usando NumPy."
   ]
  },
  {
   "cell_type": "code",
   "execution_count": null,
   "id": "39070a3d-97f3-4946-bd60-272f137040cc",
   "metadata": {},
   "outputs": [],
   "source": [
    "random_data = np.random.randint(1, 101, 10)\n",
    "random_data"
   ]
  },
  {
   "cell_type": "markdown",
   "id": "7ef95e97-b1ec-4a3c-ab2b-719d5af9da56",
   "metadata": {},
   "source": [
    "### Converte os números aleatórios em uma Série do Pandas."
   ]
  },
  {
   "cell_type": "code",
   "execution_count": null,
   "id": "6a0fc786-0681-4d1f-be7b-cf916bb4ba7a",
   "metadata": {},
   "outputs": [],
   "source": [
    "pd.Series(random_data)"
   ]
  },
  {
   "cell_type": "code",
   "execution_count": null,
   "id": "72900fc3-7e46-43a8-a1c3-54d4ccf7ebd6",
   "metadata": {},
   "outputs": [],
   "source": []
  }
 ],
 "metadata": {
  "kernelspec": {
   "display_name": "Python [conda env:base] *",
   "language": "python",
   "name": "conda-base-py"
  },
  "language_info": {
   "codemirror_mode": {
    "name": "ipython",
    "version": 3
   },
   "file_extension": ".py",
   "mimetype": "text/x-python",
   "name": "python",
   "nbconvert_exporter": "python",
   "pygments_lexer": "ipython3",
   "version": "3.12.7"
  }
 },
 "nbformat": 4,
 "nbformat_minor": 5
}
