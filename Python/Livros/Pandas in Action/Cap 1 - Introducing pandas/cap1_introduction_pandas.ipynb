{
 "cells": [
  {
   "cell_type": "markdown",
   "id": "b7ee57ba-e698-475c-839f-d7b2da55b9e3",
   "metadata": {},
   "source": [
    "# Introdução ao Pandas 🐼\n",
    "\n",
    "O **Pandas** é uma biblioteca essencial para análise e manipulação de dados em Python.  \n",
    "Ele fornece estruturas como **DataFrames** e **Series**, facilitando operações como leitura, filtragem, agregação e análise de dados.\n",
    "\n",
    "📌 **O que você aprenderá neste notebook?**  \n",
    "✅ Como importar e usar o Pandas  \n",
    "✅ Como carregar arquivos CSV  \n",
    "✅ Como manipular dados com DataFrames  \n",
    "✅ Como realizar operações comuns em análise de dados  \n",
    "\n",
    "Vamos começar! 🚀\n"
   ]
  },
  {
   "cell_type": "markdown",
   "id": "6cfb35ac-b532-4cd5-89df-42608dd5ee6a",
   "metadata": {},
   "source": [
    "## 📌 Importação de Bibliotecas\n",
    "\n",
    "Antes de trabalhar com dados, precisamos importar o **Pandas**."
   ]
  },
  {
   "cell_type": "code",
   "execution_count": 95,
   "id": "5f860829-85cd-4e51-9fc2-e26ba3bd56a5",
   "metadata": {},
   "outputs": [],
   "source": [
    "import pandas as pd"
   ]
  },
  {
   "cell_type": "markdown",
   "id": "53df7de9-5bd2-4dac-a2bf-c5f5b8c01c25",
   "metadata": {},
   "source": [
    "### Carrega o arquivo CSV chamado movies.csv em um DataFrame do pandas.\n"
   ]
  },
  {
   "cell_type": "code",
   "execution_count": null,
   "id": "df8ddf6f-d535-4064-b7a4-55511e2502d4",
   "metadata": {},
   "outputs": [],
   "source": [
    "pd.read_csv(\"movies.csv\")"
   ]
  },
  {
   "cell_type": "markdown",
   "id": "eab634fd-8eda-49ae-8b6a-466a14a90f7c",
   "metadata": {},
   "source": [
    "### Carrega o arquivo movies.csv, definindo a coluna Title como índice do DataFrame."
   ]
  },
  {
   "cell_type": "code",
   "execution_count": null,
   "id": "277aabb5-4150-4abc-9047-f6ecf84df77e",
   "metadata": {},
   "outputs": [],
   "source": [
    "pd.read_csv('movies.csv', index_col = 'Title')"
   ]
  },
  {
   "cell_type": "markdown",
   "id": "642f44ca-bf90-4e6f-ae78-af98491f9fe1",
   "metadata": {},
   "source": [
    "### Carrega o dataset e armazena o DataFrame na variável movies.\n",
    "### A coluna Title será usada como índice, permitindo acesso mais rápido aos filmes pelo título."
   ]
  },
  {
   "cell_type": "code",
   "execution_count": null,
   "id": "9f24be91-bed8-4261-8e59-d2bbea384287",
   "metadata": {},
   "outputs": [],
   "source": [
    "movies = pd.read_csv('movies.csv', index_col = 'Title')"
   ]
  },
  {
   "cell_type": "markdown",
   "id": "42532a91-4a5b-4c27-ae5f-aa1462cc73d4",
   "metadata": {},
   "source": [
    "### Exibe as 4 primeiras linhas do DataFrame."
   ]
  },
  {
   "cell_type": "code",
   "execution_count": null,
   "id": "802e06c0-8f50-454e-a832-605e546b13e3",
   "metadata": {},
   "outputs": [],
   "source": [
    "movies.head(4)"
   ]
  },
  {
   "cell_type": "markdown",
   "id": "cf158283-855c-4610-b8ed-574c1599024e",
   "metadata": {},
   "source": [
    "### Exibe as 6 últimas linhas do DataFrame."
   ]
  },
  {
   "cell_type": "code",
   "execution_count": null,
   "id": "7f77da9a-aefe-4c30-9915-8e34279a49f1",
   "metadata": {},
   "outputs": [],
   "source": [
    "movies.tail(6)"
   ]
  },
  {
   "cell_type": "markdown",
   "id": "fe642c1d-7806-4999-afc0-1dd5f7d77e0b",
   "metadata": {},
   "source": [
    "### Retorna o número total de linhas (filmes) no DataFrame."
   ]
  },
  {
   "cell_type": "code",
   "execution_count": null,
   "id": "95fee98f-0ce0-4e9d-96b0-e35c3a2b664f",
   "metadata": {},
   "outputs": [],
   "source": [
    "len(movies)"
   ]
  },
  {
   "cell_type": "markdown",
   "id": "33e11134-2d15-406f-9ac1-b4605007efd1",
   "metadata": {},
   "source": [
    "### Retorna a dimensão do DataFrame no formato (número de linhas, número de colunas)."
   ]
  },
  {
   "cell_type": "code",
   "execution_count": null,
   "id": "c4df0bbe-9a73-42eb-b75c-d977ffdca2bd",
   "metadata": {},
   "outputs": [],
   "source": [
    "movies.shape"
   ]
  },
  {
   "cell_type": "markdown",
   "id": "44b9b3e9-8bd9-4f57-bb86-8ff32546c337",
   "metadata": {},
   "source": [
    "### Retorna a dimensão do DataFrame no formato (número de linhas, número de colunas)."
   ]
  },
  {
   "cell_type": "code",
   "execution_count": null,
   "id": "e9502d33-bd35-4434-8bbf-9a53a6c1a6b3",
   "metadata": {},
   "outputs": [],
   "source": [
    "movies.dtypes"
   ]
  },
  {
   "cell_type": "markdown",
   "id": "ed182b6f-0085-48e5-9a3a-2c2eb141d09c",
   "metadata": {},
   "source": [
    "### Retorna a 500ª linha (índice baseado em posição, começa do zero)."
   ]
  },
  {
   "cell_type": "code",
   "execution_count": null,
   "id": "d7a99d23-36fc-4fde-bfb8-0018e9c74e09",
   "metadata": {},
   "outputs": [],
   "source": [
    "movies.iloc[499]"
   ]
  },
  {
   "cell_type": "markdown",
   "id": "c802be33-5395-40ad-8ef5-8f0617ff9dea",
   "metadata": {},
   "source": [
    "### Retorna a 500ª linha (índice baseado em posição, começa do zero)."
   ]
  },
  {
   "cell_type": "code",
   "execution_count": null,
   "id": "8de01731-05f9-44d4-aec8-222afd9bbd93",
   "metadata": {},
   "outputs": [],
   "source": [
    "movies.loc['Forrest Gump']"
   ]
  },
  {
   "cell_type": "markdown",
   "id": "e18182e1-1016-4151-8775-c8f0927488d9",
   "metadata": {},
   "source": [
    "### Retorna os dados do filme 101 Dalmatians."
   ]
  },
  {
   "cell_type": "code",
   "execution_count": null,
   "id": "88d9c832-be51-4507-8949-f687aee55a08",
   "metadata": {},
   "outputs": [],
   "source": [
    "movies.loc['101 Dalmatians']"
   ]
  },
  {
   "cell_type": "markdown",
   "id": "17638d1c-7cbb-424e-8488-1d29384b3737",
   "metadata": {},
   "source": [
    "### Ordena os filmes por ano de lançamento (Year) em ordem decrescente e exibe os primeiros resultados."
   ]
  },
  {
   "cell_type": "code",
   "execution_count": null,
   "id": "d7f4ce65-9e28-43d7-a8a0-eee0684289b0",
   "metadata": {},
   "outputs": [],
   "source": [
    "movies.sort_values(by = 'Year', ascending = False).head()"
   ]
  },
  {
   "cell_type": "markdown",
   "id": "7d0abf3e-2c31-4c80-b727-074e5211c04f",
   "metadata": {},
   "source": [
    "### Ordena os filmes primeiro por Studio (em ordem alfabética) e depois por Year (em ordem crescente).\n",
    "### Exibe os primeiros resultados."
   ]
  },
  {
   "cell_type": "code",
   "execution_count": null,
   "id": "1486a6d8-8727-4b58-9ac3-3068b7703fa1",
   "metadata": {},
   "outputs": [],
   "source": [
    "movies.sort_values(by = ['Studio', 'Year']).head()"
   ]
  },
  {
   "cell_type": "markdown",
   "id": "7d31ded2-659d-4662-a78a-b26da5319c1c",
   "metadata": {},
   "source": [
    "### Retorna a coluna Studio, contendo o estúdio responsável por cada filme."
   ]
  },
  {
   "cell_type": "code",
   "execution_count": null,
   "id": "6044eb42-cc06-4f12-ace3-703d751792f5",
   "metadata": {},
   "outputs": [],
   "source": [
    "movies['Studio']"
   ]
  },
  {
   "cell_type": "markdown",
   "id": "4e8bf8de-91f2-4b47-8b80-361bdc36403e",
   "metadata": {},
   "source": [
    "### Conta quantas vezes cada estúdio aparece e exibe os 10 estúdios mais frequentes."
   ]
  },
  {
   "cell_type": "code",
   "execution_count": null,
   "id": "7afde156-a7cd-44dc-8d66-a951894ee57a",
   "metadata": {},
   "outputs": [],
   "source": [
    "movies['Studio'].value_counts().head(10)"
   ]
  },
  {
   "cell_type": "markdown",
   "id": "a45518ec-a627-4a68-83f4-f707facb6bbe",
   "metadata": {},
   "source": [
    "### Filtra o DataFrame, retornando apenas os filmes produzidos pelo estúdio Universal."
   ]
  },
  {
   "cell_type": "code",
   "execution_count": null,
   "id": "f7290d4b-89d9-48d3-99b5-7679b0f8408e",
   "metadata": {},
   "outputs": [],
   "source": [
    "movies[movies['Studio'] == 'Universal']"
   ]
  },
  {
   "cell_type": "markdown",
   "id": "b5d096ec-308d-4abf-81cc-1f63049131ae",
   "metadata": {},
   "source": [
    "### Cria uma máscara booleana onde cada linha é True se o estúdio for Universal e False caso contrário."
   ]
  },
  {
   "cell_type": "code",
   "execution_count": null,
   "id": "2005255d-d2cd-40be-84e4-2bf116197a9e",
   "metadata": {},
   "outputs": [],
   "source": [
    "released_by_universal = (movies['Studio'] == 'Universal')"
   ]
  },
  {
   "cell_type": "markdown",
   "id": "daf1000b-ea02-4543-ba3b-928809dc7ec9",
   "metadata": {},
   "source": [
    "### Usa a máscara booleana para exibir os primeiros filmes lançados pela Universal."
   ]
  },
  {
   "cell_type": "code",
   "execution_count": null,
   "id": "ee0b68d2-ac76-42c1-9f54-4d3a7e587f9f",
   "metadata": {},
   "outputs": [],
   "source": [
    "movies[released_by_universal].head()"
   ]
  },
  {
   "cell_type": "markdown",
   "id": "379f7380-fa9a-462e-ac7a-409f2e47c48f",
   "metadata": {},
   "source": [
    "## Filtrando filmes com múltiplas condições\n",
    "### Filtra os filmes que foram lançados pela Universal e no ano 2015.\n",
    "### O operador & (E lógico) garante que ambas as condições sejam verdadeiras."
   ]
  },
  {
   "cell_type": "code",
   "execution_count": null,
   "id": "b62c6b62-3014-4230-9d8b-7a3104c71847",
   "metadata": {},
   "outputs": [],
   "source": [
    "released_by_universal = movies['Studio'] == 'Universal'\n",
    "released_in_2015 = movies['Year'] == 2015\n",
    "movies[released_by_universal & released_in_2015]"
   ]
  },
  {
   "cell_type": "markdown",
   "id": "c91c0e16-9ed8-495a-b6b6-81bc656c44d7",
   "metadata": {},
   "source": [
    "### Retorna todos os filmes lançados antes de 1975."
   ]
  },
  {
   "cell_type": "code",
   "execution_count": null,
   "id": "fde8aa05-a42e-429e-bf24-6f08414229fe",
   "metadata": {},
   "outputs": [],
   "source": [
    "before_1975 = movies['Year'] < 1975\n",
    "movies[before_1975]"
   ]
  },
  {
   "cell_type": "markdown",
   "id": "c2a074e9-85e5-4834-a08b-a41e22c1a4ae",
   "metadata": {},
   "source": [
    "### Usa .between() para selecionar filmes lançados entre 1983 e 1986, incluindo ambos os anos."
   ]
  },
  {
   "cell_type": "code",
   "execution_count": null,
   "id": "4c362bda-0046-42f2-9267-b3c190ec39c2",
   "metadata": {},
   "outputs": [],
   "source": [
    "mid_80s = movies['Year'].between(1983, 1986)\n",
    "movies[mid_80s]"
   ]
  },
  {
   "cell_type": "markdown",
   "id": "b778f2d1-181d-4945-b7c5-3207bd447d23",
   "metadata": {},
   "source": [
    "### Converte o índice (títulos dos filmes) para minúsculas e verifica quais contêm a palavra \"dark\".\n",
    "### Retorna todos os filmes cujo título contém a palavra \"dark\"."
   ]
  },
  {
   "cell_type": "code",
   "execution_count": null,
   "id": "b58715fa-e4d8-4fdd-ac19-4bb82d24ccab",
   "metadata": {},
   "outputs": [],
   "source": [
    "has_dark_in_title = movies.index.str.lower().str.contains('dark')\n",
    "movies[has_dark_in_title]"
   ]
  },
  {
   "cell_type": "markdown",
   "id": "f7e145cf-7aa0-47ed-a338-5d38c4282689",
   "metadata": {},
   "source": [
    "### Remove os símbolos \"$\" e as vírgulas da coluna Gross, que representa a bilheteria dos filmes."
   ]
  },
  {
   "cell_type": "code",
   "execution_count": null,
   "id": "8fe3ada5-5c8b-40da-b59b-9e81ca2ea175",
   "metadata": {},
   "outputs": [],
   "source": [
    "movies['Gross'].str.replace('$', '', regex = False).str.replace(',', '', regex = False)"
   ]
  },
  {
   "cell_type": "markdown",
   "id": "5da91e98-abc8-4687-9e5a-8488985eb551",
   "metadata": {},
   "source": [
    "### Além da remoção, converte os valores para o tipo float para permitir cálculos numéricos."
   ]
  },
  {
   "cell_type": "code",
   "execution_count": null,
   "id": "5065200b-8c89-4d1d-864b-7ae41742d2fe",
   "metadata": {},
   "outputs": [],
   "source": [
    "movies['Gross'].str.replace('$', '', regex = False).str.replace(',', '', regex = False).astype(float)"
   ]
  },
  {
   "cell_type": "markdown",
   "id": "d950db52-39f1-4982-a282-1e51d91cb064",
   "metadata": {},
   "source": [
    "### Atualiza a coluna Gross no DataFrame, armazenando os valores como números decimais."
   ]
  },
  {
   "cell_type": "code",
   "execution_count": null,
   "id": "c90114d7-1e4b-430a-aee2-8f9c7d0cd75e",
   "metadata": {},
   "outputs": [],
   "source": [
    "movies['Gross'] = (movies['Gross'].str.replace('$', '', regex = False).str.replace(',', '', regex = False).astype(float))"
   ]
  },
  {
   "cell_type": "markdown",
   "id": "5a5b8c3c-773e-4c00-a035-08af2950f83a",
   "metadata": {},
   "source": [
    "### Calcula a média de bilheteria de todos os filmes."
   ]
  },
  {
   "cell_type": "code",
   "execution_count": null,
   "id": "b962cd29-9be1-4769-9a80-826df8c2c1fc",
   "metadata": {},
   "outputs": [],
   "source": [
    "movies['Gross'].mean()"
   ]
  },
  {
   "cell_type": "markdown",
   "id": "803d1a6f-a2fa-473d-ae72-cd509b58db48",
   "metadata": {},
   "source": [
    "### Agrupa os filmes pelo nome do estúdio.\n",
    "### Permite realizar operações estatísticas por grupo."
   ]
  },
  {
   "cell_type": "code",
   "execution_count": null,
   "id": "3c74f309-ccea-4f52-9a5b-f8b5684831ba",
   "metadata": {},
   "outputs": [],
   "source": [
    "studios = movies.groupby('Studio')"
   ]
  },
  {
   "cell_type": "markdown",
   "id": "6ed6b063-9944-4fd2-a362-6ff64caea030",
   "metadata": {},
   "source": [
    "### Conta quantos filmes cada estúdio produziu e exibe os primeiros resultados."
   ]
  },
  {
   "cell_type": "code",
   "execution_count": null,
   "id": "1c2d08f4-e2d2-449f-a3b7-0894d499ead6",
   "metadata": {},
   "outputs": [],
   "source": [
    "studios['Gross'].count().head()"
   ]
  },
  {
   "cell_type": "markdown",
   "id": "0967e5d2-0d14-438b-a6ba-8561dd99dbe5",
   "metadata": {},
   "source": [
    "### Conta os filmes por estúdio e ordena do maior para o menor."
   ]
  },
  {
   "cell_type": "code",
   "execution_count": null,
   "id": "bdb3bd43-420a-4bd8-b731-a556976782d9",
   "metadata": {},
   "outputs": [],
   "source": [
    "studios['Gross'].count().sort_values(ascending = False).head()"
   ]
  },
  {
   "cell_type": "markdown",
   "id": "5a14f7aa-e77f-43b1-a63e-76ab7a9978e5",
   "metadata": {},
   "source": [
    "### Calcula a bilheteria total de cada estúdio e exibe os primeiros resultados."
   ]
  },
  {
   "cell_type": "code",
   "execution_count": null,
   "id": "2d80a108-e742-44c0-a9b3-4810cbc2e19e",
   "metadata": {},
   "outputs": [],
   "source": [
    "studios['Gross'].sum().head()"
   ]
  },
  {
   "cell_type": "markdown",
   "id": "c09184fd-5578-4cf5-9cd1-142080dfbc70",
   "metadata": {},
   "source": [
    "### Ordena os estúdios pelo total arrecadado em bilheteria (do maior para o menor)."
   ]
  },
  {
   "cell_type": "code",
   "execution_count": null,
   "id": "d11bc207-4a5d-4d8c-bad1-eb4d36649280",
   "metadata": {},
   "outputs": [],
   "source": [
    "studios['Gross'].sum().sort_values(ascending = False).head()"
   ]
  }
 ],
 "metadata": {
  "kernelspec": {
   "display_name": "Python [conda env:base] *",
   "language": "python",
   "name": "conda-base-py"
  },
  "language_info": {
   "codemirror_mode": {
    "name": "ipython",
    "version": 3
   },
   "file_extension": ".py",
   "mimetype": "text/x-python",
   "name": "python",
   "nbconvert_exporter": "python",
   "pygments_lexer": "ipython3",
   "version": "3.12.7"
  }
 },
 "nbformat": 4,
 "nbformat_minor": 5
}
