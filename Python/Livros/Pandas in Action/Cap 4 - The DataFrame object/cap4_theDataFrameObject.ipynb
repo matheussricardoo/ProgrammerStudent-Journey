{
 "cells": [
  {
   "cell_type": "markdown",
   "id": "ac5f33f6-4492-402d-a933-c83ed33e2180",
   "metadata": {},
   "source": [
    "### Importa as bibliotecas necessárias"
   ]
  },
  {
   "cell_type": "code",
   "execution_count": null,
   "id": "b7c9daab-21f4-47d2-8a6b-96f80c6e1ae9",
   "metadata": {},
   "outputs": [],
   "source": [
    "import pandas as pd\n",
    "import numpy as np\n",
    "import random "
   ]
  },
  {
   "cell_type": "markdown",
   "id": "3266674e-3101-4ab6-85a0-99cb8292eab6",
   "metadata": {},
   "source": [
    "### Cria um dicionário com dados sobre cidades e populações\n",
    "### Converte o dicionário em um DataFrame do pandas"
   ]
  },
  {
   "cell_type": "code",
   "execution_count": null,
   "id": "4424c567-7928-4b4b-8a80-f98b2a7274c3",
   "metadata": {},
   "outputs": [],
   "source": [
    "city_data = {'City':['New York City', 'Paris', 'Barcelona', 'Rome'], 'Country': ['United States', 'France', 'Spain', 'Italy'],'Population': [8600000, 2141000, 5515000, 2873000]}\n",
    "cities = pd.DataFrame(city_data)\n",
    "cities"
   ]
  },
  {
   "cell_type": "markdown",
   "id": "710c9f5b-d380-42d1-93d2-f5bf2e99ed93",
   "metadata": {},
   "source": [
    "### As duas linhas abaixo são equivalentes e transpõem o DataFrame (linhas viram colunas e vice-versa)"
   ]
  },
  {
   "cell_type": "code",
   "execution_count": null,
   "id": "da0d254e-6ae5-489e-9faa-dfb211d6c3b0",
   "metadata": {},
   "outputs": [],
   "source": [
    "# The two lines below are equivalent\n",
    "cities.transpose()\n",
    "cities.T"
   ]
  },
  {
   "cell_type": "markdown",
   "id": "12d1e2ae-047d-4968-bc43-3470ba41b769",
   "metadata": {},
   "source": [
    "### Gera uma matriz 3x5 de números inteiros aleatórios entre 1 e 100"
   ]
  },
  {
   "cell_type": "code",
   "execution_count": null,
   "id": "b4a833f0-9a90-46e3-ad5d-bc0d82a7584e",
   "metadata": {},
   "outputs": [],
   "source": [
    "random_data = np.random.randint(1, 101, [3, 5])\n",
    "random_data"
   ]
  },
  {
   "cell_type": "markdown",
   "id": "950f6553-d585-4caa-a465-eea88f7cbd92",
   "metadata": {},
   "source": [
    "### Converte a matriz gerada para um DataFrame do pandas"
   ]
  },
  {
   "cell_type": "code",
   "execution_count": null,
   "id": "d0d30fb6-3426-42ec-8e7e-91ba3ee7289d",
   "metadata": {},
   "outputs": [],
   "source": [
    "pd.DataFrame(random_data)"
   ]
  },
  {
   "cell_type": "markdown",
   "id": "d8286741-89d5-4424-b0ad-443c18881ab1",
   "metadata": {},
   "source": [
    "### Define rótulos para as linhas e cria um DataFrame com os dados aleatórios"
   ]
  },
  {
   "cell_type": "code",
   "execution_count": null,
   "id": "8bbd51f2-c2a4-463c-9d16-1605d650cea7",
   "metadata": {},
   "outputs": [],
   "source": [
    "row_labels = ['Morning', 'Afternoon', 'Evening']\n",
    "temperatures = pd.DataFrame(random_data, row_labels)\n",
    "temperatures"
   ]
  },
  {
   "cell_type": "markdown",
   "id": "a161907b-2412-4619-be62-c177cfb5f6a5",
   "metadata": {},
   "source": [
    "### Define rótulos para as linhas e colunas e cria um DataFrame formatado"
   ]
  },
  {
   "cell_type": "code",
   "execution_count": null,
   "id": "aa8dca62-6dce-4d86-b11c-3571effeec15",
   "metadata": {},
   "outputs": [],
   "source": [
    "row_labels = ['Morning', 'Afternoon', 'Evening']\n",
    "column_labels = ('Monday', 'Tuesday', 'Wednesday', 'Thursday', 'Friday')\n",
    "temperatures = pd.DataFrame(random_data, row_labels, column_labels)\n",
    "temperatures"
   ]
  },
  {
   "cell_type": "markdown",
   "id": "8bb7bce5-04f5-4dfe-b797-3c2670e90093",
   "metadata": {},
   "source": [
    "### Lê o arquivo 'nba.csv' e carrega os dados em um DataFrame"
   ]
  },
  {
   "cell_type": "code",
   "execution_count": null,
   "id": "b1a01fcb-166a-4b1b-b988-6dcead01ba28",
   "metadata": {},
   "outputs": [],
   "source": [
    "pd.read_csv('nba.csv')"
   ]
  },
  {
   "cell_type": "markdown",
   "id": "b6d41115-ad07-4129-8cf1-a3ea4ead2e7a",
   "metadata": {},
   "source": [
    "### Lê o arquivo 'nba.csv' e converte a coluna 'Birthday' para o formato de data"
   ]
  },
  {
   "cell_type": "code",
   "execution_count": null,
   "id": "6892b1c3-5f89-434d-a459-a5d189143c34",
   "metadata": {},
   "outputs": [],
   "source": [
    "pd.read_csv('nba.csv', parse_dates = ['Birthday'])"
   ]
  },
  {
   "cell_type": "markdown",
   "id": "3c855343-c5c2-42f4-a125-a93620dba1fa",
   "metadata": {},
   "source": [
    "### Armazena o DataFrame lido na variável 'nba'"
   ]
  },
  {
   "cell_type": "code",
   "execution_count": null,
   "id": "0bfc62af-5394-48b2-826f-ce0fde805e2f",
   "metadata": {},
   "outputs": [],
   "source": [
    "nba = pd.read_csv('nba.csv', parse_dates = ['Birthday'])"
   ]
  },
  {
   "cell_type": "markdown",
   "id": "3e96f87e-1bab-4e47-89db-d4862f548b1a",
   "metadata": {},
   "source": [
    "### Exibe os tipos de dados de cada coluna do DataFrame"
   ]
  },
  {
   "cell_type": "code",
   "execution_count": null,
   "id": "7dfbf38c-6dcb-46ad-a0fd-702bc6e9f5fa",
   "metadata": {},
   "outputs": [],
   "source": [
    "nba.dtypes"
   ]
  },
  {
   "cell_type": "markdown",
   "id": "ce233661-c0ed-4aac-b0b4-4f25110222ed",
   "metadata": {},
   "source": [
    "### Conta quantas colunas possuem cada tipo de dado"
   ]
  },
  {
   "cell_type": "code",
   "execution_count": null,
   "id": "fc639958-5dd7-4b9e-bf43-37d41b564864",
   "metadata": {},
   "outputs": [],
   "source": [
    "nba.dtypes.value_counts()"
   ]
  },
  {
   "cell_type": "markdown",
   "id": "37a17470-2d74-4512-86d0-e260eab846ac",
   "metadata": {},
   "source": [
    "### Exibe os índices do DataFrame"
   ]
  },
  {
   "cell_type": "code",
   "execution_count": null,
   "id": "e48c8817-9a04-4c7e-9b76-5456d86979b9",
   "metadata": {},
   "outputs": [],
   "source": [
    "nba.index"
   ]
  },
  {
   "cell_type": "markdown",
   "id": "a5ac5a9b-d157-4a50-a287-efc1315f0cd1",
   "metadata": {},
   "source": [
    "### Exibe os nomes das colunas do DataFrame"
   ]
  },
  {
   "cell_type": "code",
   "execution_count": null,
   "id": "a46bdca2-f55b-4bd7-ae5e-74fb76059e76",
   "metadata": {},
   "outputs": [],
   "source": [
    "nba.columns"
   ]
  },
  {
   "cell_type": "markdown",
   "id": "0ad7dabb-a68d-4165-a711-12773f383c87",
   "metadata": {},
   "source": [
    "### Exibe o número de dimensões do DataFrame (deve retornar 2, pois é uma tabela)"
   ]
  },
  {
   "cell_type": "code",
   "execution_count": null,
   "id": "d1e9711c-ddd7-4b66-8110-9dd49e0e9279",
   "metadata": {},
   "outputs": [],
   "source": [
    "nba.ndim"
   ]
  },
  {
   "cell_type": "markdown",
   "id": "b5a4b0fe-b06b-4778-8d9e-5003a5f2d91e",
   "metadata": {},
   "source": [
    "### Retorna a tupla (número de linhas, número de colunas) do DataFrame"
   ]
  },
  {
   "cell_type": "code",
   "execution_count": null,
   "id": "ed5cde07-db76-41ca-a253-9cf8fedd5757",
   "metadata": {},
   "outputs": [],
   "source": [
    "nba.shape"
   ]
  },
  {
   "cell_type": "markdown",
   "id": "9cda6483-b7b1-4493-a5e9-c214c0df868f",
   "metadata": {},
   "source": [
    "### Retorna o número total de elementos no DataFrame (linhas * colunas)"
   ]
  },
  {
   "cell_type": "code",
   "execution_count": null,
   "id": "84fbb3b8-6d69-4ea8-b1f7-5b94cd4345cf",
   "metadata": {},
   "outputs": [],
   "source": [
    "nba.size"
   ]
  },
  {
   "cell_type": "markdown",
   "id": "e0ad8d3c-ff85-4f03-b46b-ec586be31859",
   "metadata": {},
   "source": [
    "### Conta os valores não nulos em cada coluna"
   ]
  },
  {
   "cell_type": "code",
   "execution_count": null,
   "id": "20442ff2-bd76-4182-b955-ca719feb4534",
   "metadata": {},
   "outputs": [],
   "source": [
    "nba.count()"
   ]
  },
  {
   "cell_type": "markdown",
   "id": "a622a8bf-d2a7-4227-8a02-fc2a39417bdb",
   "metadata": {},
   "source": [
    "### Conta o número total de valores não nulos em todo o DataFrame"
   ]
  },
  {
   "cell_type": "code",
   "execution_count": null,
   "id": "0f7ecbc3-1132-4ff0-a9bf-a248ab7d3c2c",
   "metadata": {},
   "outputs": [],
   "source": [
    "nba.count().sum()"
   ]
  },
  {
   "cell_type": "markdown",
   "id": "8c00c229-9841-4587-9cbc-8e95ea005138",
   "metadata": {},
   "source": [
    "### Cria um DataFrame com valores NaN e números inteiros"
   ]
  },
  {
   "cell_type": "code",
   "execution_count": null,
   "id": "9dcfe819-7448-4cf2-8118-57e7c20a027d",
   "metadata": {},
   "outputs": [],
   "source": [
    "data = {'A': [1, np.nan], 'B': [2, 3] }\n",
    "\n",
    "df = pd.DataFrame(data)\n",
    "df"
   ]
  },
  {
   "cell_type": "markdown",
   "id": "05e6c9de-302e-4d79-b2b4-b3918c8361f2",
   "metadata": {},
   "source": [
    "### Retorna o número total de elementos do DataFrame"
   ]
  },
  {
   "cell_type": "code",
   "execution_count": null,
   "id": "ff233806-1305-4ed2-b079-054ad9b35c99",
   "metadata": {},
   "outputs": [],
   "source": [
    "df.size"
   ]
  },
  {
   "cell_type": "markdown",
   "id": "ad259e47-cfc0-48d1-b7ce-1fcc4cb32325",
   "metadata": {},
   "source": [
    "### Conta os valores não nulos em cada coluna"
   ]
  },
  {
   "cell_type": "code",
   "execution_count": null,
   "id": "e5b3d81b-ca19-4796-b134-983340598306",
   "metadata": {},
   "outputs": [],
   "source": [
    "df.count()"
   ]
  },
  {
   "cell_type": "markdown",
   "id": "99d8123b-5d5d-4304-ad4e-939c83e8be85",
   "metadata": {},
   "source": [
    "### Conta o número total de valores não nulos no DataFrame"
   ]
  },
  {
   "cell_type": "code",
   "execution_count": null,
   "id": "b95b6c81-54ef-4184-8586-b3d3922b1ce6",
   "metadata": {},
   "outputs": [],
   "source": [
    "df.count().sum()"
   ]
  },
  {
   "cell_type": "markdown",
   "id": "7072b1ea-531d-4c87-93a8-0af85547d713",
   "metadata": {},
   "source": [
    "### Exibe as duas primeiras linhas do DataFrame"
   ]
  },
  {
   "cell_type": "code",
   "execution_count": null,
   "id": "952fedb9-1bae-40f5-8239-bcc05ff393b0",
   "metadata": {},
   "outputs": [],
   "source": [
    "nba.head(2)"
   ]
  },
  {
   "cell_type": "markdown",
   "id": "4e0e26f3-c3ee-4d37-b710-d44720b83d73",
   "metadata": {},
   "source": [
    "### Exibe as duas últimas linhas do DataFrame"
   ]
  },
  {
   "cell_type": "code",
   "execution_count": null,
   "id": "d2532844-19cc-4ba8-8be6-e411e928205f",
   "metadata": {},
   "outputs": [],
   "source": [
    "nba.tail(2)"
   ]
  },
  {
   "cell_type": "markdown",
   "id": "0f60bc6c-61ca-465c-845a-458c76729028",
   "metadata": {},
   "source": [
    "### Retorna 3 linhas aleatórias do DataFrame"
   ]
  },
  {
   "cell_type": "code",
   "execution_count": null,
   "id": "a1564ca0-b427-452a-afa1-469366a012c5",
   "metadata": {},
   "outputs": [],
   "source": [
    "nba.sample(3)"
   ]
  },
  {
   "cell_type": "markdown",
   "id": "6340f30b-8533-4e26-863d-faecfc36ca4c",
   "metadata": {},
   "source": [
    "### Conta quantos valores únicos existem em cada coluna"
   ]
  },
  {
   "cell_type": "code",
   "execution_count": null,
   "id": "491b67cd-c0c7-437b-a39f-416f68ccae8e",
   "metadata": {},
   "outputs": [],
   "source": [
    "nba.nunique()"
   ]
  },
  {
   "cell_type": "markdown",
   "id": "20fb089c-acbb-4bcc-9aeb-32e166e74044",
   "metadata": {},
   "source": [
    "### Retorna o valor máximo de cada coluna (para colunas numéricas)"
   ]
  },
  {
   "cell_type": "code",
   "execution_count": null,
   "id": "101db652-9099-402e-9dd2-c50b5d8425fa",
   "metadata": {},
   "outputs": [],
   "source": [
    "nba.max()"
   ]
  },
  {
   "cell_type": "markdown",
   "id": "a56b6020-64f0-4c2a-89ab-9c6f73f7608f",
   "metadata": {},
   "source": [
    "### Retorna o valor mínimo de cada coluna (para colunas numéricas)"
   ]
  },
  {
   "cell_type": "code",
   "execution_count": null,
   "id": "531372a2-b13e-4b23-a796-7532dc1182ad",
   "metadata": {},
   "outputs": [],
   "source": [
    "nba.min()"
   ]
  },
  {
   "cell_type": "markdown",
   "id": "fc738504-fb1e-4c98-9657-07d695efb819",
   "metadata": {},
   "source": [
    "### Retorna as 4 maiores linhas com base na coluna 'Salary'"
   ]
  },
  {
   "cell_type": "code",
   "execution_count": null,
   "id": "d85105bb-c305-4eaa-a034-1a7c30f324fa",
   "metadata": {},
   "outputs": [],
   "source": [
    "nba.nlargest(4, 'Salary')"
   ]
  },
  {
   "cell_type": "markdown",
   "id": "545b27a2-33a3-4834-9417-a7ddc1171a99",
   "metadata": {},
   "source": [
    "### Retorna as 4 menores linhas com base na coluna 'Birthday'"
   ]
  },
  {
   "cell_type": "code",
   "execution_count": null,
   "id": "07daa141-bfba-441a-96f8-99f4be3af516",
   "metadata": {
    "scrolled": true
   },
   "outputs": [],
   "source": [
    "nba.nsmallest(4, 'Birthday')"
   ]
  },
  {
   "cell_type": "markdown",
   "id": "13753476-3812-4c21-9411-1faa8e8722ad",
   "metadata": {},
   "source": [
    "### Soma dos valores numéricos de cada coluna"
   ]
  },
  {
   "cell_type": "code",
   "execution_count": null,
   "id": "5c1c5cce-fe0e-4236-8ca7-7082de38e801",
   "metadata": {},
   "outputs": [],
   "source": [
    "nba.sum(numeric_only = True)"
   ]
  },
  {
   "cell_type": "markdown",
   "id": "a2888112-1e5c-4eec-ae4c-c5cb50e34192",
   "metadata": {},
   "source": [
    "### Média dos valores numéricos de cada coluna"
   ]
  },
  {
   "cell_type": "code",
   "execution_count": null,
   "id": "70fc4116-0f11-4cb9-ac5a-df5cc43782a0",
   "metadata": {},
   "outputs": [],
   "source": [
    "nba.mean(numeric_only = True)"
   ]
  },
  {
   "cell_type": "markdown",
   "id": "ff799fa3-5989-4cec-becf-c2f3256f1dfa",
   "metadata": {},
   "source": [
    "### Mediana dos valores numéricos de cada coluna"
   ]
  },
  {
   "cell_type": "code",
   "execution_count": null,
   "id": "5e14926f-e5ab-4c6e-bf5e-2a7aa36e23dc",
   "metadata": {},
   "outputs": [],
   "source": [
    "nba.median(numeric_only = True)"
   ]
  },
  {
   "cell_type": "markdown",
   "id": "127b07fb-4ea7-4d62-8799-0cddf51270b3",
   "metadata": {},
   "source": [
    "### Moda dos valores numéricos de cada coluna\n"
   ]
  },
  {
   "cell_type": "code",
   "execution_count": null,
   "id": "ae467a62-329d-406c-9cbd-94abb1eab56b",
   "metadata": {},
   "outputs": [],
   "source": [
    "nba.mode(numeric_only = True)"
   ]
  },
  {
   "cell_type": "markdown",
   "id": "18e2189c-b8ae-4197-a4e9-7a8dbecfb253",
   "metadata": {},
   "source": [
    "### Desvio padrão dos valores numéricos de cada coluna"
   ]
  },
  {
   "cell_type": "code",
   "execution_count": null,
   "id": "42e45e24-026f-425e-b0ae-adef5ae7eb59",
   "metadata": {},
   "outputs": [],
   "source": [
    "nba.std(numeric_only = True)"
   ]
  },
  {
   "cell_type": "markdown",
   "id": "b221d92c-218a-404e-8aa7-f25bcfa41c5b",
   "metadata": {},
   "source": [
    "### As duas linhas abaixo são equivalentes: ordenam o DataFrame pela coluna 'Name' em ordem crescente"
   ]
  },
  {
   "cell_type": "code",
   "execution_count": null,
   "id": "541f2b29-4bd5-4657-8c2c-fee729872e74",
   "metadata": {},
   "outputs": [],
   "source": [
    "# The two lines below are equivalent\n",
    "nba.sort_values('Name')\n",
    "nba.sort_values(by = 'Name')"
   ]
  },
  {
   "cell_type": "markdown",
   "id": "75dd557f-0888-474b-9202-c5f0b73808d3",
   "metadata": {},
   "source": [
    "### Ordena o DataFrame pela coluna 'Name' em ordem decrescente e exibe as primeiras linhas"
   ]
  },
  {
   "cell_type": "code",
   "execution_count": null,
   "id": "6a02b6f0-5068-49bc-a325-8f8c34f5611a",
   "metadata": {},
   "outputs": [],
   "source": [
    "nba.sort_values('Name', ascending = False).head()"
   ]
  },
  {
   "cell_type": "markdown",
   "id": "119cffc4-ec4b-48c9-a176-55a184f0ec4c",
   "metadata": {},
   "source": [
    "### Ordena o DataFrame pela coluna 'Birthday' em ordem decrescente e exibe as primeiras linhas"
   ]
  },
  {
   "cell_type": "code",
   "execution_count": null,
   "id": "fba910f7-50be-459b-96a4-440355ec86c7",
   "metadata": {},
   "outputs": [],
   "source": [
    "nba.sort_values('Birthday', ascending = False).head()"
   ]
  },
  {
   "cell_type": "markdown",
   "id": "8a363252-03a8-4e2c-9762-82ed43900d0d",
   "metadata": {},
   "source": [
    "### Ordena o DataFrame primeiro pela coluna 'Team' e depois pela coluna 'Name'"
   ]
  },
  {
   "cell_type": "code",
   "execution_count": null,
   "id": "35f78fa6-89d6-4f14-b4b4-62f62ecc0be0",
   "metadata": {},
   "outputs": [],
   "source": [
    "nba.sort_values(by = ['Team', 'Name'])"
   ]
  },
  {
   "cell_type": "markdown",
   "id": "70bf9664-aecc-4794-b142-9ca202e5bae5",
   "metadata": {},
   "source": [
    "### Ordena o DataFrame primeiro pela coluna 'Team' e depois pela coluna 'Name', ambos em ordem decrescente"
   ]
  },
  {
   "cell_type": "code",
   "execution_count": null,
   "id": "b7dfa190-459e-4606-a421-0c63029cc39c",
   "metadata": {},
   "outputs": [],
   "source": [
    "nba.sort_values(['Team', 'Name'], ascending = False)"
   ]
  },
  {
   "cell_type": "markdown",
   "id": "9997f917-4c6a-4278-bfb6-9f1d64fae5f6",
   "metadata": {},
   "source": [
    "### Ordena o DataFrame pela coluna 'Team' em ordem crescente e pela coluna 'Salary' em ordem decrescente"
   ]
  },
  {
   "cell_type": "code",
   "execution_count": null,
   "id": "f36b8eeb-ee44-463b-a525-28735999273e",
   "metadata": {},
   "outputs": [],
   "source": [
    "nba.sort_values(by = ['Team', 'Salary'], ascending = [True, False])"
   ]
  },
  {
   "cell_type": "markdown",
   "id": "2f9eeca0-bb18-4b63-b832-48519c980039",
   "metadata": {},
   "source": [
    "#### Ordena o DataFrame da mesma forma que acima e atualiza a variável nba"
   ]
  },
  {
   "cell_type": "code",
   "execution_count": null,
   "id": "acf50f27-1d7b-41be-9130-87cb1181ec17",
   "metadata": {},
   "outputs": [],
   "source": [
    "nba = nba.sort_values(by = ['Team', 'Salary'], ascending = [True, False])"
   ]
  },
  {
   "cell_type": "markdown",
   "id": "03adc8be-4f87-4881-9e0a-f4a436386c0e",
   "metadata": {},
   "source": [
    "#### Exibe as primeiras linhas do DataFrame"
   ]
  },
  {
   "cell_type": "code",
   "execution_count": null,
   "id": "0ef62c47-795f-4212-9658-4df368eb44f4",
   "metadata": {},
   "outputs": [],
   "source": [
    "nba.head()"
   ]
  },
  {
   "cell_type": "markdown",
   "id": "f7a62c9a-0bb5-4ca3-ba65-1b6f2bd09c33",
   "metadata": {},
   "source": [
    "### As duas linhas abaixo são equivalentes: ordenam o DataFrame pelo índice em ordem crescente"
   ]
  },
  {
   "cell_type": "code",
   "execution_count": null,
   "id": "9e69ba46-962e-49d9-a65d-9df7fd3b1c4d",
   "metadata": {},
   "outputs": [],
   "source": [
    "# The two lines below are equivalent\n",
    "nba.sort_index().head()\n",
    "nba.sort_index(ascending = True).head()"
   ]
  },
  {
   "cell_type": "markdown",
   "id": "dbea11c4-4114-43ac-8f5f-d0ed248b8ee2",
   "metadata": {},
   "source": [
    "### Ordena o DataFrame pelo índice em ordem decrescente"
   ]
  },
  {
   "cell_type": "code",
   "execution_count": null,
   "id": "bfe1319b-0d68-4230-83c1-bf2013c45d7a",
   "metadata": {},
   "outputs": [],
   "source": [
    "nba.sort_index(ascending = False).head()"
   ]
  },
  {
   "cell_type": "markdown",
   "id": "0b241693-e078-46bb-9bb4-5f9c41dd94b7",
   "metadata": {},
   "source": [
    "### Atualiza o DataFrame para manter a ordenação pelo índice"
   ]
  },
  {
   "cell_type": "code",
   "execution_count": null,
   "id": "8e917827-4b91-410c-81fc-e25a8aa852c7",
   "metadata": {},
   "outputs": [],
   "source": [
    "nba = nba.sort_index()"
   ]
  },
  {
   "cell_type": "markdown",
   "id": "84b9c11f-1f17-45bc-b70b-620853681576",
   "metadata": {},
   "source": [
    "### As duas linhas abaixo são equivalentes: ordenam as colunas alfabeticamente"
   ]
  },
  {
   "cell_type": "code",
   "execution_count": null,
   "id": "b5d4e639-7183-404b-ad1a-43f2e056d208",
   "metadata": {},
   "outputs": [],
   "source": [
    "# The two lines below are equivalent\n",
    "nba.sort_index(axis = 'columns').head()\n",
    "nba.sort_index(axis = 1).head()"
   ]
  },
  {
   "cell_type": "markdown",
   "id": "0c24db41-3e77-4f53-99f3-90d1823bd4bd",
   "metadata": {},
   "source": [
    "### Ordena as colunas em ordem decrescente"
   ]
  },
  {
   "cell_type": "code",
   "execution_count": null,
   "id": "0e08edb5-4f70-4f93-a09c-6880a3dc80c8",
   "metadata": {},
   "outputs": [],
   "source": [
    "nba.sort_index(axis = 'columns', ascending = False).head()"
   ]
  },
  {
   "cell_type": "markdown",
   "id": "1f53928b-3354-4ca7-a3c0-798d91e34255",
   "metadata": {},
   "source": [
    "### As duas linhas abaixo são equivalentes: definem a coluna 'Name' como índice"
   ]
  },
  {
   "cell_type": "code",
   "execution_count": null,
   "id": "d5ad488b-71bd-4699-b8d2-b53e5779c607",
   "metadata": {},
   "outputs": [],
   "source": [
    "# The two lines below are equivalent\n",
    "nba.set_index(keys = 'Name')\n",
    "nba.set_index('Name')"
   ]
  },
  {
   "cell_type": "markdown",
   "id": "06eaec3c-6ac7-4472-8ac6-be610eb3fe67",
   "metadata": {},
   "source": [
    "### Define a coluna 'Name' como índice e atualiza o DataFrame"
   ]
  },
  {
   "cell_type": "code",
   "execution_count": null,
   "id": "764be989-02ab-4522-967a-081bb7a6f691",
   "metadata": {},
   "outputs": [],
   "source": [
    "nba = nba.set_index(keys = 'Name')"
   ]
  },
  {
   "cell_type": "markdown",
   "id": "c349b5e3-6b89-415e-a5db-630179294db9",
   "metadata": {},
   "source": [
    "### Lê o arquivo CSV e define 'Name' como índice"
   ]
  },
  {
   "cell_type": "code",
   "execution_count": null,
   "id": "0e8668f6-1fc4-468a-b787-d289042db7c8",
   "metadata": {},
   "outputs": [],
   "source": [
    "nba = pd.read_csv('nba.csv', parse_dates = ['Birthday'], index_col = 'Name')"
   ]
  },
  {
   "cell_type": "markdown",
   "id": "29ec7151-6fa8-4ab3-8f9e-2a69b1d90cfb",
   "metadata": {},
   "source": [
    "### Seleciona a coluna 'Salary'"
   ]
  },
  {
   "cell_type": "code",
   "execution_count": null,
   "id": "dec04f02-363e-4aef-9c2c-2d7b8053d225",
   "metadata": {},
   "outputs": [],
   "source": [
    "nba.Salary"
   ]
  },
  {
   "cell_type": "markdown",
   "id": "11d4f11c-4972-4124-ae60-4d8c73f9c519",
   "metadata": {},
   "source": [
    "### Seleciona a coluna 'Position'"
   ]
  },
  {
   "cell_type": "code",
   "execution_count": null,
   "id": "279e93ee-418c-4f38-9d33-a4cc88518f0f",
   "metadata": {},
   "outputs": [],
   "source": [
    "nba['Position']"
   ]
  },
  {
   "cell_type": "markdown",
   "id": "cacd7c6d-f403-406d-b822-b0c788c9d179",
   "metadata": {},
   "source": [
    "### Seleciona as colunas 'Salary' e 'Birthday'"
   ]
  },
  {
   "cell_type": "code",
   "execution_count": null,
   "id": "bcd09639-0ffa-4d42-bb7d-936db5d1ea1e",
   "metadata": {},
   "outputs": [],
   "source": [
    "nba[['Salary', 'Birthday']]"
   ]
  },
  {
   "cell_type": "markdown",
   "id": "0f351cc3-3d03-4096-87e7-0af9d909fca6",
   "metadata": {},
   "source": [
    "### Seleciona apenas colunas do tipo 'object' (strings)"
   ]
  },
  {
   "cell_type": "code",
   "execution_count": null,
   "id": "541e796a-8b8c-4df4-868e-e4dc028d56f3",
   "metadata": {},
   "outputs": [],
   "source": [
    "nba[['Birthday', 'Salary']].head()"
   ]
  },
  {
   "cell_type": "markdown",
   "id": "9fa2ec59-8b8b-4847-8614-721f83a337da",
   "metadata": {},
   "source": [
    "### Seleciona apenas colunas do tipo 'object' (strings)"
   ]
  },
  {
   "cell_type": "code",
   "execution_count": null,
   "id": "5f363916-6218-4242-9502-0b4fb45ff461",
   "metadata": {},
   "outputs": [],
   "source": [
    "nba.select_dtypes(include = 'object')"
   ]
  },
  {
   "cell_type": "markdown",
   "id": "873516c8-25ee-4267-8e53-caa52b226039",
   "metadata": {},
   "source": [
    "### Seleciona colunas excluindo os tipos 'object' e 'int'"
   ]
  },
  {
   "cell_type": "code",
   "execution_count": null,
   "id": "0e33f04a-d711-432c-861d-95124388aee0",
   "metadata": {},
   "outputs": [],
   "source": [
    "nba.select_dtypes(exclude = ['object', 'int'])"
   ]
  },
  {
   "cell_type": "markdown",
   "id": "6668694c-7e8b-486a-9209-96d73be3b004",
   "metadata": {},
   "source": [
    "### Seleciona os dados do jogador 'LeBron James'"
   ]
  },
  {
   "cell_type": "code",
   "execution_count": null,
   "id": "511e0cb3-d8bd-4e86-975c-9ab472265122",
   "metadata": {},
   "outputs": [],
   "source": [
    "nba.loc['LeBron James']"
   ]
  },
  {
   "cell_type": "markdown",
   "id": "36848e61-9252-495e-b83c-44d752e4d639",
   "metadata": {},
   "source": [
    "### Seleciona os dados dos jogadores 'Kawhi Leonard' e 'Paul George'"
   ]
  },
  {
   "cell_type": "code",
   "execution_count": null,
   "id": "90fb8535-a0ca-4573-a5cd-f550368de874",
   "metadata": {},
   "outputs": [],
   "source": [
    "nba.loc[['Kawhi Leonard', 'Paul George']]"
   ]
  },
  {
   "cell_type": "markdown",
   "id": "129c614f-ef90-4b39-86e7-f43cbd4d5bf4",
   "metadata": {},
   "source": [
    "### Seleciona os dados dos jogadores 'Kawhi Leonard' e 'Paul George'"
   ]
  },
  {
   "cell_type": "code",
   "execution_count": null,
   "id": "354dd935-7eb4-4e37-a793-1999f4287382",
   "metadata": {},
   "outputs": [],
   "source": [
    "nba.loc[['Paul George', 'Kawhi Leonard']]"
   ]
  },
  {
   "cell_type": "markdown",
   "id": "0de537ce-3cb6-444f-b5b7-b7d44c227eee",
   "metadata": {},
   "source": [
    "### Filtra os jogadores com nomes entre 'Otto Porter' e 'Patrick Beverley' (ordem alfabética)"
   ]
  },
  {
   "cell_type": "code",
   "execution_count": null,
   "id": "37316e24-c871-4c13-aeff-31bfcbc31f8f",
   "metadata": {},
   "outputs": [],
   "source": [
    "nba.sort_index().loc[\"Otto Porter\":\"Patrick Beverley\"]"
   ]
  },
  {
   "cell_type": "markdown",
   "id": "953748e6-912f-482f-b28a-5a4626e7b25f",
   "metadata": {},
   "source": [
    "### Lista de jogadores e exibe os dois primeiros"
   ]
  },
  {
   "cell_type": "code",
   "execution_count": null,
   "id": "86e60dbb-318c-4869-97dd-26f678877c78",
   "metadata": {},
   "outputs": [],
   "source": [
    "players = ['Otto Porter', 'PJ Dozier', 'PJ Washington']\n",
    "players[0:2]"
   ]
  },
  {
   "cell_type": "markdown",
   "id": "3575d1ee-1e68-46bb-8ced-57de325a0523",
   "metadata": {},
   "source": [
    "### Seleciona todos os jogadores até 'Al Horford' (ordem alfabética)"
   ]
  },
  {
   "cell_type": "code",
   "execution_count": null,
   "id": "abd0ef95-1582-4007-b031-39e92ae69864",
   "metadata": {},
   "outputs": [],
   "source": [
    "nba.sort_index().loc[:\"Al Horford\"]"
   ]
  },
  {
   "cell_type": "markdown",
   "id": "f278dd75-8484-4c78-96ac-d8ba1820edf7",
   "metadata": {},
   "source": [
    "### Tentativa de acessar um jogador cujo nome pode estar incorreto ('Steph Carry' deveria ser 'Stephen Curry')"
   ]
  },
  {
   "cell_type": "code",
   "execution_count": null,
   "id": "46e022ca-4162-401b-81d4-bcad1a9c2d34",
   "metadata": {},
   "outputs": [],
   "source": [
    "nba.loc['Steph Carry']"
   ]
  },
  {
   "cell_type": "markdown",
   "id": "cbb066fd-0357-4085-a829-2ac84bbdb400",
   "metadata": {},
   "source": [
    "### Seleciona a linha de índice 300"
   ]
  },
  {
   "cell_type": "code",
   "execution_count": null,
   "id": "dd96449b-92ff-49ce-ae1a-cc74c8e50392",
   "metadata": {},
   "outputs": [],
   "source": [
    "nba.iloc[300]"
   ]
  },
  {
   "cell_type": "markdown",
   "id": "3b39e761-aeda-4cf2-8ab8-b2cfeb9e3f4a",
   "metadata": {},
   "source": [
    "### Seleciona as linhas de índices 100, 200, 300 e 400"
   ]
  },
  {
   "cell_type": "code",
   "execution_count": null,
   "id": "6ef4c3fd-5720-4d13-863e-ea38adca3878",
   "metadata": {},
   "outputs": [],
   "source": [
    "nba.iloc[[100, 200, 300, 400]]"
   ]
  },
  {
   "cell_type": "markdown",
   "id": "5827eb9b-b739-44e5-9b15-51e554ee9daa",
   "metadata": {},
   "source": [
    "### Seleciona as linhas de índice 400 a 403"
   ]
  },
  {
   "cell_type": "code",
   "execution_count": null,
   "id": "ae67dd54-9b12-4be2-976c-a8331e4febe3",
   "metadata": {},
   "outputs": [],
   "source": [
    "nba.iloc[400:404]"
   ]
  },
  {
   "cell_type": "markdown",
   "id": "47b5ade8-551d-4bf3-9035-c7c5ae583411",
   "metadata": {},
   "source": [
    "### Seleciona as duas primeiras linhas do DataFrame"
   ]
  },
  {
   "cell_type": "code",
   "execution_count": null,
   "id": "8628e52c-34f8-4b9e-aa36-e455ceea1355",
   "metadata": {},
   "outputs": [],
   "source": [
    "nba.iloc[:2]"
   ]
  },
  {
   "cell_type": "markdown",
   "id": "2cb8b21d-7fea-4a5c-b2ef-947383753199",
   "metadata": {},
   "source": [
    "### Seleciona todas as linhas a partir do índice 447"
   ]
  },
  {
   "cell_type": "code",
   "execution_count": null,
   "id": "b4813b2a-7c6a-442d-9190-5c1ee58fd164",
   "metadata": {},
   "outputs": [],
   "source": [
    "nba.iloc[447:]"
   ]
  },
  {
   "cell_type": "markdown",
   "id": "f4de6a4a-e866-4b1f-ba6b-a91ec5b1d438",
   "metadata": {},
   "source": [
    "### Seleciona as últimas 10 a 6 linhas do DataFrame"
   ]
  },
  {
   "cell_type": "code",
   "execution_count": null,
   "id": "3c1e2112-8561-4bf0-92b1-dec9175a5d3f",
   "metadata": {},
   "outputs": [],
   "source": [
    "nba.iloc[-10:-6]"
   ]
  },
  {
   "cell_type": "markdown",
   "id": "b735a883-7385-488b-ad8a-bf2c2adfc309",
   "metadata": {},
   "source": [
    "### Seleciona as 10 primeiras linhas com passo 2 (linhas pares)"
   ]
  },
  {
   "cell_type": "code",
   "execution_count": null,
   "id": "60c53b4a-72a2-4854-ad41-4d8261852645",
   "metadata": {
    "scrolled": true
   },
   "outputs": [],
   "source": [
    "nba.iloc[0:10:2]"
   ]
  },
  {
   "cell_type": "markdown",
   "id": "6a1726ac-69b5-44bd-8ecc-3a1c448f7b86",
   "metadata": {},
   "source": [
    "### Seleciona a equipe de 'Giannis Antetokounmpo'"
   ]
  },
  {
   "cell_type": "code",
   "execution_count": null,
   "id": "edf25458-7bb3-42e0-819a-fed234844b4f",
   "metadata": {},
   "outputs": [],
   "source": [
    "nba.loc['Giannis Antetokounmpo', 'Team']"
   ]
  },
  {
   "cell_type": "markdown",
   "id": "4e4df04b-d214-436e-ae52-edae8692a448",
   "metadata": {},
   "source": [
    "### Seleciona as colunas 'Position' e 'Birthday' de 'James Harden'"
   ]
  },
  {
   "cell_type": "code",
   "execution_count": null,
   "id": "0d7a0bf5-45da-43c6-b756-a2d0a3f55ce4",
   "metadata": {},
   "outputs": [],
   "source": [
    "nba.loc['James Harden', ['Position', 'Birthday']]"
   ]
  },
  {
   "cell_type": "markdown",
   "id": "01fae059-3edf-4dc6-b133-cc583bfe48c4",
   "metadata": {},
   "source": [
    "### Seleciona as colunas 'Team' e 'Salary' para 'Russell Westbrook' e 'Anthony Davis'"
   ]
  },
  {
   "cell_type": "code",
   "execution_count": null,
   "id": "2bb66da3-d5ed-4ee3-b2de-eff14bce3f75",
   "metadata": {},
   "outputs": [],
   "source": [
    "nba.loc[['Russell Westbrook', 'Anthony Davis'], ['Team', 'Salary']]"
   ]
  },
  {
   "cell_type": "markdown",
   "id": "1df6737e-559c-43a4-b04b-258b6c857595",
   "metadata": {},
   "source": [
    "### Seleciona colunas da 'Position' até 'Salary' para 'Joel Embiid'"
   ]
  },
  {
   "cell_type": "code",
   "execution_count": null,
   "id": "45f23473-efe8-472c-8aff-114e410ad07b",
   "metadata": {},
   "outputs": [],
   "source": [
    "nba.loc['Joel Embiid', 'Position':'Salary']"
   ]
  },
  {
   "cell_type": "markdown",
   "id": "ced13cf4-5088-4250-b7d8-77685a2e34a1",
   "metadata": {},
   "source": [
    "### Seleciona colunas da 'Salary' até 'Position' para 'Joel Embiid' (ordem invertida)"
   ]
  },
  {
   "cell_type": "code",
   "execution_count": null,
   "id": "4a5f6cc7-2492-466b-9d07-dc88d81dfa16",
   "metadata": {},
   "outputs": [],
   "source": [
    "nba.loc['Joel Embiid','Salary':'Position']"
   ]
  },
  {
   "cell_type": "markdown",
   "id": "1776eb42-6dcb-49bf-b7df-d211068e2553",
   "metadata": {},
   "source": [
    "### Seleciona o valor da linha 57 e coluna 3 usando iloc"
   ]
  },
  {
   "cell_type": "code",
   "execution_count": null,
   "id": "89f1eb35-c3ef-4624-8770-c04d308fc666",
   "metadata": {},
   "outputs": [],
   "source": [
    "nba.iloc[57, 3]"
   ]
  },
  {
   "cell_type": "markdown",
   "id": "e93f058e-44a7-474f-a83a-19e6e9898af4",
   "metadata": {},
   "source": [
    "### Seleciona as linhas de índice 100 a 103 e as três primeiras colunas"
   ]
  },
  {
   "cell_type": "code",
   "execution_count": null,
   "id": "ae382fb0-b7a4-4e50-81fb-def6f82c2c95",
   "metadata": {},
   "outputs": [],
   "source": [
    "nba.iloc[100:104, :3]"
   ]
  },
  {
   "cell_type": "markdown",
   "id": "7300d692-1272-4165-9e75-0d9d2b046164",
   "metadata": {},
   "source": [
    "### Acessa o valor na linha de 'Austin Rivers' e coluna 'Birthday' com at"
   ]
  },
  {
   "cell_type": "code",
   "execution_count": null,
   "id": "4f0de00e-04b7-413c-8d9a-c989bbb38530",
   "metadata": {},
   "outputs": [],
   "source": [
    "nba.at['Austin Rivers','Birthday']"
   ]
  },
  {
   "cell_type": "markdown",
   "id": "a236f8ec-5336-4259-b059-8c751be38be5",
   "metadata": {},
   "source": [
    "### Acessa o valor da linha 263 e coluna 1 usando iat"
   ]
  },
  {
   "cell_type": "code",
   "execution_count": null,
   "id": "69467281-e296-425b-a4f3-d16d22c45742",
   "metadata": {},
   "outputs": [],
   "source": [
    "nba.iat[263, 1]"
   ]
  },
  {
   "cell_type": "markdown",
   "id": "236bb74d-8d04-4aeb-9c33-79bc1ba4a905",
   "metadata": {},
   "source": [
    "### Mede o tempo de acesso ao valor usando at"
   ]
  },
  {
   "cell_type": "code",
   "execution_count": null,
   "id": "9d812248-2b3a-4022-898c-b77297838a02",
   "metadata": {},
   "outputs": [],
   "source": [
    "%%timeit\n",
    "nba.at['Austin Rivers', 'Birthday']"
   ]
  },
  {
   "cell_type": "markdown",
   "id": "3f3ca58a-b852-4a45-8df6-af257d14eb61",
   "metadata": {},
   "source": [
    "### Mede o tempo de acesso ao valor usando loc"
   ]
  },
  {
   "cell_type": "code",
   "execution_count": null,
   "id": "b917f9c2-f2bb-41a2-83aa-a818cd71c575",
   "metadata": {},
   "outputs": [],
   "source": [
    "%%timeit\n",
    "nba.loc['Austin Rivers', 'Birthday']"
   ]
  },
  {
   "cell_type": "markdown",
   "id": "ca3825f3-5f7f-4006-90e0-a66487d45f21",
   "metadata": {},
   "source": [
    "### Mede o tempo de acesso ao valor usando iat"
   ]
  },
  {
   "cell_type": "code",
   "execution_count": null,
   "id": "08ebff6b-b18a-42e1-9796-ac243a42dc0b",
   "metadata": {},
   "outputs": [],
   "source": [
    "%%timeit\n",
    "nba.iat[263, 1]"
   ]
  },
  {
   "cell_type": "markdown",
   "id": "9b318125-5a57-46f2-a463-ea2e0ec33929",
   "metadata": {},
   "source": [
    "### Mede o tempo de acesso ao valor usando iloc"
   ]
  },
  {
   "cell_type": "code",
   "execution_count": null,
   "id": "2d766a10-afce-4156-bc5b-875f176c4fdd",
   "metadata": {},
   "outputs": [],
   "source": [
    "%%timeit\n",
    "nba.iloc[263, 1]"
   ]
  }
 ],
 "metadata": {
  "kernelspec": {
   "display_name": "Python [conda env:base] *",
   "language": "python",
   "name": "conda-base-py"
  },
  "language_info": {
   "codemirror_mode": {
    "name": "ipython",
    "version": 3
   },
   "file_extension": ".py",
   "mimetype": "text/x-python",
   "name": "python",
   "nbconvert_exporter": "python",
   "pygments_lexer": "ipython3",
   "version": "3.12.7"
  }
 },
 "nbformat": 4,
 "nbformat_minor": 5
}
