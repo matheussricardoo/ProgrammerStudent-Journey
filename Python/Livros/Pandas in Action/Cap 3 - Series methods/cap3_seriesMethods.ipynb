{
 "cells": [
  {
   "cell_type": "markdown",
   "id": "faeb687d-638a-49b0-9370-22a243caf66f",
   "metadata": {},
   "source": [
    "### Importa a biblioteca pandas e a renomeia como pd."
   ]
  },
  {
   "cell_type": "code",
   "execution_count": 2,
   "id": "93886ee0-9c20-4e3a-8728-89747d1ae6ae",
   "metadata": {},
   "outputs": [],
   "source": [
    "import pandas as pd"
   ]
  },
  {
   "cell_type": "markdown",
   "id": "3b44a6a0-2846-4d33-bc7e-840d5e59511f",
   "metadata": {},
   "source": [
    "### As duas linhas de código são equivalentes. Elas carregam o arquivo CSV chamado pokemon.csv em um DataFrame do pandas."
   ]
  },
  {
   "cell_type": "code",
   "execution_count": 4,
   "id": "f2c5559d-ad0f-46a4-b146-b5d33e5d6bb1",
   "metadata": {},
   "outputs": [
    {
     "data": {
      "text/html": [
       "<div>\n",
       "<style scoped>\n",
       "    .dataframe tbody tr th:only-of-type {\n",
       "        vertical-align: middle;\n",
       "    }\n",
       "\n",
       "    .dataframe tbody tr th {\n",
       "        vertical-align: top;\n",
       "    }\n",
       "\n",
       "    .dataframe thead th {\n",
       "        text-align: right;\n",
       "    }\n",
       "</style>\n",
       "<table border=\"1\" class=\"dataframe\">\n",
       "  <thead>\n",
       "    <tr style=\"text-align: right;\">\n",
       "      <th></th>\n",
       "      <th>Pokemon</th>\n",
       "      <th>Type</th>\n",
       "    </tr>\n",
       "  </thead>\n",
       "  <tbody>\n",
       "    <tr>\n",
       "      <th>0</th>\n",
       "      <td>Bulbasaur</td>\n",
       "      <td>Grass / Poison</td>\n",
       "    </tr>\n",
       "    <tr>\n",
       "      <th>1</th>\n",
       "      <td>Ivysaur</td>\n",
       "      <td>Grass / Poison</td>\n",
       "    </tr>\n",
       "    <tr>\n",
       "      <th>2</th>\n",
       "      <td>Venusaur</td>\n",
       "      <td>Grass / Poison</td>\n",
       "    </tr>\n",
       "    <tr>\n",
       "      <th>3</th>\n",
       "      <td>Charmander</td>\n",
       "      <td>Fire</td>\n",
       "    </tr>\n",
       "    <tr>\n",
       "      <th>4</th>\n",
       "      <td>Charmeleon</td>\n",
       "      <td>Fire</td>\n",
       "    </tr>\n",
       "    <tr>\n",
       "      <th>...</th>\n",
       "      <td>...</td>\n",
       "      <td>...</td>\n",
       "    </tr>\n",
       "    <tr>\n",
       "      <th>804</th>\n",
       "      <td>Stakataka</td>\n",
       "      <td>Rock / Steel</td>\n",
       "    </tr>\n",
       "    <tr>\n",
       "      <th>805</th>\n",
       "      <td>Blacephalon</td>\n",
       "      <td>Fire / Ghost</td>\n",
       "    </tr>\n",
       "    <tr>\n",
       "      <th>806</th>\n",
       "      <td>Zeraora</td>\n",
       "      <td>Electric</td>\n",
       "    </tr>\n",
       "    <tr>\n",
       "      <th>807</th>\n",
       "      <td>Meltan</td>\n",
       "      <td>Steel</td>\n",
       "    </tr>\n",
       "    <tr>\n",
       "      <th>808</th>\n",
       "      <td>Melmetal</td>\n",
       "      <td>Steel</td>\n",
       "    </tr>\n",
       "  </tbody>\n",
       "</table>\n",
       "<p>809 rows × 2 columns</p>\n",
       "</div>"
      ],
      "text/plain": [
       "         Pokemon            Type\n",
       "0      Bulbasaur  Grass / Poison\n",
       "1        Ivysaur  Grass / Poison\n",
       "2       Venusaur  Grass / Poison\n",
       "3     Charmander            Fire\n",
       "4     Charmeleon            Fire\n",
       "..           ...             ...\n",
       "804    Stakataka    Rock / Steel\n",
       "805  Blacephalon    Fire / Ghost\n",
       "806      Zeraora        Electric\n",
       "807       Meltan           Steel\n",
       "808     Melmetal           Steel\n",
       "\n",
       "[809 rows x 2 columns]"
      ]
     },
     "execution_count": 4,
     "metadata": {},
     "output_type": "execute_result"
    }
   ],
   "source": [
    "# The two lines below are equivalent\n",
    "pd.read_csv(filepath_or_buffer = 'pokemon.csv')\n",
    "pd.read_csv('pokemon.csv')"
   ]
  },
  {
   "cell_type": "markdown",
   "id": "4564b378-4a4a-40cb-8bd2-34ce4be943c6",
   "metadata": {},
   "source": [
    "### Lê o arquivo CSV pokemon.csv e define a coluna 'Pokemon' como índice do DataFrame."
   ]
  },
  {
   "cell_type": "code",
   "execution_count": 6,
   "id": "c65f9643-914d-4581-a4ba-a8e013c722b1",
   "metadata": {},
   "outputs": [
    {
     "data": {
      "text/html": [
       "<div>\n",
       "<style scoped>\n",
       "    .dataframe tbody tr th:only-of-type {\n",
       "        vertical-align: middle;\n",
       "    }\n",
       "\n",
       "    .dataframe tbody tr th {\n",
       "        vertical-align: top;\n",
       "    }\n",
       "\n",
       "    .dataframe thead th {\n",
       "        text-align: right;\n",
       "    }\n",
       "</style>\n",
       "<table border=\"1\" class=\"dataframe\">\n",
       "  <thead>\n",
       "    <tr style=\"text-align: right;\">\n",
       "      <th></th>\n",
       "      <th>Type</th>\n",
       "    </tr>\n",
       "    <tr>\n",
       "      <th>Pokemon</th>\n",
       "      <th></th>\n",
       "    </tr>\n",
       "  </thead>\n",
       "  <tbody>\n",
       "    <tr>\n",
       "      <th>Bulbasaur</th>\n",
       "      <td>Grass / Poison</td>\n",
       "    </tr>\n",
       "    <tr>\n",
       "      <th>Ivysaur</th>\n",
       "      <td>Grass / Poison</td>\n",
       "    </tr>\n",
       "    <tr>\n",
       "      <th>Venusaur</th>\n",
       "      <td>Grass / Poison</td>\n",
       "    </tr>\n",
       "    <tr>\n",
       "      <th>Charmander</th>\n",
       "      <td>Fire</td>\n",
       "    </tr>\n",
       "    <tr>\n",
       "      <th>Charmeleon</th>\n",
       "      <td>Fire</td>\n",
       "    </tr>\n",
       "    <tr>\n",
       "      <th>...</th>\n",
       "      <td>...</td>\n",
       "    </tr>\n",
       "    <tr>\n",
       "      <th>Stakataka</th>\n",
       "      <td>Rock / Steel</td>\n",
       "    </tr>\n",
       "    <tr>\n",
       "      <th>Blacephalon</th>\n",
       "      <td>Fire / Ghost</td>\n",
       "    </tr>\n",
       "    <tr>\n",
       "      <th>Zeraora</th>\n",
       "      <td>Electric</td>\n",
       "    </tr>\n",
       "    <tr>\n",
       "      <th>Meltan</th>\n",
       "      <td>Steel</td>\n",
       "    </tr>\n",
       "    <tr>\n",
       "      <th>Melmetal</th>\n",
       "      <td>Steel</td>\n",
       "    </tr>\n",
       "  </tbody>\n",
       "</table>\n",
       "<p>809 rows × 1 columns</p>\n",
       "</div>"
      ],
      "text/plain": [
       "                       Type\n",
       "Pokemon                    \n",
       "Bulbasaur    Grass / Poison\n",
       "Ivysaur      Grass / Poison\n",
       "Venusaur     Grass / Poison\n",
       "Charmander             Fire\n",
       "Charmeleon             Fire\n",
       "...                     ...\n",
       "Stakataka      Rock / Steel\n",
       "Blacephalon    Fire / Ghost\n",
       "Zeraora            Electric\n",
       "Meltan                Steel\n",
       "Melmetal              Steel\n",
       "\n",
       "[809 rows x 1 columns]"
      ]
     },
     "execution_count": 6,
     "metadata": {},
     "output_type": "execute_result"
    }
   ],
   "source": [
    "pd.read_csv('pokemon.csv', index_col = 'Pokemon')"
   ]
  },
  {
   "cell_type": "markdown",
   "id": "573d4cbd-6893-4767-ab24-cad3f45704dc",
   "metadata": {},
   "source": [
    "### Lê o arquivo pokemon.csv, define a coluna 'Pokemon' como índice, e converte o DataFrame em uma Series (usando .squeeze()) para a variável SeriesPokemon."
   ]
  },
  {
   "cell_type": "code",
   "execution_count": 8,
   "id": "375f8031-8b74-4bcf-99a0-e82c5420ecd0",
   "metadata": {},
   "outputs": [],
   "source": [
    "pokemon = pd.read_csv('pokemon.csv', index_col = 'Pokemon')\n",
    "SeriesPokemon = pokemon.squeeze()"
   ]
  },
  {
   "cell_type": "markdown",
   "id": "8dc78acf-a372-44ea-a669-eadaa999cec8",
   "metadata": {},
   "source": [
    "### Lê o arquivo CSV google_stocks.csv e retorna as 5 primeiras linhas (por padrão) do DataFrame."
   ]
  },
  {
   "cell_type": "code",
   "execution_count": 10,
   "id": "10a25b3f-b685-4b1d-850d-5df60e8b9012",
   "metadata": {},
   "outputs": [
    {
     "data": {
      "text/html": [
       "<div>\n",
       "<style scoped>\n",
       "    .dataframe tbody tr th:only-of-type {\n",
       "        vertical-align: middle;\n",
       "    }\n",
       "\n",
       "    .dataframe tbody tr th {\n",
       "        vertical-align: top;\n",
       "    }\n",
       "\n",
       "    .dataframe thead th {\n",
       "        text-align: right;\n",
       "    }\n",
       "</style>\n",
       "<table border=\"1\" class=\"dataframe\">\n",
       "  <thead>\n",
       "    <tr style=\"text-align: right;\">\n",
       "      <th></th>\n",
       "      <th>Date</th>\n",
       "      <th>Close</th>\n",
       "    </tr>\n",
       "  </thead>\n",
       "  <tbody>\n",
       "    <tr>\n",
       "      <th>0</th>\n",
       "      <td>2004-08-19</td>\n",
       "      <td>49.98</td>\n",
       "    </tr>\n",
       "    <tr>\n",
       "      <th>1</th>\n",
       "      <td>2004-08-20</td>\n",
       "      <td>53.95</td>\n",
       "    </tr>\n",
       "    <tr>\n",
       "      <th>2</th>\n",
       "      <td>2004-08-23</td>\n",
       "      <td>54.50</td>\n",
       "    </tr>\n",
       "    <tr>\n",
       "      <th>3</th>\n",
       "      <td>2004-08-24</td>\n",
       "      <td>52.24</td>\n",
       "    </tr>\n",
       "    <tr>\n",
       "      <th>4</th>\n",
       "      <td>2004-08-25</td>\n",
       "      <td>52.80</td>\n",
       "    </tr>\n",
       "  </tbody>\n",
       "</table>\n",
       "</div>"
      ],
      "text/plain": [
       "         Date  Close\n",
       "0  2004-08-19  49.98\n",
       "1  2004-08-20  53.95\n",
       "2  2004-08-23  54.50\n",
       "3  2004-08-24  52.24\n",
       "4  2004-08-25  52.80"
      ]
     },
     "execution_count": 10,
     "metadata": {},
     "output_type": "execute_result"
    }
   ],
   "source": [
    "pd.read_csv('google_stocks.csv').head()"
   ]
  },
  {
   "cell_type": "markdown",
   "id": "fb01114f-a43f-4938-b526-d71ec91f0d16",
   "metadata": {},
   "source": [
    "### Lê o arquivo CSV google_stocks.csv e converte a coluna 'Date' para o formato de data, retornando as 5 primeiras linhas."
   ]
  },
  {
   "cell_type": "code",
   "execution_count": 12,
   "id": "31940b53-88cc-44ac-a82a-11cedd94f2f2",
   "metadata": {},
   "outputs": [
    {
     "data": {
      "text/html": [
       "<div>\n",
       "<style scoped>\n",
       "    .dataframe tbody tr th:only-of-type {\n",
       "        vertical-align: middle;\n",
       "    }\n",
       "\n",
       "    .dataframe tbody tr th {\n",
       "        vertical-align: top;\n",
       "    }\n",
       "\n",
       "    .dataframe thead th {\n",
       "        text-align: right;\n",
       "    }\n",
       "</style>\n",
       "<table border=\"1\" class=\"dataframe\">\n",
       "  <thead>\n",
       "    <tr style=\"text-align: right;\">\n",
       "      <th></th>\n",
       "      <th>Date</th>\n",
       "      <th>Close</th>\n",
       "    </tr>\n",
       "  </thead>\n",
       "  <tbody>\n",
       "    <tr>\n",
       "      <th>0</th>\n",
       "      <td>2004-08-19</td>\n",
       "      <td>49.98</td>\n",
       "    </tr>\n",
       "    <tr>\n",
       "      <th>1</th>\n",
       "      <td>2004-08-20</td>\n",
       "      <td>53.95</td>\n",
       "    </tr>\n",
       "    <tr>\n",
       "      <th>2</th>\n",
       "      <td>2004-08-23</td>\n",
       "      <td>54.50</td>\n",
       "    </tr>\n",
       "    <tr>\n",
       "      <th>3</th>\n",
       "      <td>2004-08-24</td>\n",
       "      <td>52.24</td>\n",
       "    </tr>\n",
       "    <tr>\n",
       "      <th>4</th>\n",
       "      <td>2004-08-25</td>\n",
       "      <td>52.80</td>\n",
       "    </tr>\n",
       "  </tbody>\n",
       "</table>\n",
       "</div>"
      ],
      "text/plain": [
       "        Date  Close\n",
       "0 2004-08-19  49.98\n",
       "1 2004-08-20  53.95\n",
       "2 2004-08-23  54.50\n",
       "3 2004-08-24  52.24\n",
       "4 2004-08-25  52.80"
      ]
     },
     "execution_count": 12,
     "metadata": {},
     "output_type": "execute_result"
    }
   ],
   "source": [
    "pd.read_csv('google_stocks.csv', parse_dates = ['Date']).head()"
   ]
  },
  {
   "cell_type": "markdown",
   "id": "eb853a9d-7832-43aa-ace5-b9efc2915fad",
   "metadata": {},
   "source": [
    "### Lê o arquivo CSV google_stocks.csv, converte a coluna 'Date' para o formato de data e define essa coluna como índice do DataFrame. Em seguida, usa .squeeze() para transformar o DataFrame em uma Series e armazena em SeriesGoogle."
   ]
  },
  {
   "cell_type": "code",
   "execution_count": 14,
   "id": "932e5c20-2dc3-4b49-b0b5-64c8a35366e1",
   "metadata": {},
   "outputs": [],
   "source": [
    "google = pd.read_csv('google_stocks.csv', parse_dates = ['Date'], index_col = 'Date')\n",
    "SeriesGoogle = google.squeeze()"
   ]
  },
  {
   "cell_type": "markdown",
   "id": "500ab994-b13d-4ecb-80f1-5644cc82e7f9",
   "metadata": {},
   "source": [
    "### Lê o arquivo revolutionary_war.csv e retorna as últimas 5 linhas do DataFrame."
   ]
  },
  {
   "cell_type": "code",
   "execution_count": 16,
   "id": "d0dbf8bb-80fe-4c94-b38f-ac03527bf50a",
   "metadata": {},
   "outputs": [
    {
     "data": {
      "text/html": [
       "<div>\n",
       "<style scoped>\n",
       "    .dataframe tbody tr th:only-of-type {\n",
       "        vertical-align: middle;\n",
       "    }\n",
       "\n",
       "    .dataframe tbody tr th {\n",
       "        vertical-align: top;\n",
       "    }\n",
       "\n",
       "    .dataframe thead th {\n",
       "        text-align: right;\n",
       "    }\n",
       "</style>\n",
       "<table border=\"1\" class=\"dataframe\">\n",
       "  <thead>\n",
       "    <tr style=\"text-align: right;\">\n",
       "      <th></th>\n",
       "      <th>Battle</th>\n",
       "      <th>Start Date</th>\n",
       "      <th>State</th>\n",
       "    </tr>\n",
       "  </thead>\n",
       "  <tbody>\n",
       "    <tr>\n",
       "      <th>227</th>\n",
       "      <td>Siege of Fort Henry</td>\n",
       "      <td>9/11/1782</td>\n",
       "      <td>Virginia</td>\n",
       "    </tr>\n",
       "    <tr>\n",
       "      <th>228</th>\n",
       "      <td>Grand Assault on Gibraltar</td>\n",
       "      <td>9/13/1782</td>\n",
       "      <td>NaN</td>\n",
       "    </tr>\n",
       "    <tr>\n",
       "      <th>229</th>\n",
       "      <td>Action of 18 October 1782</td>\n",
       "      <td>10/18/1782</td>\n",
       "      <td>NaN</td>\n",
       "    </tr>\n",
       "    <tr>\n",
       "      <th>230</th>\n",
       "      <td>Action of 6 December 1782</td>\n",
       "      <td>12/6/1782</td>\n",
       "      <td>NaN</td>\n",
       "    </tr>\n",
       "    <tr>\n",
       "      <th>231</th>\n",
       "      <td>Action of 22 January 1783</td>\n",
       "      <td>1/22/1783</td>\n",
       "      <td>Virginia</td>\n",
       "    </tr>\n",
       "  </tbody>\n",
       "</table>\n",
       "</div>"
      ],
      "text/plain": [
       "                         Battle  Start Date     State\n",
       "227         Siege of Fort Henry   9/11/1782  Virginia\n",
       "228  Grand Assault on Gibraltar   9/13/1782       NaN\n",
       "229   Action of 18 October 1782  10/18/1782       NaN\n",
       "230   Action of 6 December 1782   12/6/1782       NaN\n",
       "231   Action of 22 January 1783   1/22/1783  Virginia"
      ]
     },
     "execution_count": 16,
     "metadata": {},
     "output_type": "execute_result"
    }
   ],
   "source": [
    "pd.read_csv('revolutionary_war.csv').tail()"
   ]
  },
  {
   "cell_type": "markdown",
   "id": "4caaddc7-dea8-49db-b7f5-0b77fe989286",
   "metadata": {},
   "source": [
    "### Lê o arquivo revolutionary_war.csv, define a coluna 'Start Date' como índice e converte essa coluna para o formato de data. Em seguida, retorna as últimas 5 linhas."
   ]
  },
  {
   "cell_type": "code",
   "execution_count": 18,
   "id": "f64c90f2-3f2d-43a6-aeef-86c37c33a430",
   "metadata": {},
   "outputs": [
    {
     "data": {
      "text/html": [
       "<div>\n",
       "<style scoped>\n",
       "    .dataframe tbody tr th:only-of-type {\n",
       "        vertical-align: middle;\n",
       "    }\n",
       "\n",
       "    .dataframe tbody tr th {\n",
       "        vertical-align: top;\n",
       "    }\n",
       "\n",
       "    .dataframe thead th {\n",
       "        text-align: right;\n",
       "    }\n",
       "</style>\n",
       "<table border=\"1\" class=\"dataframe\">\n",
       "  <thead>\n",
       "    <tr style=\"text-align: right;\">\n",
       "      <th></th>\n",
       "      <th>Battle</th>\n",
       "      <th>State</th>\n",
       "    </tr>\n",
       "    <tr>\n",
       "      <th>Start Date</th>\n",
       "      <th></th>\n",
       "      <th></th>\n",
       "    </tr>\n",
       "  </thead>\n",
       "  <tbody>\n",
       "    <tr>\n",
       "      <th>1782-09-11</th>\n",
       "      <td>Siege of Fort Henry</td>\n",
       "      <td>Virginia</td>\n",
       "    </tr>\n",
       "    <tr>\n",
       "      <th>1782-09-13</th>\n",
       "      <td>Grand Assault on Gibraltar</td>\n",
       "      <td>NaN</td>\n",
       "    </tr>\n",
       "    <tr>\n",
       "      <th>1782-10-18</th>\n",
       "      <td>Action of 18 October 1782</td>\n",
       "      <td>NaN</td>\n",
       "    </tr>\n",
       "    <tr>\n",
       "      <th>1782-12-06</th>\n",
       "      <td>Action of 6 December 1782</td>\n",
       "      <td>NaN</td>\n",
       "    </tr>\n",
       "    <tr>\n",
       "      <th>1783-01-22</th>\n",
       "      <td>Action of 22 January 1783</td>\n",
       "      <td>Virginia</td>\n",
       "    </tr>\n",
       "  </tbody>\n",
       "</table>\n",
       "</div>"
      ],
      "text/plain": [
       "                                Battle     State\n",
       "Start Date                                      \n",
       "1782-09-11         Siege of Fort Henry  Virginia\n",
       "1782-09-13  Grand Assault on Gibraltar       NaN\n",
       "1782-10-18   Action of 18 October 1782       NaN\n",
       "1782-12-06   Action of 6 December 1782       NaN\n",
       "1783-01-22   Action of 22 January 1783  Virginia"
      ]
     },
     "execution_count": 18,
     "metadata": {},
     "output_type": "execute_result"
    }
   ],
   "source": [
    "pd.read_csv('revolutionary_war.csv', index_col = 'Start Date', parse_dates = ['Start Date'],).tail()"
   ]
  },
  {
   "cell_type": "markdown",
   "id": "bec2898a-15e8-4926-8f2a-26c3746291e0",
   "metadata": {},
   "source": [
    "### Lê o arquivo revolutionary_war.csv, define 'Start Date' como índice, converte essa coluna para o formato de data e seleciona apenas as colunas 'State' e 'Start Date'. Em seguida, transforma o DataFrame em uma Series e armazena em SeriesWarUSA."
   ]
  },
  {
   "cell_type": "code",
   "execution_count": 20,
   "id": "688cac3a-196c-448c-a90d-1b52a771986d",
   "metadata": {},
   "outputs": [],
   "source": [
    "revolutionary_war = pd.read_csv('revolutionary_war.csv', index_col = 'Start Date', parse_dates = ['Start Date'], usecols = ['State', 'Start Date'])\n",
    "SeriesWarUSA = revolutionary_war.squeeze()"
   ]
  },
  {
   "cell_type": "markdown",
   "id": "6209d50f-84f4-4c93-9cad-2bd527196c72",
   "metadata": {},
   "source": [
    "### Ordena os valores da Series SeriesGoogle em ordem crescente."
   ]
  },
  {
   "cell_type": "code",
   "execution_count": 22,
   "id": "fe070659-7978-492d-825b-ee448208bcff",
   "metadata": {},
   "outputs": [
    {
     "data": {
      "text/plain": [
       "Date\n",
       "2004-09-03      49.82\n",
       "2004-09-01      49.94\n",
       "2004-08-19      49.98\n",
       "2004-09-02      50.57\n",
       "2004-09-07      50.60\n",
       "               ...   \n",
       "2019-04-23    1264.55\n",
       "2019-10-25    1265.13\n",
       "2018-07-26    1268.33\n",
       "2019-04-26    1272.18\n",
       "2019-04-29    1287.58\n",
       "Name: Close, Length: 3824, dtype: float64"
      ]
     },
     "execution_count": 22,
     "metadata": {},
     "output_type": "execute_result"
    }
   ],
   "source": [
    "SeriesGoogle.sort_values()"
   ]
  },
  {
   "cell_type": "markdown",
   "id": "a20e81fe-577f-4b31-925f-63b6b87ba3fb",
   "metadata": {},
   "source": [
    "### Ordena os valores da Series SeriesPokemon em ordem crescente."
   ]
  },
  {
   "cell_type": "code",
   "execution_count": 24,
   "id": "9cb72b25-bef2-41fb-bef6-bd5ebce15df1",
   "metadata": {},
   "outputs": [
    {
     "data": {
      "text/plain": [
       "Pokemon\n",
       "Illumise                Bug\n",
       "Silcoon                 Bug\n",
       "Pinsir                  Bug\n",
       "Burmy                   Bug\n",
       "Wurmple                 Bug\n",
       "                  ...      \n",
       "Tirtouga       Water / Rock\n",
       "Relicanth      Water / Rock\n",
       "Corsola        Water / Rock\n",
       "Carracosta     Water / Rock\n",
       "Empoleon      Water / Steel\n",
       "Name: Type, Length: 809, dtype: object"
      ]
     },
     "execution_count": 24,
     "metadata": {},
     "output_type": "execute_result"
    }
   ],
   "source": [
    "SeriesPokemon.sort_values()"
   ]
  },
  {
   "cell_type": "markdown",
   "id": "fe3288a9-c3b9-4976-b27c-49c5baa1a685",
   "metadata": {},
   "source": [
    "### Ordena os valores de uma Series com strings. A ordenação é feita de acordo com a ordem alfabética, respeitando a capitalização."
   ]
  },
  {
   "cell_type": "code",
   "execution_count": 26,
   "id": "b211dbab-0b45-4673-8d79-a5ac687aa865",
   "metadata": {},
   "outputs": [
    {
     "data": {
      "text/plain": [
       "0    Adam\n",
       "2     Zen\n",
       "1    adam\n",
       "dtype: object"
      ]
     },
     "execution_count": 26,
     "metadata": {},
     "output_type": "execute_result"
    }
   ],
   "source": [
    "pd.Series(['Adam', 'adam', 'Zen']).sort_values()"
   ]
  },
  {
   "cell_type": "markdown",
   "id": "8d586fb5-d539-4d83-8c39-66f0d3f2c6d6",
   "metadata": {},
   "source": [
    "### Ordena a Series SeriesGoogle em ordem decrescente e retorna as 5 primeiras linhas."
   ]
  },
  {
   "cell_type": "code",
   "execution_count": 28,
   "id": "dbc5bd13-69df-43a1-b5cc-32bee3d0f519",
   "metadata": {},
   "outputs": [
    {
     "data": {
      "text/plain": [
       "Date\n",
       "2019-04-29    1287.58\n",
       "2019-04-26    1272.18\n",
       "2018-07-26    1268.33\n",
       "2019-10-25    1265.13\n",
       "2019-04-23    1264.55\n",
       "Name: Close, dtype: float64"
      ]
     },
     "execution_count": 28,
     "metadata": {},
     "output_type": "execute_result"
    }
   ],
   "source": [
    "SeriesGoogle.sort_values(ascending = False).head()"
   ]
  },
  {
   "cell_type": "markdown",
   "id": "6af08a2d-f90c-4d41-bd0d-5546387f1aba",
   "metadata": {},
   "source": [
    "### Ordena a Series SeriesPokemon em ordem decrescente e retorna as 5 primeiras linhas.\n"
   ]
  },
  {
   "cell_type": "code",
   "execution_count": 30,
   "id": "e369bd52-1511-44ec-8594-b822e4d579d4",
   "metadata": {},
   "outputs": [
    {
     "data": {
      "text/plain": [
       "Pokemon\n",
       "Empoleon      Water / Steel\n",
       "Corsola        Water / Rock\n",
       "Relicanth      Water / Rock\n",
       "Carracosta     Water / Rock\n",
       "Tirtouga       Water / Rock\n",
       "Name: Type, dtype: object"
      ]
     },
     "execution_count": 30,
     "metadata": {},
     "output_type": "execute_result"
    }
   ],
   "source": [
    "SeriesPokemon.sort_values(ascending = False).head()"
   ]
  },
  {
   "cell_type": "markdown",
   "id": "d721d31d-56be-46e9-b96f-3d7195bc1c6c",
   "metadata": {},
   "source": [
    "### Ordena os valores de SeriesWarUSA. No segundo comando, os valores NaN (ausentes) são colocados no final da ordenação."
   ]
  },
  {
   "cell_type": "code",
   "execution_count": 32,
   "id": "10181815-31bd-4ca0-8ca5-162be601a4ac",
   "metadata": {},
   "outputs": [
    {
     "data": {
      "text/plain": [
       "Start Date\n",
       "1781-09-06    Connecticut\n",
       "1779-07-05    Connecticut\n",
       "1777-04-27    Connecticut\n",
       "1777-09-03       Delaware\n",
       "1777-05-17        Florida\n",
       "                 ...     \n",
       "1782-08-08            NaN\n",
       "1782-08-25            NaN\n",
       "1782-09-13            NaN\n",
       "1782-10-18            NaN\n",
       "1782-12-06            NaN\n",
       "Name: State, Length: 232, dtype: object"
      ]
     },
     "execution_count": 32,
     "metadata": {},
     "output_type": "execute_result"
    }
   ],
   "source": [
    "# The two line below are equivalent\n",
    "SeriesWarUSA.sort_values()\n",
    "SeriesWarUSA.sort_values(na_position = 'last')"
   ]
  },
  {
   "cell_type": "markdown",
   "id": "2ec265d3-4623-441f-b22b-0589a76066b1",
   "metadata": {},
   "source": [
    "### Ordena os valores de SeriesWarUSA, colocando os valores NaN no início da ordenação."
   ]
  },
  {
   "cell_type": "code",
   "execution_count": 34,
   "id": "dc2c11f1-b56d-4abb-bfc8-9cdb6e35a5fb",
   "metadata": {},
   "outputs": [
    {
     "data": {
      "text/plain": [
       "Start Date\n",
       "1775-09-17         NaN\n",
       "1775-12-31         NaN\n",
       "1776-03-03         NaN\n",
       "1776-03-25         NaN\n",
       "1776-05-18         NaN\n",
       "                ...   \n",
       "1781-07-06    Virginia\n",
       "1781-07-01    Virginia\n",
       "1781-06-26    Virginia\n",
       "1781-04-25    Virginia\n",
       "1783-01-22    Virginia\n",
       "Name: State, Length: 232, dtype: object"
      ]
     },
     "execution_count": 34,
     "metadata": {},
     "output_type": "execute_result"
    }
   ],
   "source": [
    "SeriesWarUSA.sort_values(na_position = 'first')"
   ]
  },
  {
   "cell_type": "markdown",
   "id": "f8271cd6-dd9c-403d-b325-cd18fb3afc80",
   "metadata": {},
   "source": [
    "### Remove os valores NaN de SeriesWarUSA e, em seguida, ordena os valores restantes em ordem crescente."
   ]
  },
  {
   "cell_type": "code",
   "execution_count": 36,
   "id": "ca9e40a4-5142-404e-9d97-67671f76eff8",
   "metadata": {},
   "outputs": [
    {
     "data": {
      "text/plain": [
       "Start Date\n",
       "1781-09-06    Connecticut\n",
       "1779-07-05    Connecticut\n",
       "1777-04-27    Connecticut\n",
       "1777-09-03       Delaware\n",
       "1777-05-17        Florida\n",
       "                 ...     \n",
       "1781-07-06       Virginia\n",
       "1781-07-01       Virginia\n",
       "1781-06-26       Virginia\n",
       "1781-04-25       Virginia\n",
       "1783-01-22       Virginia\n",
       "Name: State, Length: 162, dtype: object"
      ]
     },
     "execution_count": 36,
     "metadata": {},
     "output_type": "execute_result"
    }
   ],
   "source": [
    "SeriesWarUSA.dropna().sort_values()"
   ]
  },
  {
   "cell_type": "markdown",
   "id": "85a7c246-8f62-43be-bfec-fcf5c1944b5f",
   "metadata": {},
   "source": [
    "### Ordena SeriesPokemon com base no índice, primeiro de forma crescente (ascending=True)."
   ]
  },
  {
   "cell_type": "code",
   "execution_count": 38,
   "id": "ce70b457-7192-496d-a168-58ed45f7309e",
   "metadata": {},
   "outputs": [
    {
     "data": {
      "text/plain": [
       "Pokemon\n",
       "Abomasnow        Grass / Ice\n",
       "Abra                 Psychic\n",
       "Absol                   Dark\n",
       "Accelgor                 Bug\n",
       "Aegislash      Steel / Ghost\n",
       "                  ...       \n",
       "Zoroark                 Dark\n",
       "Zorua                   Dark\n",
       "Zubat        Poison / Flying\n",
       "Zweilous       Dark / Dragon\n",
       "Zygarde      Dragon / Ground\n",
       "Name: Type, Length: 809, dtype: object"
      ]
     },
     "execution_count": 38,
     "metadata": {},
     "output_type": "execute_result"
    }
   ],
   "source": [
    "# The tow lines belo are equivalent\n",
    "SeriesPokemon.sort_index()\n",
    "SeriesPokemon.sort_index(ascending = True)"
   ]
  },
  {
   "cell_type": "markdown",
   "id": "4bdca4c1-4ff5-4067-819e-fb6c83a3543b",
   "metadata": {},
   "source": [
    "### Ordena os valores de SeriesWarUSA de acordo com o índice em ordem crescente."
   ]
  },
  {
   "cell_type": "code",
   "execution_count": 40,
   "id": "16ac84f2-fae9-411d-8a27-36ae46b1818b",
   "metadata": {},
   "outputs": [
    {
     "data": {
      "text/plain": [
       "Start Date\n",
       "1774-09-01    Massachusetts\n",
       "1774-12-14    New Hampshire\n",
       "1775-04-19    Massachusetts\n",
       "1775-04-19    Massachusetts\n",
       "1775-04-20         Virginia\n",
       "                  ...      \n",
       "1783-01-22         Virginia\n",
       "NaT              New Jersey\n",
       "NaT                Virginia\n",
       "NaT                     NaN\n",
       "NaT                     NaN\n",
       "Name: State, Length: 232, dtype: object"
      ]
     },
     "execution_count": 40,
     "metadata": {},
     "output_type": "execute_result"
    }
   ],
   "source": [
    "SeriesWarUSA.sort_index()"
   ]
  },
  {
   "cell_type": "markdown",
   "id": "58c4ec35-9fcb-4baf-8ab8-1658c8c97757",
   "metadata": {},
   "source": [
    "### Ordena os valores de SeriesWarUSA com base no índice, colocando valores NaN no início da ordenação."
   ]
  },
  {
   "cell_type": "code",
   "execution_count": 42,
   "id": "0fa7db75-a6fd-4b32-9084-776fea31f160",
   "metadata": {},
   "outputs": [
    {
     "data": {
      "text/plain": [
       "Start Date\n",
       "NaT              New Jersey\n",
       "NaT                Virginia\n",
       "NaT                     NaN\n",
       "NaT                     NaN\n",
       "1774-09-01    Massachusetts\n",
       "                  ...      \n",
       "1782-09-11         Virginia\n",
       "1782-09-13              NaN\n",
       "1782-10-18              NaN\n",
       "1782-12-06              NaN\n",
       "1783-01-22         Virginia\n",
       "Name: State, Length: 232, dtype: object"
      ]
     },
     "execution_count": 42,
     "metadata": {},
     "output_type": "execute_result"
    }
   ],
   "source": [
    "SeriesWarUSA.sort_index(na_position = 'first')"
   ]
  },
  {
   "cell_type": "markdown",
   "id": "abeb2a4e-21c9-416f-85e6-6dd2f886d0fd",
   "metadata": {},
   "source": [
    "### Ordena SeriesGoogle em ordem decrescente e retorna as 5 primeiras linhas."
   ]
  },
  {
   "cell_type": "code",
   "execution_count": 44,
   "id": "127d91e1-f04a-4afe-a09a-7386961902d2",
   "metadata": {},
   "outputs": [
    {
     "data": {
      "text/plain": [
       "Date\n",
       "2019-04-29    1287.58\n",
       "2019-04-26    1272.18\n",
       "2018-07-26    1268.33\n",
       "2019-10-25    1265.13\n",
       "2019-04-23    1264.55\n",
       "Name: Close, dtype: float64"
      ]
     },
     "execution_count": 44,
     "metadata": {},
     "output_type": "execute_result"
    }
   ],
   "source": [
    "SeriesGoogle.sort_values(ascending = False).head()"
   ]
  },
  {
   "cell_type": "markdown",
   "id": "807ad1ed-b7b0-4804-973e-e7d274e20335",
   "metadata": {},
   "source": [
    "### Retorna os 5 maiores valores de SeriesGoogle. O segundo comando usa o valor padrão de n=5."
   ]
  },
  {
   "cell_type": "code",
   "execution_count": 46,
   "id": "7e8fb8f5-9f68-47a3-8633-062a272a3f36",
   "metadata": {},
   "outputs": [
    {
     "data": {
      "text/plain": [
       "Date\n",
       "2019-04-29    1287.58\n",
       "2019-04-26    1272.18\n",
       "2018-07-26    1268.33\n",
       "2019-10-25    1265.13\n",
       "2019-04-23    1264.55\n",
       "Name: Close, dtype: float64"
      ]
     },
     "execution_count": 46,
     "metadata": {},
     "output_type": "execute_result"
    }
   ],
   "source": [
    "# The two lines below are equivalent\n",
    "SeriesGoogle.nlargest(n = 5)\n",
    "SeriesGoogle.nlargest()"
   ]
  },
  {
   "cell_type": "markdown",
   "id": "e0f45bd2-09df-4746-9ecf-39a5b7d7fc3f",
   "metadata": {},
   "source": [
    "### Retorna os 5 menores valores de SeriesGoogle. O segundo comando usa o valor padrão de n=5."
   ]
  },
  {
   "cell_type": "code",
   "execution_count": 48,
   "id": "7a717982-1108-45c3-8804-7372e49f9f27",
   "metadata": {},
   "outputs": [
    {
     "data": {
      "text/plain": [
       "Date\n",
       "2004-09-03    49.82\n",
       "2004-09-01    49.94\n",
       "2004-08-19    49.98\n",
       "2004-09-02    50.57\n",
       "2004-09-07    50.60\n",
       "Name: Close, dtype: float64"
      ]
     },
     "execution_count": 48,
     "metadata": {},
     "output_type": "execute_result"
    }
   ],
   "source": [
    "# The two lines below are equivalent\n",
    "SeriesGoogle.nsmallest(n = 5)\n",
    "SeriesGoogle.nsmallest()"
   ]
  },
  {
   "cell_type": "markdown",
   "id": "7af7c367-0a0e-44ad-bb99-091915580771",
   "metadata": {},
   "source": [
    "### Cria uma cópia de SeriesGoogle e armazena em SeriesGoogleCopy."
   ]
  },
  {
   "cell_type": "code",
   "execution_count": 50,
   "id": "223ea7e8-1aad-4eba-b31a-47e11366607a",
   "metadata": {},
   "outputs": [],
   "source": [
    "SeriesGoogleCopy = SeriesGoogle.copy()"
   ]
  },
  {
   "cell_type": "markdown",
   "id": "0ce840dc-086b-4711-a47a-ea02ac7fb9ab",
   "metadata": {},
   "source": [
    "### Ordena SeriesGoogleCopy em ordem crescente, modificando diretamente a variável (usando inplace=True)."
   ]
  },
  {
   "cell_type": "code",
   "execution_count": 52,
   "id": "ad51138d-0aa2-4508-bb79-228e04ba30b2",
   "metadata": {},
   "outputs": [],
   "source": [
    "SeriesGoogleCopy.sort_values(inplace = True)"
   ]
  },
  {
   "cell_type": "markdown",
   "id": "829ef614-6f2e-4546-8758-98cac77d087d",
   "metadata": {},
   "source": [
    "### Exibe as primeiras 5 linhas de SeriesGoogleCopy."
   ]
  },
  {
   "cell_type": "code",
   "execution_count": 54,
   "id": "d9a17011-4233-4742-9e1a-067be9fff8dc",
   "metadata": {},
   "outputs": [
    {
     "data": {
      "text/plain": [
       "Date\n",
       "2004-09-03    49.82\n",
       "2004-09-01    49.94\n",
       "2004-08-19    49.98\n",
       "2004-09-02    50.57\n",
       "2004-09-07    50.60\n",
       "Name: Close, dtype: float64"
      ]
     },
     "execution_count": 54,
     "metadata": {},
     "output_type": "execute_result"
    }
   ],
   "source": [
    "SeriesGoogleCopy.head()"
   ]
  },
  {
   "cell_type": "markdown",
   "id": "c185e80e-20de-4259-ab95-f53100fe37a2",
   "metadata": {},
   "source": [
    "### Exibe as primeiras 5 linhas de SeriesGoogle."
   ]
  },
  {
   "cell_type": "code",
   "execution_count": 56,
   "id": "10852adf-ed06-4d65-89eb-a28a673526c6",
   "metadata": {},
   "outputs": [
    {
     "data": {
      "text/plain": [
       "Date\n",
       "2004-08-19    49.98\n",
       "2004-08-20    53.95\n",
       "2004-08-23    54.50\n",
       "2004-08-24    52.24\n",
       "2004-08-25    52.80\n",
       "Name: Close, dtype: float64"
      ]
     },
     "execution_count": 56,
     "metadata": {},
     "output_type": "execute_result"
    }
   ],
   "source": [
    "SeriesGoogle.head()"
   ]
  },
  {
   "cell_type": "markdown",
   "id": "4b021361-cb35-43f4-b706-d919865d1b8c",
   "metadata": {},
   "source": [
    "### Conta a ocorrência de cada valor único em SeriesPokemon."
   ]
  },
  {
   "cell_type": "code",
   "execution_count": 58,
   "id": "1d4f5c44-bf18-45a4-8779-4c8ae6b80c7c",
   "metadata": {},
   "outputs": [
    {
     "data": {
      "text/plain": [
       "Type\n",
       "Normal                65\n",
       "Water                 61\n",
       "Grass                 38\n",
       "Psychic               35\n",
       "Fire                  30\n",
       "                      ..\n",
       "Fire / Psychic         1\n",
       "Normal / Ground        1\n",
       "Psychic / Fighting     1\n",
       "Dark / Ghost           1\n",
       "Fire / Ghost           1\n",
       "Name: count, Length: 159, dtype: int64"
      ]
     },
     "execution_count": 58,
     "metadata": {},
     "output_type": "execute_result"
    }
   ],
   "source": [
    "SeriesPokemon.value_counts()"
   ]
  },
  {
   "cell_type": "markdown",
   "id": "cd1bc0f4-aa3a-4b3c-9848-3f91912ef5d0",
   "metadata": {},
   "source": [
    "### Retorna o número de valores únicos na Series SeriesPokemon."
   ]
  },
  {
   "cell_type": "markdown",
   "id": "c7501ab6-0a24-4207-a57a-7c0878439dd4",
   "metadata": {},
   "source": [
    "len(SeriesPokemon.value_counts())"
   ]
  },
  {
   "cell_type": "markdown",
   "id": "00406bf4-9ef9-4032-a03b-f93bb8ce016a",
   "metadata": {},
   "source": [
    "### Retorna o número de valores únicos na Series SeriesPokemon."
   ]
  },
  {
   "cell_type": "code",
   "execution_count": 62,
   "id": "dadddbba-4e88-4e7c-babf-f75e626b2f70",
   "metadata": {},
   "outputs": [
    {
     "data": {
      "text/plain": [
       "159"
      ]
     },
     "execution_count": 62,
     "metadata": {},
     "output_type": "execute_result"
    }
   ],
   "source": [
    "SeriesPokemon.nunique()"
   ]
  },
  {
   "cell_type": "markdown",
   "id": "932715c9-24cf-4c97-a444-967bd111edd4",
   "metadata": {},
   "source": [
    "### Conta as ocorrências de valores únicos em SeriesPokemon e ordena os resultados em ordem crescente."
   ]
  },
  {
   "cell_type": "code",
   "execution_count": 64,
   "id": "00ce9c7a-723b-47ca-86be-a0917d4fbd71",
   "metadata": {},
   "outputs": [
    {
     "data": {
      "text/plain": [
       "Type\n",
       "Fire / Ghost         1\n",
       "Fighting / Dark      1\n",
       "Fighting / Steel     1\n",
       "Normal / Ground      1\n",
       "Fire / Psychic       1\n",
       "                    ..\n",
       "Fire                30\n",
       "Psychic             35\n",
       "Grass               38\n",
       "Water               61\n",
       "Normal              65\n",
       "Name: count, Length: 159, dtype: int64"
      ]
     },
     "execution_count": 64,
     "metadata": {},
     "output_type": "execute_result"
    }
   ],
   "source": [
    "SeriesPokemon.value_counts(ascending = True)"
   ]
  },
  {
   "cell_type": "markdown",
   "id": "cc1eeb14-bd7e-4cd2-a89f-1ea09292f79a",
   "metadata": {},
   "source": [
    "### Conta as ocorrências de valores únicos e retorna as proporções relativas (normaliza os valores), mostrando as 5 primeiras linhas."
   ]
  },
  {
   "cell_type": "code",
   "execution_count": 66,
   "id": "e414e317-78a4-450c-8906-b3f0b7904157",
   "metadata": {},
   "outputs": [
    {
     "data": {
      "text/plain": [
       "Type\n",
       "Normal     0.080346\n",
       "Water      0.075402\n",
       "Grass      0.046972\n",
       "Psychic    0.043263\n",
       "Fire       0.037083\n",
       "Name: proportion, dtype: float64"
      ]
     },
     "execution_count": 66,
     "metadata": {},
     "output_type": "execute_result"
    }
   ],
   "source": [
    "SeriesPokemon.value_counts(normalize = True).head()"
   ]
  },
  {
   "cell_type": "markdown",
   "id": "da42b378-ceff-4a0a-8e41-d3d35770504a",
   "metadata": {},
   "source": [
    "### Conta as ocorrências de valores únicos e retorna as proporções relativas multiplicadas por 100 para exibir em percentual."
   ]
  },
  {
   "cell_type": "code",
   "execution_count": 68,
   "id": "c1fdb5c1-1449-4521-8800-47bd4b89aae4",
   "metadata": {},
   "outputs": [
    {
     "data": {
      "text/plain": [
       "Type\n",
       "Normal     8.034611\n",
       "Water      7.540173\n",
       "Grass      4.697157\n",
       "Psychic    4.326329\n",
       "Fire       3.708282\n",
       "Name: proportion, dtype: float64"
      ]
     },
     "execution_count": 68,
     "metadata": {},
     "output_type": "execute_result"
    }
   ],
   "source": [
    "SeriesPokemon.value_counts(normalize = True).head() * 100"
   ]
  },
  {
   "cell_type": "markdown",
   "id": "829cb9a4-4bdc-48ad-b386-68e8fef9e5b8",
   "metadata": {},
   "source": [
    "### Conta as ocorrências de valores únicos, retorna as proporções relativas multiplicadas por 100 e arredonda os resultados para duas casas decimais.\n"
   ]
  },
  {
   "cell_type": "code",
   "execution_count": 70,
   "id": "7e5e4b2d-25bc-4512-b82b-6ffce0d4f00c",
   "metadata": {},
   "outputs": [
    {
     "data": {
      "text/plain": [
       "Type\n",
       "Normal     8.03\n",
       "Water      7.54\n",
       "Grass      4.70\n",
       "Psychic    4.33\n",
       "Fire       3.71\n",
       "Name: proportion, dtype: float64"
      ]
     },
     "execution_count": 70,
     "metadata": {},
     "output_type": "execute_result"
    }
   ],
   "source": [
    "(SeriesPokemon.value_counts(normalize = True).head() *100).round(2)"
   ]
  },
  {
   "cell_type": "markdown",
   "id": "babc5dc1-962c-4dce-9f27-933abc4a5cb5",
   "metadata": {},
   "source": [
    "### Conta as ocorrências de valores únicos em SeriesGoogle e exibe as 5 primeiras linhas."
   ]
  },
  {
   "cell_type": "code",
   "execution_count": 72,
   "id": "c7b6eefb-d9b3-48c5-95c1-50a4cbf6fef8",
   "metadata": {},
   "outputs": [
    {
     "data": {
      "text/plain": [
       "Close\n",
       "287.68    3\n",
       "194.27    3\n",
       "307.10    3\n",
       "288.92    3\n",
       "290.41    3\n",
       "Name: count, dtype: int64"
      ]
     },
     "execution_count": 72,
     "metadata": {},
     "output_type": "execute_result"
    }
   ],
   "source": [
    "SeriesGoogle.value_counts().head()"
   ]
  },
  {
   "cell_type": "markdown",
   "id": "e80c1fe0-b494-4420-9657-5192147b1b89",
   "metadata": {},
   "source": [
    "### Retorna o valor máximo de SeriesGoogle."
   ]
  },
  {
   "cell_type": "code",
   "execution_count": 74,
   "id": "faf51642-4609-4c58-bef9-c28bbdbc7185",
   "metadata": {},
   "outputs": [
    {
     "data": {
      "text/plain": [
       "1287.58"
      ]
     },
     "execution_count": 74,
     "metadata": {},
     "output_type": "execute_result"
    }
   ],
   "source": [
    "SeriesGoogle.max()"
   ]
  },
  {
   "cell_type": "markdown",
   "id": "5ade79aa-6501-428f-9e84-4c2771a43246",
   "metadata": {},
   "source": [
    "### Retorna o valor mínimo de SeriesGoogle."
   ]
  },
  {
   "cell_type": "code",
   "execution_count": 76,
   "id": "63bf560e-2ec4-4433-89a4-270bb6be9105",
   "metadata": {},
   "outputs": [
    {
     "data": {
      "text/plain": [
       "49.82"
      ]
     },
     "execution_count": 76,
     "metadata": {},
     "output_type": "execute_result"
    }
   ],
   "source": [
    "SeriesGoogle.min()"
   ]
  },
  {
   "cell_type": "markdown",
   "id": "1e090983-bf83-4238-a36e-feb1e6365a7d",
   "metadata": {},
   "source": [
    "### Define intervalos numéricos para agrupamento de dados em buckets.\n",
    "### Conta as ocorrências de valores em SeriesGoogle, agrupando-os conforme os intervalos definidos em buckets."
   ]
  },
  {
   "cell_type": "code",
   "execution_count": 81,
   "id": "49989d37-cddd-4d8d-91ea-a3a9f14af60e",
   "metadata": {},
   "outputs": [
    {
     "data": {
      "text/plain": [
       "(200.0, 400.0]      1568\n",
       "(-0.001, 200.0]      595\n",
       "(400.0, 600.0]       575\n",
       "(1000.0, 1200.0]     406\n",
       "(600.0, 800.0]       380\n",
       "(800.0, 1000.0]      207\n",
       "(1200.0, 1400.0]      93\n",
       "Name: count, dtype: int64"
      ]
     },
     "execution_count": 81,
     "metadata": {},
     "output_type": "execute_result"
    }
   ],
   "source": [
    "buckets = [0, 200, 400, 600, 800, 1000, 1200, 1400]\n",
    "SeriesGoogle.value_counts(bins = buckets)"
   ]
  },
  {
   "cell_type": "markdown",
   "id": "34369bc1-dc35-4483-8c26-a000c5f5bfb7",
   "metadata": {},
   "source": [
    "### Conta as ocorrências de valores em SeriesGoogle usando os intervalos em buckets e ordena os resultados pelo índice."
   ]
  },
  {
   "cell_type": "code",
   "execution_count": 83,
   "id": "89ad9c5b-05fd-4524-9ebe-613933cb7429",
   "metadata": {},
   "outputs": [
    {
     "data": {
      "text/plain": [
       "(-0.001, 200.0]      595\n",
       "(200.0, 400.0]      1568\n",
       "(400.0, 600.0]       575\n",
       "(600.0, 800.0]       380\n",
       "(800.0, 1000.0]      207\n",
       "(1000.0, 1200.0]     406\n",
       "(1200.0, 1400.0]      93\n",
       "Name: count, dtype: int64"
      ]
     },
     "execution_count": 83,
     "metadata": {},
     "output_type": "execute_result"
    }
   ],
   "source": [
    "SeriesGoogle.value_counts(bins = buckets).sort_index()"
   ]
  },
  {
   "cell_type": "markdown",
   "id": "424f9ea9-52fd-4e20-ad81-b410a127d824",
   "metadata": {},
   "source": [
    "### Conta as ocorrências de valores em SeriesGoogle com base nos intervalos definidos em buckets sem ordenar os resultados."
   ]
  },
  {
   "cell_type": "code",
   "execution_count": 85,
   "id": "26d2c18c-516e-49b3-a45e-aa3bbd19f899",
   "metadata": {},
   "outputs": [
    {
     "data": {
      "text/plain": [
       "(-0.001, 200.0]      595\n",
       "(200.0, 400.0]      1568\n",
       "(400.0, 600.0]       575\n",
       "(600.0, 800.0]       380\n",
       "(800.0, 1000.0]      207\n",
       "(1000.0, 1200.0]     406\n",
       "(1200.0, 1400.0]      93\n",
       "Name: count, dtype: int64"
      ]
     },
     "execution_count": 85,
     "metadata": {},
     "output_type": "execute_result"
    }
   ],
   "source": [
    "SeriesGoogle.value_counts(bins = buckets, sort = False)"
   ]
  },
  {
   "cell_type": "markdown",
   "id": "28d62f36-5709-4bf4-9d21-b9f0b98e4d1a",
   "metadata": {},
   "source": [
    "### Conta as ocorrências de valores únicos em SeriesWarUSA e exibe as 5 primeiras linhas."
   ]
  },
  {
   "cell_type": "code",
   "execution_count": 87,
   "id": "17178a57-a554-4a9a-89a1-619a2e31dbba",
   "metadata": {},
   "outputs": [
    {
     "data": {
      "text/plain": [
       "State\n",
       "South Carolina    31\n",
       "New York          28\n",
       "New Jersey        24\n",
       "Virginia          21\n",
       "Massachusetts     11\n",
       "Name: count, dtype: int64"
      ]
     },
     "execution_count": 87,
     "metadata": {},
     "output_type": "execute_result"
    }
   ],
   "source": [
    "SeriesWarUSA.value_counts().head()"
   ]
  },
  {
   "cell_type": "markdown",
   "id": "e5bf32ef-85dc-4431-904b-32ec35a84cba",
   "metadata": {},
   "source": [
    "### Conta as ocorrências de valores únicos em SeriesWarUSA, incluindo os valores NaN."
   ]
  },
  {
   "cell_type": "code",
   "execution_count": 89,
   "id": "81d012e3-9668-4c79-922b-667c6705a9d4",
   "metadata": {},
   "outputs": [
    {
     "data": {
      "text/plain": [
       "State\n",
       "NaN               70\n",
       "South Carolina    31\n",
       "New York          28\n",
       "New Jersey        24\n",
       "Virginia          21\n",
       "Name: count, dtype: int64"
      ]
     },
     "execution_count": 89,
     "metadata": {},
     "output_type": "execute_result"
    }
   ],
   "source": [
    "SeriesWarUSA.value_counts(dropna = False).head()"
   ]
  },
  {
   "cell_type": "markdown",
   "id": "229ade09-ce8e-4d30-8971-bea9b04283f1",
   "metadata": {},
   "source": [
    "### Retorna o índice de SeriesWarUSA."
   ]
  },
  {
   "cell_type": "code",
   "execution_count": 91,
   "id": "399cab4f-c583-45d8-99d1-21dde0bb10ae",
   "metadata": {},
   "outputs": [
    {
     "data": {
      "text/plain": [
       "DatetimeIndex(['1774-09-01', '1774-12-14', '1775-04-19', '1775-04-19',\n",
       "               '1775-04-20', '1775-05-10', '1775-05-27', '1775-06-11',\n",
       "               '1775-06-17', '1775-08-08',\n",
       "               ...\n",
       "               '1782-08-08', '1782-08-15', '1782-08-19', '1782-08-26',\n",
       "               '1782-08-25', '1782-09-11', '1782-09-13', '1782-10-18',\n",
       "               '1782-12-06', '1783-01-22'],\n",
       "              dtype='datetime64[ns]', name='Start Date', length=232, freq=None)"
      ]
     },
     "execution_count": 91,
     "metadata": {},
     "output_type": "execute_result"
    }
   ],
   "source": [
    "SeriesWarUSA.index"
   ]
  },
  {
   "cell_type": "markdown",
   "id": "b65ebb47-3e9a-44c7-b8ff-450e9ab234ec",
   "metadata": {},
   "source": [
    "### Conta as ocorrências de valores únicos em SeriesWarUSA."
   ]
  },
  {
   "cell_type": "code",
   "execution_count": 93,
   "id": "6e836edc-6292-4767-9d6b-46dd479bd05f",
   "metadata": {},
   "outputs": [
    {
     "data": {
      "text/plain": [
       "State\n",
       "South Carolina    31\n",
       "New York          28\n",
       "New Jersey        24\n",
       "Virginia          21\n",
       "Massachusetts     11\n",
       "Pennsylvania      10\n",
       "North Carolina     9\n",
       "Florida            8\n",
       "Georgia            6\n",
       "Rhode Island       3\n",
       "Connecticut        3\n",
       "Vermont            3\n",
       "New Hampshire      1\n",
       "Delaware           1\n",
       "Indiana            1\n",
       "Louisiana          1\n",
       "Ohio               1\n",
       "Name: count, dtype: int64"
      ]
     },
     "execution_count": 93,
     "metadata": {},
     "output_type": "execute_result"
    }
   ],
   "source": [
    "SeriesWarUSA.value_counts()"
   ]
  },
  {
   "cell_type": "markdown",
   "id": "dff62a71-9579-4986-aeb8-a816520792c3",
   "metadata": {},
   "source": [
    "### Conta a ocorrência de valores únicos no índice de SeriesWarUSA."
   ]
  },
  {
   "cell_type": "code",
   "execution_count": 95,
   "id": "082e2b9f-98d0-475f-bad9-f66e261986bd",
   "metadata": {},
   "outputs": [
    {
     "data": {
      "text/plain": [
       "Start Date\n",
       "1781-04-25    2\n",
       "1781-05-22    2\n",
       "1780-08-18    2\n",
       "1781-09-13    2\n",
       "1782-03-16    2\n",
       "             ..\n",
       "1778-06-30    1\n",
       "1778-07-03    1\n",
       "1778-07-27    1\n",
       "1778-08-21    1\n",
       "1783-01-22    1\n",
       "Name: count, Length: 217, dtype: int64"
      ]
     },
     "execution_count": 95,
     "metadata": {},
     "output_type": "execute_result"
    }
   ],
   "source": [
    "SeriesWarUSA.index.value_counts()"
   ]
  },
  {
   "cell_type": "code",
   "execution_count": 97,
   "id": "efb16f1f-a28d-4674-9562-5752a69ff361",
   "metadata": {},
   "outputs": [],
   "source": [
    "funcs = [len, max, min]"
   ]
  },
  {
   "cell_type": "code",
   "execution_count": 101,
   "id": "ec6d3625-0d06-45b3-b60f-8f94d8cbeef3",
   "metadata": {},
   "outputs": [
    {
     "name": "stdout",
     "output_type": "stream",
     "text": [
      "3824\n",
      "1287.58\n",
      "49.82\n"
     ]
    }
   ],
   "source": [
    "for current_func in funcs:\n",
    "    print(current_func(SeriesGoogle))"
   ]
  },
  {
   "cell_type": "code",
   "execution_count": 103,
   "id": "ad23945c-2df2-47db-b804-f5a08c5a3a72",
   "metadata": {},
   "outputs": [
    {
     "data": {
      "text/plain": [
       "99"
      ]
     },
     "execution_count": 103,
     "metadata": {},
     "output_type": "execute_result"
    }
   ],
   "source": [
    "round(99.2)"
   ]
  },
  {
   "cell_type": "code",
   "execution_count": 105,
   "id": "1a33f828-fe3d-41f2-9b6a-1ee8c2e761bf",
   "metadata": {},
   "outputs": [
    {
     "data": {
      "text/plain": [
       "99"
      ]
     },
     "execution_count": 105,
     "metadata": {},
     "output_type": "execute_result"
    }
   ],
   "source": [
    "round(99.49)"
   ]
  },
  {
   "cell_type": "code",
   "execution_count": 119,
   "id": "6928afb3-07f3-4491-a5df-149e02d0598e",
   "metadata": {},
   "outputs": [
    {
     "data": {
      "text/plain": [
       "100"
      ]
     },
     "execution_count": 119,
     "metadata": {},
     "output_type": "execute_result"
    }
   ],
   "source": [
    "round(99.5)"
   ]
  },
  {
   "cell_type": "code",
   "execution_count": 121,
   "id": "e452689e-cd30-4ebb-8aad-948f7d7d6e59",
   "metadata": {},
   "outputs": [
    {
     "data": {
      "text/plain": [
       "Date\n",
       "2004-08-19      50\n",
       "2004-08-20      54\n",
       "2004-08-23      54\n",
       "2004-08-24      52\n",
       "2004-08-25      53\n",
       "              ... \n",
       "2019-10-21    1246\n",
       "2019-10-22    1243\n",
       "2019-10-23    1259\n",
       "2019-10-24    1261\n",
       "2019-10-25    1265\n",
       "Name: Close, Length: 3824, dtype: int64"
      ]
     },
     "execution_count": 121,
     "metadata": {},
     "output_type": "execute_result"
    }
   ],
   "source": [
    "# The two lines below are equivalent\n",
    "SeriesGoogle.apply(func = round)\n",
    "SeriesGoogle.apply(round)"
   ]
  },
  {
   "cell_type": "code",
   "execution_count": 123,
   "id": "7732ffeb-c95e-439a-a974-4710c7e5b640",
   "metadata": {},
   "outputs": [],
   "source": [
    "def single_or_multi(pokemon_type):\n",
    "    if '/' in pokemon_type:\n",
    "        return 'Multi'\n",
    "\n",
    "    return 'Single'"
   ]
  },
  {
   "cell_type": "code",
   "execution_count": 125,
   "id": "43bae864-bf70-49e3-891d-8b27ca604dc3",
   "metadata": {},
   "outputs": [
    {
     "data": {
      "text/plain": [
       "Pokemon\n",
       "Bulbasaur     Grass / Poison\n",
       "Ivysaur       Grass / Poison\n",
       "Venusaur      Grass / Poison\n",
       "Charmander              Fire\n",
       "Name: Type, dtype: object"
      ]
     },
     "execution_count": 125,
     "metadata": {},
     "output_type": "execute_result"
    }
   ],
   "source": [
    "SeriesPokemon.head(4)"
   ]
  },
  {
   "cell_type": "code",
   "execution_count": 127,
   "id": "bd4caadb-e271-4228-8b6c-80e5ed62ae48",
   "metadata": {},
   "outputs": [
    {
     "data": {
      "text/plain": [
       "Pokemon\n",
       "Bulbasaur       Multi\n",
       "Ivysaur         Multi\n",
       "Venusaur        Multi\n",
       "Charmander     Single\n",
       "Charmeleon     Single\n",
       "                ...  \n",
       "Stakataka       Multi\n",
       "Blacephalon     Multi\n",
       "Zeraora        Single\n",
       "Meltan         Single\n",
       "Melmetal       Single\n",
       "Name: Type, Length: 809, dtype: object"
      ]
     },
     "execution_count": 127,
     "metadata": {},
     "output_type": "execute_result"
    }
   ],
   "source": [
    "SeriesPokemon.apply(single_or_multi)"
   ]
  },
  {
   "cell_type": "code",
   "execution_count": null,
   "id": "3d681e88-512a-40aa-8ffb-d582c171bff4",
   "metadata": {},
   "outputs": [],
   "source": []
  }
 ],
 "metadata": {
  "kernelspec": {
   "display_name": "Python [conda env:base] *",
   "language": "python",
   "name": "conda-base-py"
  },
  "language_info": {
   "codemirror_mode": {
    "name": "ipython",
    "version": 3
   },
   "file_extension": ".py",
   "mimetype": "text/x-python",
   "name": "python",
   "nbconvert_exporter": "python",
   "pygments_lexer": "ipython3",
   "version": "3.12.7"
  }
 },
 "nbformat": 4,
 "nbformat_minor": 5
}
