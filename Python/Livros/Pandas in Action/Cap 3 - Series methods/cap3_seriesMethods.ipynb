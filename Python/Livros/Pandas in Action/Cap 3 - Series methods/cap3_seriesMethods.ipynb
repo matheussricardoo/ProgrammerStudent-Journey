{
 "cells": [
  {
   "cell_type": "markdown",
   "id": "faeb687d-638a-49b0-9370-22a243caf66f",
   "metadata": {},
   "source": [
    "### Importa a biblioteca pandas e a renomeia como pd."
   ]
  },
  {
   "cell_type": "code",
   "execution_count": null,
   "id": "93886ee0-9c20-4e3a-8728-89747d1ae6ae",
   "metadata": {},
   "outputs": [],
   "source": [
    "import pandas as pd"
   ]
  },
  {
   "cell_type": "markdown",
   "id": "3b44a6a0-2846-4d33-bc7e-840d5e59511f",
   "metadata": {},
   "source": [
    "### As duas linhas de código são equivalentes. Elas carregam o arquivo CSV chamado pokemon.csv em um DataFrame do pandas."
   ]
  },
  {
   "cell_type": "code",
   "execution_count": null,
   "id": "f2c5559d-ad0f-46a4-b146-b5d33e5d6bb1",
   "metadata": {},
   "outputs": [],
   "source": [
    "# The two lines below are equivalent\n",
    "pd.read_csv(filepath_or_buffer = 'pokemon.csv')\n",
    "pd.read_csv('pokemon.csv')"
   ]
  },
  {
   "cell_type": "markdown",
   "id": "4564b378-4a4a-40cb-8bd2-34ce4be943c6",
   "metadata": {},
   "source": [
    "### Lê o arquivo CSV pokemon.csv e define a coluna 'Pokemon' como índice do DataFrame."
   ]
  },
  {
   "cell_type": "code",
   "execution_count": null,
   "id": "c65f9643-914d-4581-a4ba-a8e013c722b1",
   "metadata": {},
   "outputs": [],
   "source": [
    "pd.read_csv('pokemon.csv', index_col = 'Pokemon')"
   ]
  },
  {
   "cell_type": "markdown",
   "id": "573d4cbd-6893-4767-ab24-cad3f45704dc",
   "metadata": {},
   "source": [
    "### Lê o arquivo pokemon.csv, define a coluna 'Pokemon' como índice, e converte o DataFrame em uma Series (usando .squeeze()) para a variável SeriesPokemon."
   ]
  },
  {
   "cell_type": "code",
   "execution_count": null,
   "id": "375f8031-8b74-4bcf-99a0-e82c5420ecd0",
   "metadata": {},
   "outputs": [],
   "source": [
    "pokemon = pd.read_csv('pokemon.csv', index_col = 'Pokemon')\n",
    "SeriesPokemon = pokemon.squeeze()"
   ]
  },
  {
   "cell_type": "markdown",
   "id": "8dc78acf-a372-44ea-a669-eadaa999cec8",
   "metadata": {},
   "source": [
    "### Lê o arquivo CSV google_stocks.csv e retorna as 5 primeiras linhas (por padrão) do DataFrame."
   ]
  },
  {
   "cell_type": "code",
   "execution_count": null,
   "id": "10a25b3f-b685-4b1d-850d-5df60e8b9012",
   "metadata": {},
   "outputs": [],
   "source": [
    "pd.read_csv('google_stocks.csv').head()"
   ]
  },
  {
   "cell_type": "markdown",
   "id": "fb01114f-a43f-4938-b526-d71ec91f0d16",
   "metadata": {},
   "source": [
    "### Lê o arquivo CSV google_stocks.csv e converte a coluna 'Date' para o formato de data, retornando as 5 primeiras linhas."
   ]
  },
  {
   "cell_type": "code",
   "execution_count": null,
   "id": "31940b53-88cc-44ac-a82a-11cedd94f2f2",
   "metadata": {},
   "outputs": [],
   "source": [
    "pd.read_csv('google_stocks.csv', parse_dates = ['Date']).head()"
   ]
  },
  {
   "cell_type": "markdown",
   "id": "eb853a9d-7832-43aa-ace5-b9efc2915fad",
   "metadata": {},
   "source": [
    "### Lê o arquivo CSV google_stocks.csv, converte a coluna 'Date' para o formato de data e define essa coluna como índice do DataFrame. Em seguida, usa .squeeze() para transformar o DataFrame em uma Series e armazena em SeriesGoogle."
   ]
  },
  {
   "cell_type": "code",
   "execution_count": null,
   "id": "932e5c20-2dc3-4b49-b0b5-64c8a35366e1",
   "metadata": {},
   "outputs": [],
   "source": [
    "google = pd.read_csv('google_stocks.csv', parse_dates = ['Date'], index_col = 'Date')\n",
    "SeriesGoogle = google.squeeze()"
   ]
  },
  {
   "cell_type": "markdown",
   "id": "500ab994-b13d-4ecb-80f1-5644cc82e7f9",
   "metadata": {},
   "source": [
    "### Lê o arquivo revolutionary_war.csv e retorna as últimas 5 linhas do DataFrame."
   ]
  },
  {
   "cell_type": "code",
   "execution_count": null,
   "id": "d0dbf8bb-80fe-4c94-b38f-ac03527bf50a",
   "metadata": {},
   "outputs": [],
   "source": [
    "pd.read_csv('revolutionary_war.csv').tail()"
   ]
  },
  {
   "cell_type": "markdown",
   "id": "4caaddc7-dea8-49db-b7f5-0b77fe989286",
   "metadata": {},
   "source": [
    "### Lê o arquivo revolutionary_war.csv, define a coluna 'Start Date' como índice e converte essa coluna para o formato de data. Em seguida, retorna as últimas 5 linhas."
   ]
  },
  {
   "cell_type": "code",
   "execution_count": null,
   "id": "f64c90f2-3f2d-43a6-aeef-86c37c33a430",
   "metadata": {},
   "outputs": [],
   "source": [
    "pd.read_csv('revolutionary_war.csv', index_col = 'Start Date', parse_dates = ['Start Date'],).tail()"
   ]
  },
  {
   "cell_type": "markdown",
   "id": "bec2898a-15e8-4926-8f2a-26c3746291e0",
   "metadata": {},
   "source": [
    "### Lê o arquivo revolutionary_war.csv, define 'Start Date' como índice, converte essa coluna para o formato de data e seleciona apenas as colunas 'State' e 'Start Date'. Em seguida, transforma o DataFrame em uma Series e armazena em SeriesWarUSA."
   ]
  },
  {
   "cell_type": "code",
   "execution_count": null,
   "id": "688cac3a-196c-448c-a90d-1b52a771986d",
   "metadata": {},
   "outputs": [],
   "source": [
    "revolutionary_war = pd.read_csv('revolutionary_war.csv', index_col = 'Start Date', parse_dates = ['Start Date'], usecols = ['State', 'Start Date'])\n",
    "SeriesWarUSA = revolutionary_war.squeeze()"
   ]
  },
  {
   "cell_type": "markdown",
   "id": "6209d50f-84f4-4c93-9cad-2bd527196c72",
   "metadata": {},
   "source": [
    "### Ordena os valores da Series SeriesGoogle em ordem crescente."
   ]
  },
  {
   "cell_type": "code",
   "execution_count": null,
   "id": "fe070659-7978-492d-825b-ee448208bcff",
   "metadata": {},
   "outputs": [],
   "source": [
    "SeriesGoogle.sort_values()"
   ]
  },
  {
   "cell_type": "markdown",
   "id": "a20e81fe-577f-4b31-925f-63b6b87ba3fb",
   "metadata": {},
   "source": [
    "### Ordena os valores da Series SeriesPokemon em ordem crescente."
   ]
  },
  {
   "cell_type": "code",
   "execution_count": null,
   "id": "9cb72b25-bef2-41fb-bef6-bd5ebce15df1",
   "metadata": {},
   "outputs": [],
   "source": [
    "SeriesPokemon.sort_values()"
   ]
  },
  {
   "cell_type": "markdown",
   "id": "fe3288a9-c3b9-4976-b27c-49c5baa1a685",
   "metadata": {},
   "source": [
    "### Ordena os valores de uma Series com strings. A ordenação é feita de acordo com a ordem alfabética, respeitando a capitalização."
   ]
  },
  {
   "cell_type": "code",
   "execution_count": null,
   "id": "b211dbab-0b45-4673-8d79-a5ac687aa865",
   "metadata": {},
   "outputs": [],
   "source": [
    "pd.Series(['Adam', 'adam', 'Zen']).sort_values()"
   ]
  },
  {
   "cell_type": "markdown",
   "id": "8d586fb5-d539-4d83-8c39-66f0d3f2c6d6",
   "metadata": {},
   "source": [
    "### Ordena a Series SeriesGoogle em ordem decrescente e retorna as 5 primeiras linhas."
   ]
  },
  {
   "cell_type": "code",
   "execution_count": null,
   "id": "dbc5bd13-69df-43a1-b5cc-32bee3d0f519",
   "metadata": {},
   "outputs": [],
   "source": [
    "SeriesGoogle.sort_values(ascending = False).head()"
   ]
  },
  {
   "cell_type": "markdown",
   "id": "6af08a2d-f90c-4d41-bd0d-5546387f1aba",
   "metadata": {},
   "source": [
    "### Ordena a Series SeriesPokemon em ordem decrescente e retorna as 5 primeiras linhas.\n"
   ]
  },
  {
   "cell_type": "code",
   "execution_count": null,
   "id": "e369bd52-1511-44ec-8594-b822e4d579d4",
   "metadata": {},
   "outputs": [],
   "source": [
    "SeriesPokemon.sort_values(ascending = False).head()"
   ]
  },
  {
   "cell_type": "markdown",
   "id": "d721d31d-56be-46e9-b96f-3d7195bc1c6c",
   "metadata": {},
   "source": [
    "### Ordena os valores de SeriesWarUSA. No segundo comando, os valores NaN (ausentes) são colocados no final da ordenação."
   ]
  },
  {
   "cell_type": "code",
   "execution_count": null,
   "id": "10181815-31bd-4ca0-8ca5-162be601a4ac",
   "metadata": {},
   "outputs": [],
   "source": [
    "# The two line below are equivalent\n",
    "SeriesWarUSA.sort_values()\n",
    "SeriesWarUSA.sort_values(na_position = 'last')"
   ]
  },
  {
   "cell_type": "markdown",
   "id": "2ec265d3-4623-441f-b22b-0589a76066b1",
   "metadata": {},
   "source": [
    "### Ordena os valores de SeriesWarUSA, colocando os valores NaN no início da ordenação."
   ]
  },
  {
   "cell_type": "code",
   "execution_count": null,
   "id": "dc2c11f1-b56d-4abb-bfc8-9cdb6e35a5fb",
   "metadata": {},
   "outputs": [],
   "source": [
    "SeriesWarUSA.sort_values(na_position = 'first')"
   ]
  },
  {
   "cell_type": "markdown",
   "id": "f8271cd6-dd9c-403d-b325-cd18fb3afc80",
   "metadata": {},
   "source": [
    "### Remove os valores NaN de SeriesWarUSA e, em seguida, ordena os valores restantes em ordem crescente."
   ]
  },
  {
   "cell_type": "code",
   "execution_count": null,
   "id": "ca9e40a4-5142-404e-9d97-67671f76eff8",
   "metadata": {},
   "outputs": [],
   "source": [
    "SeriesWarUSA.dropna().sort_values()"
   ]
  },
  {
   "cell_type": "markdown",
   "id": "85a7c246-8f62-43be-bfec-fcf5c1944b5f",
   "metadata": {},
   "source": [
    "### Ordena SeriesPokemon com base no índice, primeiro de forma crescente (ascending=True)."
   ]
  },
  {
   "cell_type": "code",
   "execution_count": null,
   "id": "ce70b457-7192-496d-a168-58ed45f7309e",
   "metadata": {},
   "outputs": [],
   "source": [
    "# The tow lines belo are equivalent\n",
    "SeriesPokemon.sort_index()\n",
    "SeriesPokemon.sort_index(ascending = True)"
   ]
  },
  {
   "cell_type": "markdown",
   "id": "4bdca4c1-4ff5-4067-819e-fb6c83a3543b",
   "metadata": {},
   "source": [
    "### Ordena os valores de SeriesWarUSA de acordo com o índice em ordem crescente."
   ]
  },
  {
   "cell_type": "code",
   "execution_count": null,
   "id": "16ac84f2-fae9-411d-8a27-36ae46b1818b",
   "metadata": {},
   "outputs": [],
   "source": [
    "SeriesWarUSA.sort_index()"
   ]
  },
  {
   "cell_type": "markdown",
   "id": "58c4ec35-9fcb-4baf-8ab8-1658c8c97757",
   "metadata": {},
   "source": [
    "### Ordena os valores de SeriesWarUSA com base no índice, colocando valores NaN no início da ordenação."
   ]
  },
  {
   "cell_type": "code",
   "execution_count": null,
   "id": "0fa7db75-a6fd-4b32-9084-776fea31f160",
   "metadata": {},
   "outputs": [],
   "source": [
    "SeriesWarUSA.sort_index(na_position = 'first')"
   ]
  },
  {
   "cell_type": "markdown",
   "id": "abeb2a4e-21c9-416f-85e6-6dd2f886d0fd",
   "metadata": {},
   "source": [
    "### Ordena SeriesGoogle em ordem decrescente e retorna as 5 primeiras linhas."
   ]
  },
  {
   "cell_type": "code",
   "execution_count": null,
   "id": "127d91e1-f04a-4afe-a09a-7386961902d2",
   "metadata": {},
   "outputs": [],
   "source": [
    "SeriesGoogle.sort_values(ascending = False).head()"
   ]
  },
  {
   "cell_type": "markdown",
   "id": "807ad1ed-b7b0-4804-973e-e7d274e20335",
   "metadata": {},
   "source": [
    "### Retorna os 5 maiores valores de SeriesGoogle. O segundo comando usa o valor padrão de n=5."
   ]
  },
  {
   "cell_type": "code",
   "execution_count": null,
   "id": "7e8fb8f5-9f68-47a3-8633-062a272a3f36",
   "metadata": {},
   "outputs": [],
   "source": [
    "# The two lines below are equivalent\n",
    "SeriesGoogle.nlargest(n = 5)\n",
    "SeriesGoogle.nlargest()"
   ]
  },
  {
   "cell_type": "markdown",
   "id": "e0f45bd2-09df-4746-9ecf-39a5b7d7fc3f",
   "metadata": {},
   "source": [
    "### Retorna os 5 menores valores de SeriesGoogle. O segundo comando usa o valor padrão de n=5."
   ]
  },
  {
   "cell_type": "code",
   "execution_count": null,
   "id": "7a717982-1108-45c3-8804-7372e49f9f27",
   "metadata": {},
   "outputs": [],
   "source": [
    "# The two lines below are equivalent\n",
    "SeriesGoogle.nsmallest(n = 5)\n",
    "SeriesGoogle.nsmallest()"
   ]
  },
  {
   "cell_type": "markdown",
   "id": "7af7c367-0a0e-44ad-bb99-091915580771",
   "metadata": {},
   "source": [
    "### Cria uma cópia de SeriesGoogle e armazena em SeriesGoogleCopy."
   ]
  },
  {
   "cell_type": "code",
   "execution_count": null,
   "id": "223ea7e8-1aad-4eba-b31a-47e11366607a",
   "metadata": {},
   "outputs": [],
   "source": [
    "SeriesGoogleCopy = SeriesGoogle.copy()"
   ]
  },
  {
   "cell_type": "markdown",
   "id": "0ce840dc-086b-4711-a47a-ea02ac7fb9ab",
   "metadata": {},
   "source": [
    "### Ordena SeriesGoogleCopy em ordem crescente, modificando diretamente a variável (usando inplace=True)."
   ]
  },
  {
   "cell_type": "code",
   "execution_count": null,
   "id": "ad51138d-0aa2-4508-bb79-228e04ba30b2",
   "metadata": {},
   "outputs": [],
   "source": [
    "SeriesGoogleCopy.sort_values(inplace = True)"
   ]
  },
  {
   "cell_type": "markdown",
   "id": "829ef614-6f2e-4546-8758-98cac77d087d",
   "metadata": {},
   "source": [
    "### Exibe as primeiras 5 linhas de SeriesGoogleCopy."
   ]
  },
  {
   "cell_type": "code",
   "execution_count": null,
   "id": "d9a17011-4233-4742-9e1a-067be9fff8dc",
   "metadata": {},
   "outputs": [],
   "source": [
    "SeriesGoogleCopy.head()"
   ]
  },
  {
   "cell_type": "markdown",
   "id": "c185e80e-20de-4259-ab95-f53100fe37a2",
   "metadata": {},
   "source": [
    "### Exibe as primeiras 5 linhas de SeriesGoogle."
   ]
  },
  {
   "cell_type": "code",
   "execution_count": null,
   "id": "10852adf-ed06-4d65-89eb-a28a673526c6",
   "metadata": {},
   "outputs": [],
   "source": [
    "SeriesGoogle.head()"
   ]
  },
  {
   "cell_type": "markdown",
   "id": "4b021361-cb35-43f4-b706-d919865d1b8c",
   "metadata": {},
   "source": [
    "### Conta a ocorrência de cada valor único em SeriesPokemon."
   ]
  },
  {
   "cell_type": "code",
   "execution_count": null,
   "id": "1d4f5c44-bf18-45a4-8779-4c8ae6b80c7c",
   "metadata": {},
   "outputs": [],
   "source": [
    "SeriesPokemon.value_counts()"
   ]
  },
  {
   "cell_type": "markdown",
   "id": "cd1bc0f4-aa3a-4b3c-9848-3f91912ef5d0",
   "metadata": {},
   "source": [
    "### Retorna o número de valores únicos na Series SeriesPokemon."
   ]
  },
  {
   "cell_type": "markdown",
   "id": "c7501ab6-0a24-4207-a57a-7c0878439dd4",
   "metadata": {},
   "source": [
    "len(SeriesPokemon.value_counts())"
   ]
  },
  {
   "cell_type": "markdown",
   "id": "00406bf4-9ef9-4032-a03b-f93bb8ce016a",
   "metadata": {},
   "source": [
    "### Retorna o número de valores únicos na Series SeriesPokemon."
   ]
  },
  {
   "cell_type": "code",
   "execution_count": null,
   "id": "dadddbba-4e88-4e7c-babf-f75e626b2f70",
   "metadata": {},
   "outputs": [],
   "source": [
    "SeriesPokemon.nunique()"
   ]
  },
  {
   "cell_type": "markdown",
   "id": "932715c9-24cf-4c97-a444-967bd111edd4",
   "metadata": {},
   "source": [
    "### Conta as ocorrências de valores únicos em SeriesPokemon e ordena os resultados em ordem crescente."
   ]
  },
  {
   "cell_type": "code",
   "execution_count": null,
   "id": "00ce9c7a-723b-47ca-86be-a0917d4fbd71",
   "metadata": {},
   "outputs": [],
   "source": [
    "SeriesPokemon.value_counts(ascending = True)"
   ]
  },
  {
   "cell_type": "markdown",
   "id": "cc1eeb14-bd7e-4cd2-a89f-1ea09292f79a",
   "metadata": {},
   "source": [
    "### Conta as ocorrências de valores únicos e retorna as proporções relativas (normaliza os valores), mostrando as 5 primeiras linhas."
   ]
  },
  {
   "cell_type": "code",
   "execution_count": null,
   "id": "e414e317-78a4-450c-8906-b3f0b7904157",
   "metadata": {},
   "outputs": [],
   "source": [
    "SeriesPokemon.value_counts(normalize = True).head()"
   ]
  },
  {
   "cell_type": "markdown",
   "id": "da42b378-ceff-4a0a-8e41-d3d35770504a",
   "metadata": {},
   "source": [
    "### Conta as ocorrências de valores únicos e retorna as proporções relativas multiplicadas por 100 para exibir em percentual."
   ]
  },
  {
   "cell_type": "code",
   "execution_count": null,
   "id": "c1fdb5c1-1449-4521-8800-47bd4b89aae4",
   "metadata": {},
   "outputs": [],
   "source": [
    "SeriesPokemon.value_counts(normalize = True).head() * 100"
   ]
  },
  {
   "cell_type": "markdown",
   "id": "829cb9a4-4bdc-48ad-b386-68e8fef9e5b8",
   "metadata": {},
   "source": [
    "### Conta as ocorrências de valores únicos, retorna as proporções relativas multiplicadas por 100 e arredonda os resultados para duas casas decimais.\n"
   ]
  },
  {
   "cell_type": "code",
   "execution_count": null,
   "id": "7e5e4b2d-25bc-4512-b82b-6ffce0d4f00c",
   "metadata": {},
   "outputs": [],
   "source": [
    "(SeriesPokemon.value_counts(normalize = True).head() *100).round(2)"
   ]
  },
  {
   "cell_type": "markdown",
   "id": "babc5dc1-962c-4dce-9f27-933abc4a5cb5",
   "metadata": {},
   "source": [
    "### Conta as ocorrências de valores únicos em SeriesGoogle e exibe as 5 primeiras linhas."
   ]
  },
  {
   "cell_type": "code",
   "execution_count": null,
   "id": "c7b6eefb-d9b3-48c5-95c1-50a4cbf6fef8",
   "metadata": {},
   "outputs": [],
   "source": [
    "SeriesGoogle.value_counts().head()"
   ]
  },
  {
   "cell_type": "markdown",
   "id": "e80c1fe0-b494-4420-9657-5192147b1b89",
   "metadata": {},
   "source": [
    "### Retorna o valor máximo de SeriesGoogle."
   ]
  },
  {
   "cell_type": "code",
   "execution_count": null,
   "id": "faf51642-4609-4c58-bef9-c28bbdbc7185",
   "metadata": {},
   "outputs": [],
   "source": [
    "SeriesGoogle.max()"
   ]
  },
  {
   "cell_type": "markdown",
   "id": "5ade79aa-6501-428f-9e84-4c2771a43246",
   "metadata": {},
   "source": [
    "### Retorna o valor mínimo de SeriesGoogle."
   ]
  },
  {
   "cell_type": "code",
   "execution_count": null,
   "id": "63bf560e-2ec4-4433-89a4-270bb6be9105",
   "metadata": {},
   "outputs": [],
   "source": [
    "SeriesGoogle.min()"
   ]
  },
  {
   "cell_type": "markdown",
   "id": "1e090983-bf83-4238-a36e-feb1e6365a7d",
   "metadata": {},
   "source": [
    "### Define intervalos numéricos para agrupamento de dados em buckets.\n",
    "### Conta as ocorrências de valores em SeriesGoogle, agrupando-os conforme os intervalos definidos em buckets."
   ]
  },
  {
   "cell_type": "markdown",
   "id": "0570c629-d3f7-4aca-ab04-3cdb61a367cd",
   "metadata": {},
   "source": [
    "buckets = [0, 200, 400, 600, 800, 1000, 1200, 1400]\n",
    "SeriesGoogle.value_counts(bins = buckets)"
   ]
  },
  {
   "cell_type": "markdown",
   "id": "34369bc1-dc35-4483-8c26-a000c5f5bfb7",
   "metadata": {},
   "source": [
    "### Conta as ocorrências de valores em SeriesGoogle usando os intervalos em buckets e ordena os resultados pelo índice."
   ]
  },
  {
   "cell_type": "code",
   "execution_count": null,
   "id": "89ad9c5b-05fd-4524-9ebe-613933cb7429",
   "metadata": {},
   "outputs": [],
   "source": [
    "SeriesGoogle.value_counts(bins = buckets).sort_index()"
   ]
  },
  {
   "cell_type": "markdown",
   "id": "424f9ea9-52fd-4e20-ad81-b410a127d824",
   "metadata": {},
   "source": [
    "### Conta as ocorrências de valores em SeriesGoogle com base nos intervalos definidos em buckets sem ordenar os resultados."
   ]
  },
  {
   "cell_type": "code",
   "execution_count": null,
   "id": "26d2c18c-516e-49b3-a45e-aa3bbd19f899",
   "metadata": {},
   "outputs": [],
   "source": [
    "SeriesGoogle.value_counts(bins = buckets, sort = False)"
   ]
  },
  {
   "cell_type": "markdown",
   "id": "28d62f36-5709-4bf4-9d21-b9f0b98e4d1a",
   "metadata": {},
   "source": [
    "### Conta as ocorrências de valores únicos em SeriesWarUSA e exibe as 5 primeiras linhas."
   ]
  },
  {
   "cell_type": "code",
   "execution_count": null,
   "id": "17178a57-a554-4a9a-89a1-619a2e31dbba",
   "metadata": {},
   "outputs": [],
   "source": [
    "SeriesWarUSA.value_counts().head()"
   ]
  },
  {
   "cell_type": "markdown",
   "id": "e5bf32ef-85dc-4431-904b-32ec35a84cba",
   "metadata": {},
   "source": [
    "### Conta as ocorrências de valores únicos em SeriesWarUSA, incluindo os valores NaN."
   ]
  },
  {
   "cell_type": "code",
   "execution_count": null,
   "id": "81d012e3-9668-4c79-922b-667c6705a9d4",
   "metadata": {},
   "outputs": [],
   "source": [
    "SeriesWarUSA.value_counts(dropna = False).head()"
   ]
  },
  {
   "cell_type": "markdown",
   "id": "229ade09-ce8e-4d30-8971-bea9b04283f1",
   "metadata": {},
   "source": [
    "### Retorna o índice de SeriesWarUSA."
   ]
  },
  {
   "cell_type": "code",
   "execution_count": null,
   "id": "399cab4f-c583-45d8-99d1-21dde0bb10ae",
   "metadata": {},
   "outputs": [],
   "source": [
    "SeriesWarUSA.index"
   ]
  },
  {
   "cell_type": "markdown",
   "id": "b65ebb47-3e9a-44c7-b8ff-450e9ab234ec",
   "metadata": {},
   "source": [
    "### Conta as ocorrências de valores únicos em SeriesWarUSA."
   ]
  },
  {
   "cell_type": "code",
   "execution_count": null,
   "id": "6e836edc-6292-4767-9d6b-46dd479bd05f",
   "metadata": {},
   "outputs": [],
   "source": [
    "SeriesWarUSA.value_counts()"
   ]
  },
  {
   "cell_type": "markdown",
   "id": "dff62a71-9579-4986-aeb8-a816520792c3",
   "metadata": {},
   "source": [
    "### Conta a ocorrência de valores únicos no índice de SeriesWarUSA."
   ]
  },
  {
   "cell_type": "code",
   "execution_count": null,
   "id": "082e2b9f-98d0-475f-bad9-f66e261986bd",
   "metadata": {},
   "outputs": [],
   "source": [
    "SeriesWarUSA.index.value_counts()"
   ]
  }
 ],
 "metadata": {
  "kernelspec": {
   "display_name": "Python [conda env:base] *",
   "language": "python",
   "name": "conda-base-py"
  },
  "language_info": {
   "codemirror_mode": {
    "name": "ipython",
    "version": 3
   },
   "file_extension": ".py",
   "mimetype": "text/x-python",
   "name": "python",
   "nbconvert_exporter": "python",
   "pygments_lexer": "ipython3",
   "version": "3.12.7"
  }
 },
 "nbformat": 4,
 "nbformat_minor": 5
}
