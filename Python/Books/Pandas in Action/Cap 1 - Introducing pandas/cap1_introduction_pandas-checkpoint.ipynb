{
 "cells": [
  {
   "cell_type": "markdown",
   "id": "b7ee57ba-e698-475c-839f-d7b2da55b9e3",
   "metadata": {},
   "source": [
    "# Introdução ao Pandas 🐼\n",
    "\n",
    "O **Pandas** é uma biblioteca essencial para análise e manipulação de dados em Python.  \n",
    "Ele fornece estruturas como **DataFrames** e **Series**, facilitando operações como leitura, filtragem, agregação e análise de dados.\n",
    "\n",
    "📌 **O que você aprenderá neste notebook?**  \n",
    "✅ Como importar e usar o Pandas  \n",
    "✅ Como carregar arquivos CSV  \n",
    "✅ Como manipular dados com DataFrames  \n",
    "✅ Como realizar operações comuns em análise de dados  \n",
    "\n",
    "Vamos começar! 🚀\n"
   ]
  },
  {
   "cell_type": "markdown",
   "id": "6cfb35ac-b532-4cd5-89df-42608dd5ee6a",
   "metadata": {},
   "source": [
    "## 📌 Importação de Bibliotecas\n",
    "\n",
    "Antes de trabalhar com dados, precisamos importar o **Pandas**."
   ]
  },
  {
   "cell_type": "code",
   "execution_count": null,
   "id": "14537a91-7a66-4fc1-be71-aa4347114f5b",
   "metadata": {},
   "outputs": [],
   "source": [
    "import pandas as pd"
   ]
  },
  {
   "cell_type": "code",
   "execution_count": null,
   "id": "df8ddf6f-d535-4064-b7a4-55511e2502d4",
   "metadata": {},
   "outputs": [],
   "source": [
    "pd.read_csv(\"movies.csv\")"
   ]
  },
  {
   "cell_type": "code",
   "execution_count": null,
   "id": "277aabb5-4150-4abc-9047-f6ecf84df77e",
   "metadata": {},
   "outputs": [],
   "source": [
    "pd.read_csv('movies.csv', index_col = 'Title')"
   ]
  },
  {
   "cell_type": "code",
   "execution_count": null,
   "id": "9f24be91-bed8-4261-8e59-d2bbea384287",
   "metadata": {},
   "outputs": [],
   "source": [
    "movies = pd.read_csv('movies.csv', index_col = 'Title')"
   ]
  },
  {
   "cell_type": "code",
   "execution_count": null,
   "id": "802e06c0-8f50-454e-a832-605e546b13e3",
   "metadata": {},
   "outputs": [],
   "source": [
    "movies.head(4)"
   ]
  },
  {
   "cell_type": "code",
   "execution_count": null,
   "id": "7f77da9a-aefe-4c30-9915-8e34279a49f1",
   "metadata": {},
   "outputs": [],
   "source": [
    "movies.tail(6)"
   ]
  },
  {
   "cell_type": "code",
   "execution_count": null,
   "id": "95fee98f-0ce0-4e9d-96b0-e35c3a2b664f",
   "metadata": {},
   "outputs": [],
   "source": [
    "len(movies)"
   ]
  },
  {
   "cell_type": "code",
   "execution_count": null,
   "id": "c4df0bbe-9a73-42eb-b75c-d977ffdca2bd",
   "metadata": {},
   "outputs": [],
   "source": [
    "movies.shape"
   ]
  },
  {
   "cell_type": "code",
   "execution_count": null,
   "id": "e9502d33-bd35-4434-8bbf-9a53a6c1a6b3",
   "metadata": {},
   "outputs": [],
   "source": [
    "movies.dtypes"
   ]
  },
  {
   "cell_type": "code",
   "execution_count": null,
   "id": "d7a99d23-36fc-4fde-bfb8-0018e9c74e09",
   "metadata": {},
   "outputs": [],
   "source": [
    "movies.iloc[499]"
   ]
  },
  {
   "cell_type": "code",
   "execution_count": null,
   "id": "8de01731-05f9-44d4-aec8-222afd9bbd93",
   "metadata": {},
   "outputs": [],
   "source": [
    "movies.loc['Forrest Gump']"
   ]
  }
 ],
 "metadata": {
  "kernelspec": {
   "display_name": "Python [conda env:base] *",
   "language": "python",
   "name": "conda-base-py"
  },
  "language_info": {
   "codemirror_mode": {
    "name": "ipython",
    "version": 3
   },
   "file_extension": ".py",
   "mimetype": "text/x-python",
   "name": "python",
   "nbconvert_exporter": "python",
   "pygments_lexer": "ipython3",
   "version": "3.12.7"
  }
 },
 "nbformat": 4,
 "nbformat_minor": 5
}
